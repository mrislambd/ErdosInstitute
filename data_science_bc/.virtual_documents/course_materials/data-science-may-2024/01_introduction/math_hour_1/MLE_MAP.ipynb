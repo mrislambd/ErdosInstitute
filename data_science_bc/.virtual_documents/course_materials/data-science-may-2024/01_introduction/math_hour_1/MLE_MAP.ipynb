











import numpy as np

# Not a good practice to hardcode a random seed like this, but we are doing it so we get consistent results for illustrative purposes.
np.random.seed(216) # Representing my home town till the day I die!

draws = np.random.binomial(n= 1,p = 0.6, size = 1000) # 1000 random coin flips with heads weighted to come up 60% of the time.
p_estimate = draws.sum()/1000
print("Coin flips \n", draws)
print("Estimate of the weight =", p_estimate)





# Generating synthetic data from a normal distribution

np.random.seed(216)

mean = 5
sigma = 3 # standard deviation is 3, so variance is 9.
num_draws = 10000
draws = np.random.normal(loc = mean, scale= sigma, size = num_draws) # 1000 draws from a normal with mean 5 and standard deviation 3.

sample_mean = (1/num_draws)*draws.sum()
sample_variance = np.power((draws - sample_mean), 2).sum()/num_draws
print(sample_mean)
print(sample_variance)








# Seeing Bessel's correction with examples:

np.random.seed(216)

mean = 5
sigma = 3 # standard deviation is 3, so variance is 9.
num_draws = 4
num_samples = 10000
samples = np.random.normal(loc = mean, scale= sigma, size = (num_samples, num_draws)) # 10000 samples each with 4 draws from the distribution.

sample_means = (1/num_draws)*samples.sum(axis=1).reshape(num_samples,1)
sample_means_repeat = np.repeat(sample_means, 4, axis = 1) # repeating the sample means to be the same shape as the samples.


# checking we have the shapes of these things right.

print(samples.shape)
print(sample_means.shape)
print(sample_means_repeat.shape)


sample_variances_mle = np.power(samples - sample_means_repeat,2).sum(axis = 1)/num_draws
sample_variances_bessel = np.power(samples - sample_means_repeat,2).sum(axis = 1)/(num_draws -1)

mean_mle_error = sample_variances_mle.mean() - sigma**2
mean_bessel_error = sample_variances_bessel.mean() - sigma**2

print("The mean error of the MLE estimate is ",mean_mle_error)
print("The mean error of the Bessel corrected estimate is ", mean_bessel_error)






