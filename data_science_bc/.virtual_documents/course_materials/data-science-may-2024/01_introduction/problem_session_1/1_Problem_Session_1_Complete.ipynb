





## Sample Solution
import pandas as pd
import numpy as np
import matplotlib


## Sample Solution
print("pandas", pd.__version__)
print("numpy", np.__version__)
print("matplotlib", matplotlib.__version__)











## sample solution
print(4//2)
print(5//2)


## sample solution
print(4%2)
print(5%2)





## sample solution
def is_divisible(a,b):
    return a%b == 0


## sample solution
print(is_divisible(4,2))
print(is_divisible(5,2))











a = 200903
b = 'apple'
c = [1,2,3,'1','2','3']
d = False


## Sample Solution
def is_string(x):
    return type(x) == str


## Sample Solution
is_string(a)


## Sample Solution
is_string(b)


## Sample Solution
is_string(c)


## Sample Solution
is_string(d)





a = 'Spongebob Squarepants'
b = 'my name is James'
c = 'Happy Birtday'


## sample solution
a.replace(" ", "")





## sample solution
a.lower()






a = 'kayak'
b = 'Patrick Star'
c = 'A Man a Plan a Canal Panama'
d = 9909028


## sample solution
def is_palindrome(x):
    if not is_string(x):
        return None
    clean_x = x.replace(" ","").lower()
    return clean_x == clean_x[::-1]



## sample solution
is_palindrome(a)


## sample solution
is_palindrome(b)


## sample solution
is_palindrome(c)


## sample solution
is_palindrome(d)





## sample solution
def coin_flip():
    flip = np.random.binomial(1, 0.5)
    
    if flip == 0:
        return "T"
    else:
        return "H"


## sample solution
coin_flip()





## sample solution
def play_game():
    flips = coin_flip()
    flips = flips + coin_flip()
    
    while flips[-2:] not in ["HH", "TH"]:
        flips = flips + coin_flip()
        
    if flips[-2:] == "HH":
        winner = "You"
    else:
        winner = "Friend"

    return flips, winner


## sample solution
play_game()







## sample soln
games = [play_game() for i in range(1000)]

print(len([w for w in games if w[1] == "You"])/len(games))
print(np.max([len(game[0]) for game in games]))











## sample solution
df = pd.read_csv("../../data/cookie_recipes.csv")





## sample solution
df.sample(3)





## sample solution
df.eggs.describe()[['min', 'max']]





import matplotlib.pyplot as plt


## sample solution
for c in ['butter', 'flour', 'chips']:
    plt.figure(figsize=(7,5))
    
    plt.scatter(df[c],
                df.rating)
    
    plt.xlabel(c, fontsize=12)
    plt.ylabel("Recipe Rating (out of 5)", fontsize=12)
    
    plt.show()



