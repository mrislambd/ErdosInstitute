





## code here







## code here







## code here







a = 1
b = [1,2,3,4]
c = "hello"


## code here




## code here




## code here







## code here




## code here








