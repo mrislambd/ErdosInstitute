





import numpy as np
import pandas as pd
import matplotlib
import seaborn as sns





[11*i for i in range(1,6)]





i = 1

while i < 8:
    print(i)
    i = i + 1





a = 1
b = [1,2,3,4]
c = "hello"


type(a)


type(b)


type(c)





def print_number(a):
    print(a)


print_number(88888)



