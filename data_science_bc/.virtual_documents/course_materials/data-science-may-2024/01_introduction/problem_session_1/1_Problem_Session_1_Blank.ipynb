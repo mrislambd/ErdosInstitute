





## Code here
!pip install desgld
import pandas as pd
import numpy as np
import matplotlib as plt
import desgld as ds


## Code here
print("pandas", pd.__version__)
print("numpy", np.__version__)
print("matplotlib",plt.__version__)


## Code here













## code here




## code here




## code here







## code here




## code here













a = 200903
b = 'apple'
c = [1,2,3,'1','2','3']
d = False


## Code here




## Code here




## Code here




## Code here




## Code here







a = 'Spongebob Squarepants'
b = 'my name is James'
c = 'Happy Birtday'


## code here




## code here




## code here







## code here




## code here




## code here







a = 'kayak'
b = 'Patrick Star'
c = 'A Man a Plan a Canal Panama'
d = 9909028


## code here




## code here




## code here







## code here




## code here




## code here







## code here





## code here





## code here








## code here




## code here




## code here













## code here






## code here







## code here







## code here




## code here




## code here








