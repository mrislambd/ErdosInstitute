import numpy as np
from numpy import linalg


M=np.array([[2, -1, 0 ],[-1, 2, 0],[0, 0, 2]])
st_pts=np.dot(linalg.inv(M),[[2],[-3],[-1]])
print('Stationary point is \n',st_pts)



