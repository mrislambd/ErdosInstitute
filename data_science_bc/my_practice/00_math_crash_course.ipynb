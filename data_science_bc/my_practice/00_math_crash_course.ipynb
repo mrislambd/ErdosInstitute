{
 "cells": [
  {
   "cell_type": "code",
   "execution_count": 2,
   "id": "f7158e61-57a2-4947-9512-1ec7221ff158",
   "metadata": {},
   "outputs": [],
   "source": [
    "import numpy as np\n",
    "from numpy import linalg"
   ]
  },
  {
   "cell_type": "code",
   "execution_count": 4,
   "id": "d26e1870-0651-4630-8a0b-bd69aea73546",
   "metadata": {},
   "outputs": [
    {
     "name": "stdout",
     "output_type": "stream",
     "text": [
      "Stationary point is \n",
      " [[ 0.33333333]\n",
      " [-1.33333333]\n",
      " [-0.5       ]]\n"
     ]
    }
   ],
   "source": [
    "M=np.array([[2, -1, 0 ],[-1, 2, 0],[0, 0, 2]])\n",
    "st_pts=np.dot(linalg.inv(M),[[2],[-3],[-1]])\n",
    "print('Stationary point is \\n',st_pts)"
   ]
  },
  {
   "cell_type": "code",
   "execution_count": null,
   "id": "2e1b6dcd-8280-4014-932a-6e3bb8efc9e4",
   "metadata": {},
   "outputs": [],
   "source": []
  }
 ],
 "metadata": {
  "kernelspec": {
   "display_name": "Python 3 (ipykernel)",
   "language": "python",
   "name": "python3"
  },
  "language_info": {
   "codemirror_mode": {
    "name": "ipython",
    "version": 3
   },
   "file_extension": ".py",
   "mimetype": "text/x-python",
   "name": "python",
   "nbconvert_exporter": "python",
   "pygments_lexer": "ipython3",
   "version": "3.11.7"
  }
 },
 "nbformat": 4,
 "nbformat_minor": 5
}
