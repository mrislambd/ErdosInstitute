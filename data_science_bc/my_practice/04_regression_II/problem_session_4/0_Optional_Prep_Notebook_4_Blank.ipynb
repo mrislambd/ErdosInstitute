{
 "cells": [
  {
   "cell_type": "markdown",
   "id": "75cfed8b",
   "metadata": {},
   "source": [
    "# Prep Notebook 4\n",
    "## More Regression Work\n",
    "\n",
    "This notebook has a few exercises that can serve as a primer for what to expect in the `Problem Session 4` notebook."
   ]
  },
  {
   "cell_type": "markdown",
   "id": "9dfe702f",
   "metadata": {},
   "source": [
    "#### 1. Reading a .csv file\n",
    "\n",
    "Read in the `carseats.csv` file using `pandas`. Store it in a variable named `carseats`."
   ]
  },
  {
   "cell_type": "code",
   "execution_count": 6,
   "id": "21a6d2ab",
   "metadata": {},
   "outputs": [],
   "source": [
    "## code here\n",
    "import pandas as pd\n",
    "import seaborn as sns\n",
    "sns.set_style(\"whitegrid\")"
   ]
  },
  {
   "cell_type": "code",
   "execution_count": 7,
   "id": "d8f1852e",
   "metadata": {},
   "outputs": [],
   "source": [
    "## code here\n",
    "carseats=pd.read_csv('../../../Data/carseats.csv')"
   ]
  },
  {
   "cell_type": "code",
   "execution_count": 8,
   "id": "0dc2e180",
   "metadata": {},
   "outputs": [
    {
     "data": {
      "text/plain": [
       "Index(['Sales', 'CompPrice', 'Income', 'Advertising', 'Population', 'Price',\n",
       "       'ShelveLoc', 'Age', 'Education', 'Urban', 'US'],\n",
       "      dtype='object')"
      ]
     },
     "execution_count": 8,
     "metadata": {},
     "output_type": "execute_result"
    }
   ],
   "source": [
    "## code here\n",
    "carseats.columns"
   ]
  },
  {
   "cell_type": "code",
   "execution_count": 9,
   "id": "7ab8769f-cf8e-49d6-9551-4c6e63759914",
   "metadata": {},
   "outputs": [
    {
     "data": {
      "text/html": [
       "<div>\n",
       "<style scoped>\n",
       "    .dataframe tbody tr th:only-of-type {\n",
       "        vertical-align: middle;\n",
       "    }\n",
       "\n",
       "    .dataframe tbody tr th {\n",
       "        vertical-align: top;\n",
       "    }\n",
       "\n",
       "    .dataframe thead th {\n",
       "        text-align: right;\n",
       "    }\n",
       "</style>\n",
       "<table border=\"1\" class=\"dataframe\">\n",
       "  <thead>\n",
       "    <tr style=\"text-align: right;\">\n",
       "      <th></th>\n",
       "      <th>Sales</th>\n",
       "      <th>CompPrice</th>\n",
       "      <th>Income</th>\n",
       "      <th>Advertising</th>\n",
       "      <th>Population</th>\n",
       "      <th>Price</th>\n",
       "      <th>ShelveLoc</th>\n",
       "      <th>Age</th>\n",
       "      <th>Education</th>\n",
       "      <th>Urban</th>\n",
       "      <th>US</th>\n",
       "    </tr>\n",
       "  </thead>\n",
       "  <tbody>\n",
       "    <tr>\n",
       "      <th>0</th>\n",
       "      <td>9.50</td>\n",
       "      <td>138</td>\n",
       "      <td>73</td>\n",
       "      <td>11</td>\n",
       "      <td>276</td>\n",
       "      <td>120</td>\n",
       "      <td>Bad</td>\n",
       "      <td>42</td>\n",
       "      <td>17</td>\n",
       "      <td>Yes</td>\n",
       "      <td>Yes</td>\n",
       "    </tr>\n",
       "    <tr>\n",
       "      <th>1</th>\n",
       "      <td>11.22</td>\n",
       "      <td>111</td>\n",
       "      <td>48</td>\n",
       "      <td>16</td>\n",
       "      <td>260</td>\n",
       "      <td>83</td>\n",
       "      <td>Good</td>\n",
       "      <td>65</td>\n",
       "      <td>10</td>\n",
       "      <td>Yes</td>\n",
       "      <td>Yes</td>\n",
       "    </tr>\n",
       "    <tr>\n",
       "      <th>2</th>\n",
       "      <td>10.06</td>\n",
       "      <td>113</td>\n",
       "      <td>35</td>\n",
       "      <td>10</td>\n",
       "      <td>269</td>\n",
       "      <td>80</td>\n",
       "      <td>Medium</td>\n",
       "      <td>59</td>\n",
       "      <td>12</td>\n",
       "      <td>Yes</td>\n",
       "      <td>Yes</td>\n",
       "    </tr>\n",
       "    <tr>\n",
       "      <th>3</th>\n",
       "      <td>7.40</td>\n",
       "      <td>117</td>\n",
       "      <td>100</td>\n",
       "      <td>4</td>\n",
       "      <td>466</td>\n",
       "      <td>97</td>\n",
       "      <td>Medium</td>\n",
       "      <td>55</td>\n",
       "      <td>14</td>\n",
       "      <td>Yes</td>\n",
       "      <td>Yes</td>\n",
       "    </tr>\n",
       "    <tr>\n",
       "      <th>4</th>\n",
       "      <td>4.15</td>\n",
       "      <td>141</td>\n",
       "      <td>64</td>\n",
       "      <td>3</td>\n",
       "      <td>340</td>\n",
       "      <td>128</td>\n",
       "      <td>Bad</td>\n",
       "      <td>38</td>\n",
       "      <td>13</td>\n",
       "      <td>Yes</td>\n",
       "      <td>No</td>\n",
       "    </tr>\n",
       "  </tbody>\n",
       "</table>\n",
       "</div>"
      ],
      "text/plain": [
       "   Sales  CompPrice  Income  Advertising  Population  Price ShelveLoc  Age  \\\n",
       "0   9.50        138      73           11         276    120       Bad   42   \n",
       "1  11.22        111      48           16         260     83      Good   65   \n",
       "2  10.06        113      35           10         269     80    Medium   59   \n",
       "3   7.40        117     100            4         466     97    Medium   55   \n",
       "4   4.15        141      64            3         340    128       Bad   38   \n",
       "\n",
       "   Education Urban   US  \n",
       "0         17   Yes  Yes  \n",
       "1         10   Yes  Yes  \n",
       "2         12   Yes  Yes  \n",
       "3         14   Yes  Yes  \n",
       "4         13   Yes   No  "
      ]
     },
     "execution_count": 9,
     "metadata": {},
     "output_type": "execute_result"
    }
   ],
   "source": [
    "carseats.head()"
   ]
  },
  {
   "cell_type": "markdown",
   "id": "fa5e294a",
   "metadata": {},
   "source": [
    "#### 2. Descriptive statistics\n",
    "\n",
    "##### a.\n",
    "\n",
    "Find the mean and median of `Sales`."
   ]
  },
  {
   "cell_type": "code",
   "execution_count": 4,
   "id": "9bbb4658",
   "metadata": {},
   "outputs": [
    {
     "data": {
      "text/plain": [
       "7.496325000000001"
      ]
     },
     "execution_count": 4,
     "metadata": {},
     "output_type": "execute_result"
    }
   ],
   "source": [
    "## code here\n",
    "carseats['Sales'].mean()"
   ]
  },
  {
   "cell_type": "code",
   "execution_count": 5,
   "id": "eaccd473",
   "metadata": {},
   "outputs": [
    {
     "data": {
      "text/plain": [
       "7.49"
      ]
     },
     "execution_count": 5,
     "metadata": {},
     "output_type": "execute_result"
    }
   ],
   "source": [
    "## code here\n",
    "carseats['Sales'].median()"
   ]
  },
  {
   "cell_type": "markdown",
   "id": "56a93d3f",
   "metadata": {},
   "source": [
    "##### b.\n",
    "\n",
    "Use `groupby`, <a href=\"https://pandas.pydata.org/docs/reference/api/pandas.DataFrame.groupby.html\">https://pandas.pydata.org/docs/reference/api/pandas.DataFrame.groupby.html</a>, to find the mean and median value of `Sales` for each possible value of `ShelveLoc`."
   ]
  },
  {
   "cell_type": "code",
   "execution_count": 11,
   "id": "fd94fbb8",
   "metadata": {},
   "outputs": [
    {
     "data": {
      "text/plain": [
       "ShelveLoc\n",
       "Bad        5.522917\n",
       "Good      10.214000\n",
       "Medium     7.306575\n",
       "Name: Sales, dtype: float64"
      ]
     },
     "execution_count": 11,
     "metadata": {},
     "output_type": "execute_result"
    }
   ],
   "source": [
    "## code here\n",
    "carseats.groupby('ShelveLoc').Sales.mean()[['Bad','Good','Medium']]"
   ]
  },
  {
   "cell_type": "code",
   "execution_count": 12,
   "id": "b5240a6b",
   "metadata": {},
   "outputs": [
    {
     "data": {
      "text/plain": [
       "ShelveLoc\n",
       "Bad        5.21\n",
       "Good      10.50\n",
       "Medium     7.38\n",
       "Name: Sales, dtype: float64"
      ]
     },
     "execution_count": 12,
     "metadata": {},
     "output_type": "execute_result"
    }
   ],
   "source": [
    "## code here\n",
    "carseats.groupby('ShelveLoc').Sales.median()[['Bad','Good','Medium']]"
   ]
  },
  {
   "cell_type": "code",
   "execution_count": null,
   "id": "67872e9f",
   "metadata": {},
   "outputs": [],
   "source": [
    "## code here\n"
   ]
  },
  {
   "cell_type": "markdown",
   "id": "05bc4941",
   "metadata": {},
   "source": [
    "#### 3. Box-and-whisker plots\n",
    "\n",
    "A box-and-whisker plot is one way in which you can display some aspects of the empirical distribution for a given variable. In the diagram below you can see the features of a box-and-whisker plot.\n",
    "\n",
    "<img src=\"boxplot.png\" width=\"27%\"></img>\n",
    "\n",
    "The \"box\" of the plot displays the <i>interquartile range</i> (IQR) by placing the 25th percentile at the base and the 75th percentile at the top. The median line is drawn inside the box. The \"whiskers\" of the plot extend from the box and typically extend to 1.5 times the IQR above the 75th percentile and below the 25th percentile. <i>Note: that this is not always standard and each piece of software handles the whiskers differently.</i>\n",
    "\n",
    "##### a. \n",
    "\n",
    "Use `seaborn`'s `boxplot` function to visualize the empirical distribution of `Sales`.\n",
    "\n",
    "<a href=\"https://seaborn.pydata.org/generated/seaborn.boxplot.html\">https://seaborn.pydata.org/generated/seaborn.boxplot.html</a>."
   ]
  },
  {
   "cell_type": "code",
   "execution_count": 16,
   "id": "7e134836",
   "metadata": {},
   "outputs": [
    {
     "data": {
      "image/png": "[encoded data removed]",
      "text/plain": [
       "<Figure size 800x600 with 1 Axes>"
      ]
     },
     "metadata": {},
     "output_type": "display_data"
    }
   ],
   "source": [
    "## code here\n",
    "import matplotlib.pyplot as plt\n",
    "plt.figure(figsize=(8,6))\n",
    "sns.boxplot(data=carseats,\n",
    "            y='Sales')\n",
    "plt.ylabel(\"Sales\", fontsize=16)\n",
    "plt.yticks(fontsize=14)\n",
    "\n",
    "plt.show()"
   ]
  },
  {
   "cell_type": "code",
   "execution_count": null,
   "id": "7502d75c",
   "metadata": {},
   "outputs": [],
   "source": [
    "## code here\n"
   ]
  },
  {
   "cell_type": "markdown",
   "id": "5fe415e2",
   "metadata": {},
   "source": [
    "##### b.\n",
    "\n",
    "Now use `boxplot` to plot the box-and-whisker plot of `Sales` by value of `ShelveLoc`."
   ]
  },
  {
   "cell_type": "code",
   "execution_count": 18,
   "id": "ff999936",
   "metadata": {},
   "outputs": [
    {
     "data": {
      "image/png": "[encoded data removed]",
      "text/plain": [
       "<Figure size 1000x800 with 1 Axes>"
      ]
     },
     "metadata": {},
     "output_type": "display_data"
    }
   ],
   "source": [
    "## code here\n",
    "plt.figure(figsize=(10,8))\n",
    "sns.boxplot(data=carseats,\n",
    "            y='Sales',\n",
    "            x='ShelveLoc')\n",
    "plt.ylabel(\"Sales\", fontsize=16)\n",
    "plt.yticks(fontsize=14)\n",
    "\n",
    "plt.show()"
   ]
  },
  {
   "cell_type": "code",
   "execution_count": null,
   "id": "6c3d42cd",
   "metadata": {},
   "outputs": [],
   "source": [
    "## code here\n"
   ]
  },
  {
   "cell_type": "markdown",
   "id": "e864d984",
   "metadata": {},
   "source": [
    "##### c.\n",
    "\n",
    "Figure out how to use the `order` argument to `boxplot` to arrange the `ShelveLoc` box-and-whisker plots in the order of increasing quality."
   ]
  },
  {
   "cell_type": "code",
   "execution_count": 19,
   "id": "5da395e5",
   "metadata": {},
   "outputs": [
    {
     "data": {
      "image/png": "[encoded data removed]",
      "text/plain": [
       "<Figure size 800x600 with 1 Axes>"
      ]
     },
     "metadata": {},
     "output_type": "display_data"
    }
   ],
   "source": [
    "## code here\n",
    "plt.figure(figsize = (8,6))\n",
    "\n",
    "sns.boxplot(data = carseats,\n",
    "               y = 'Sales',\n",
    "               x = 'ShelveLoc',\n",
    "               order = ['Bad', 'Medium', 'Good'])\n",
    "\n",
    "plt.ylabel(\"Sales\", fontsize=16)\n",
    "plt.yticks(fontsize=14)\n",
    "\n",
    "plt.xlabel(\"Shelve Location\", fontsize=16)\n",
    "plt.xticks(fontsize=14)\n",
    "\n",
    "plt.show()"
   ]
  },
  {
   "cell_type": "code",
   "execution_count": null,
   "id": "574ff3cf",
   "metadata": {},
   "outputs": [],
   "source": [
    "## code here\n"
   ]
  },
  {
   "cell_type": "markdown",
   "id": "5c6b4269",
   "metadata": {},
   "source": [
    "#### 4. Train test split\n",
    "\n",
    "Make a train test split of `carseats`. Set aside 73% of the data as a training set."
   ]
  },
  {
   "cell_type": "code",
   "execution_count": 20,
   "id": "fdd0da0a",
   "metadata": {},
   "outputs": [],
   "source": [
    "## code here\n",
    "from sklearn.model_selection import train_test_split"
   ]
  },
  {
   "cell_type": "code",
   "execution_count": 21,
   "id": "addd100e",
   "metadata": {},
   "outputs": [],
   "source": [
    "## code here\n",
    "carseats_train, carseats_test=train_test_split(carseats, \n",
    "                                               shuffle=True,\n",
    "                                               random_state=101,\n",
    "                                              test_size=(1-0.73))"
   ]
  },
  {
   "cell_type": "code",
   "execution_count": 22,
   "id": "7cd1b0c5",
   "metadata": {},
   "outputs": [],
   "source": [
    "## code here\n",
    "carseats_train, carseats_test=train_test_split(carseats, \n",
    "                                               shuffle=True,\n",
    "                                               random_state=101,\n",
    "                                               train_size=0.73)"
   ]
  },
  {
   "cell_type": "markdown",
   "id": "b404632a",
   "metadata": {},
   "source": [
    "#### 5. Cross-validation\n",
    "\n",
    "Print out the training and holdout indices for a 7-fold cross-validation of `carseats_train`."
   ]
  },
  {
   "cell_type": "code",
   "execution_count": 23,
   "id": "96bd9258",
   "metadata": {},
   "outputs": [],
   "source": [
    "## code here\n",
    "from sklearn.model_selection import KFold"
   ]
  },
  {
   "cell_type": "code",
   "execution_count": null,
   "id": "50258e88",
   "metadata": {},
   "outputs": [],
   "source": [
    "## code here\n",
    "kfold=KFold(7,\n",
    "            shuffle=True,\n",
    "            random_state=101)\n",
    "i=0\n",
    "for train_index,test_index in kfold.split(carseats_train):\n",
    "    print(\"CV Split:\", i)\n",
    "    print(\"=============\")\n",
    "    print(\"Train:\",train_index)\n",
    "    print(\"Train:\",train_index)"
   ]
  },
  {
   "cell_type": "code",
   "execution_count": null,
   "id": "18d8e5e4",
   "metadata": {},
   "outputs": [],
   "source": [
    "## code here\n"
   ]
  },
  {
   "cell_type": "markdown",
   "id": "95bdea3c",
   "metadata": {},
   "source": [
    "--------------------------\n",
    "\n",
    "This notebook was written for the Erd&#337;s Institute C&#337;de Data Science Boot Camp by Matthew Osborne, Ph. D., 2023.\n",
    "\n",
    "Any potential redistributors must seek and receive permission from Matthew Tyler Osborne, Ph.D. prior to redistribution. Redistribution of the material contained in this repository is conditional on acknowledgement of Matthew Tyler Osborne, Ph.D.'s original authorship and sponsorship of the Erdős Institute as subject to the license (see License.md)"
   ]
  },
  {
   "cell_type": "code",
   "execution_count": null,
   "id": "799e5ffb",
   "metadata": {},
   "outputs": [],
   "source": []
  }
 ],
 "metadata": {
  "kernelspec": {
   "display_name": "Python 3 (ipykernel)",
   "language": "python",
   "name": "python3"
  },
  "language_info": {
   "codemirror_mode": {
    "name": "ipython",
    "version": 3
   },
   "file_extension": ".py",
   "mimetype": "text/x-python",
   "name": "python",
   "nbconvert_exporter": "python",
   "pygments_lexer": "ipython3",
   "version": "3.11.7"
  }
 },
 "nbformat": 4,
 "nbformat_minor": 5
}
