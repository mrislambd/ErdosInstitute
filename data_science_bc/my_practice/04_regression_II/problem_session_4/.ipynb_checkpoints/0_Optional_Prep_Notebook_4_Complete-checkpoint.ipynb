{
 "cells": [
  {
   "cell_type": "markdown",
   "id": "75cfed8b",
   "metadata": {},
   "source": [
    "# Prep Notebook 4\n",
    "## More Regression Work\n",
    "\n",
    "This notebook has a few exercises that can serve as a primer for what to expect in the `Problem Session 4` notebook."
   ]
  },
  {
   "cell_type": "markdown",
   "id": "9dfe702f",
   "metadata": {},
   "source": [
    "#### 1. Reading a .csv file\n",
    "\n",
    "Read in the `carseats.csv` file using `pandas`. Store it in a variable named `carseats`."
   ]
  },
  {
   "cell_type": "markdown",
   "id": "e3ba04f6",
   "metadata": {},
   "source": [
    "##### Sample Solution"
   ]
  },
  {
   "cell_type": "code",
   "execution_count": 1,
   "id": "b0568046",
   "metadata": {},
   "outputs": [],
   "source": [
    "import pandas as pd"
   ]
  },
  {
   "cell_type": "code",
   "execution_count": 2,
   "id": "98faa0cf",
   "metadata": {},
   "outputs": [],
   "source": [
    "carseats = pd.read_csv(\"../../data/carseats.csv\")"
   ]
  },
  {
   "cell_type": "code",
   "execution_count": 3,
   "id": "e8c98266",
   "metadata": {},
   "outputs": [
    {
     "data": {
      "text/html": [
       "<div>\n",
       "<style scoped>\n",
       "    .dataframe tbody tr th:only-of-type {\n",
       "        vertical-align: middle;\n",
       "    }\n",
       "\n",
       "    .dataframe tbody tr th {\n",
       "        vertical-align: top;\n",
       "    }\n",
       "\n",
       "    .dataframe thead th {\n",
       "        text-align: right;\n",
       "    }\n",
       "</style>\n",
       "<table border=\"1\" class=\"dataframe\">\n",
       "  <thead>\n",
       "    <tr style=\"text-align: right;\">\n",
       "      <th></th>\n",
       "      <th>Sales</th>\n",
       "      <th>CompPrice</th>\n",
       "      <th>Income</th>\n",
       "      <th>Advertising</th>\n",
       "      <th>Population</th>\n",
       "      <th>Price</th>\n",
       "      <th>ShelveLoc</th>\n",
       "      <th>Age</th>\n",
       "      <th>Education</th>\n",
       "      <th>Urban</th>\n",
       "      <th>US</th>\n",
       "    </tr>\n",
       "  </thead>\n",
       "  <tbody>\n",
       "    <tr>\n",
       "      <th>0</th>\n",
       "      <td>9.50</td>\n",
       "      <td>138</td>\n",
       "      <td>73</td>\n",
       "      <td>11</td>\n",
       "      <td>276</td>\n",
       "      <td>120</td>\n",
       "      <td>Bad</td>\n",
       "      <td>42</td>\n",
       "      <td>17</td>\n",
       "      <td>Yes</td>\n",
       "      <td>Yes</td>\n",
       "    </tr>\n",
       "    <tr>\n",
       "      <th>1</th>\n",
       "      <td>11.22</td>\n",
       "      <td>111</td>\n",
       "      <td>48</td>\n",
       "      <td>16</td>\n",
       "      <td>260</td>\n",
       "      <td>83</td>\n",
       "      <td>Good</td>\n",
       "      <td>65</td>\n",
       "      <td>10</td>\n",
       "      <td>Yes</td>\n",
       "      <td>Yes</td>\n",
       "    </tr>\n",
       "    <tr>\n",
       "      <th>2</th>\n",
       "      <td>10.06</td>\n",
       "      <td>113</td>\n",
       "      <td>35</td>\n",
       "      <td>10</td>\n",
       "      <td>269</td>\n",
       "      <td>80</td>\n",
       "      <td>Medium</td>\n",
       "      <td>59</td>\n",
       "      <td>12</td>\n",
       "      <td>Yes</td>\n",
       "      <td>Yes</td>\n",
       "    </tr>\n",
       "    <tr>\n",
       "      <th>3</th>\n",
       "      <td>7.40</td>\n",
       "      <td>117</td>\n",
       "      <td>100</td>\n",
       "      <td>4</td>\n",
       "      <td>466</td>\n",
       "      <td>97</td>\n",
       "      <td>Medium</td>\n",
       "      <td>55</td>\n",
       "      <td>14</td>\n",
       "      <td>Yes</td>\n",
       "      <td>Yes</td>\n",
       "    </tr>\n",
       "    <tr>\n",
       "      <th>4</th>\n",
       "      <td>4.15</td>\n",
       "      <td>141</td>\n",
       "      <td>64</td>\n",
       "      <td>3</td>\n",
       "      <td>340</td>\n",
       "      <td>128</td>\n",
       "      <td>Bad</td>\n",
       "      <td>38</td>\n",
       "      <td>13</td>\n",
       "      <td>Yes</td>\n",
       "      <td>No</td>\n",
       "    </tr>\n",
       "  </tbody>\n",
       "</table>\n",
       "</div>"
      ],
      "text/plain": [
       "   Sales  CompPrice  Income  Advertising  Population  Price ShelveLoc  Age  \\\n",
       "0   9.50        138      73           11         276    120       Bad   42   \n",
       "1  11.22        111      48           16         260     83      Good   65   \n",
       "2  10.06        113      35           10         269     80    Medium   59   \n",
       "3   7.40        117     100            4         466     97    Medium   55   \n",
       "4   4.15        141      64            3         340    128       Bad   38   \n",
       "\n",
       "   Education Urban   US  \n",
       "0         17   Yes  Yes  \n",
       "1         10   Yes  Yes  \n",
       "2         12   Yes  Yes  \n",
       "3         14   Yes  Yes  \n",
       "4         13   Yes   No  "
      ]
     },
     "execution_count": 3,
     "metadata": {},
     "output_type": "execute_result"
    }
   ],
   "source": [
    "carseats.head()"
   ]
  },
  {
   "cell_type": "markdown",
   "id": "fa5e294a",
   "metadata": {},
   "source": [
    "#### 2. Descriptive statistics\n",
    "\n",
    "##### a.\n",
    "\n",
    "Find the mean and median of `Sales`."
   ]
  },
  {
   "cell_type": "markdown",
   "id": "1dd7a908",
   "metadata": {},
   "source": [
    "##### Sample Solution"
   ]
  },
  {
   "cell_type": "code",
   "execution_count": 4,
   "id": "936b3f55",
   "metadata": {},
   "outputs": [
    {
     "data": {
      "text/plain": [
       "7.496325000000001"
      ]
     },
     "execution_count": 4,
     "metadata": {},
     "output_type": "execute_result"
    }
   ],
   "source": [
    "carseats.Sales.mean()"
   ]
  },
  {
   "cell_type": "code",
   "execution_count": 5,
   "id": "3b050ae2",
   "metadata": {},
   "outputs": [
    {
     "data": {
      "text/plain": [
       "7.49"
      ]
     },
     "execution_count": 5,
     "metadata": {},
     "output_type": "execute_result"
    }
   ],
   "source": [
    "carseats.Sales.median()"
   ]
  },
  {
   "cell_type": "markdown",
   "id": "56a93d3f",
   "metadata": {},
   "source": [
    "##### b.\n",
    "\n",
    "Use `groupby`, <a href=\"https://pandas.pydata.org/docs/reference/api/pandas.DataFrame.groupby.html\">https://pandas.pydata.org/docs/reference/api/pandas.DataFrame.groupby.html</a>, to find the mean and median value of `Sales` for each possible value of `ShelveLoc`."
   ]
  },
  {
   "cell_type": "markdown",
   "id": "96288e40",
   "metadata": {},
   "source": [
    "##### Sample Solution"
   ]
  },
  {
   "cell_type": "code",
   "execution_count": 6,
   "id": "bd8ccf76",
   "metadata": {},
   "outputs": [
    {
     "data": {
      "text/plain": [
       "ShelveLoc\n",
       "Bad        5.522917\n",
       "Medium     7.306575\n",
       "Good      10.214000\n",
       "Name: Sales, dtype: float64"
      ]
     },
     "execution_count": 6,
     "metadata": {},
     "output_type": "execute_result"
    }
   ],
   "source": [
    "carseats.groupby('ShelveLoc').Sales.mean()[['Bad', 'Medium', 'Good']]"
   ]
  },
  {
   "cell_type": "code",
   "execution_count": 7,
   "id": "ea5b3814",
   "metadata": {},
   "outputs": [
    {
     "data": {
      "text/plain": [
       "ShelveLoc\n",
       "Bad        5.21\n",
       "Medium     7.38\n",
       "Good      10.50\n",
       "Name: Sales, dtype: float64"
      ]
     },
     "execution_count": 7,
     "metadata": {},
     "output_type": "execute_result"
    }
   ],
   "source": [
    "carseats.groupby('ShelveLoc').Sales.median()[['Bad', 'Medium', 'Good']]"
   ]
  },
  {
   "cell_type": "markdown",
   "id": "05bc4941",
   "metadata": {},
   "source": [
    "#### 3. Box-and-whisker plots\n",
    "\n",
    "A box-and-whisker plot is one way in which you can display some aspects of the empirical distribution for a given variable. In the diagram below you can see the features of a box-and-whisker plot.\n",
    "\n",
    "<img src=\"boxplot.png\" width=\"27%\"></img>\n",
    "\n",
    "The \"box\" of the plot displays the <i>interquartile range</i> (IQR) by placing the 25th percentile at the base and the 75th percentile at the top. The median line is drawn inside the box. The \"whiskers\" of the plot extend from the box and typically extend to 1.5 times the IQR above the 75th percentile and below the 25th percentile. <i>Note: that this is not always standard and each piece of software handles the whiskers differently.</i>\n",
    "\n",
    "##### a. \n",
    "\n",
    "Use `seaborn`'s `boxplot` function to visualize the empirical distribution of `Sales`.\n",
    "\n",
    "<a href=\"https://seaborn.pydata.org/generated/seaborn.boxplot.html\">https://seaborn.pydata.org/generated/seaborn.boxplot.html</a>."
   ]
  },
  {
   "cell_type": "markdown",
   "id": "3704fbcd",
   "metadata": {},
   "source": [
    "##### Sample Solution"
   ]
  },
  {
   "cell_type": "code",
   "execution_count": 8,
   "id": "5fa33f9b",
   "metadata": {},
   "outputs": [],
   "source": [
    "import matplotlib.pyplot as plt\n",
    "import seaborn as sns\n",
    "sns.set_style(\"whitegrid\")"
   ]
  },
  {
   "cell_type": "code",
   "execution_count": 9,
   "id": "71896b54",
   "metadata": {},
   "outputs": [
    {
     "data": {
      "image/png": "[encoded data removed]",
      "text/plain": [
       "<Figure size 400x600 with 1 Axes>"
      ]
     },
     "metadata": {},
     "output_type": "display_data"
    }
   ],
   "source": [
    "plt.figure(figsize = (4,6))\n",
    "\n",
    "sns.boxplot(data = carseats,\n",
    "               y = 'Sales')\n",
    "\n",
    "plt.ylabel(\"Sales\", fontsize=16)\n",
    "plt.yticks(fontsize=14)\n",
    "\n",
    "plt.show()"
   ]
  },
  {
   "cell_type": "markdown",
   "id": "5fe415e2",
   "metadata": {},
   "source": [
    "##### b.\n",
    "\n",
    "Now use `boxplot` to plot the box-and-whisker plot of `Sales` by value of `ShelveLoc`."
   ]
  },
  {
   "cell_type": "markdown",
   "id": "e97fdee2",
   "metadata": {},
   "source": [
    "##### Sample Solution"
   ]
  },
  {
   "cell_type": "code",
   "execution_count": 10,
   "id": "6f3ace66",
   "metadata": {},
   "outputs": [
    {
     "data": {
      "image/png": "[encoded data removed]",
      "text/plain": [
       "<Figure size 800x600 with 1 Axes>"
      ]
     },
     "metadata": {},
     "output_type": "display_data"
    }
   ],
   "source": [
    "plt.figure(figsize = (8,6))\n",
    "\n",
    "sns.boxplot(data = carseats,\n",
    "               y = 'Sales',\n",
    "               x = 'ShelveLoc')\n",
    "\n",
    "plt.ylabel(\"Sales\", fontsize=16)\n",
    "plt.yticks(fontsize=14)\n",
    "\n",
    "plt.xlabel(\"Shelve Location\", fontsize=16)\n",
    "plt.xticks(fontsize=14)\n",
    "\n",
    "plt.show()"
   ]
  },
  {
   "cell_type": "markdown",
   "id": "e864d984",
   "metadata": {},
   "source": [
    "##### c.\n",
    "\n",
    "Figure out how to use the `order` argument to `boxplot` to arrange the `ShelveLoc` box-and-whisker plots in the order of increasing quality."
   ]
  },
  {
   "cell_type": "markdown",
   "id": "3414bda5",
   "metadata": {},
   "source": [
    "##### Sample Solution"
   ]
  },
  {
   "cell_type": "code",
   "execution_count": 11,
   "id": "ccff94ff",
   "metadata": {},
   "outputs": [
    {
     "data": {
      "image/png": "[encoded data removed]",
      "text/plain": [
       "<Figure size 800x600 with 1 Axes>"
      ]
     },
     "metadata": {},
     "output_type": "display_data"
    }
   ],
   "source": [
    "plt.figure(figsize = (8,6))\n",
    "\n",
    "sns.boxplot(data = carseats,\n",
    "               y = 'Sales',\n",
    "               x = 'ShelveLoc',\n",
    "               order = ['Bad', 'Medium', 'Good'])\n",
    "\n",
    "plt.ylabel(\"Sales\", fontsize=16)\n",
    "plt.yticks(fontsize=14)\n",
    "\n",
    "plt.xlabel(\"Shelve Location\", fontsize=16)\n",
    "plt.xticks(fontsize=14)\n",
    "\n",
    "plt.show()"
   ]
  },
  {
   "cell_type": "markdown",
   "id": "5c6b4269",
   "metadata": {},
   "source": [
    "#### 4. Train test split\n",
    "\n",
    "Make a train test split of `carseats`. Set aside 73% of the data as a training set."
   ]
  },
  {
   "cell_type": "markdown",
   "id": "6d6734a7",
   "metadata": {},
   "source": [
    "##### Sample Solution"
   ]
  },
  {
   "cell_type": "code",
   "execution_count": 12,
   "id": "7d9882bd",
   "metadata": {},
   "outputs": [],
   "source": [
    "from sklearn.model_selection import train_test_split"
   ]
  },
  {
   "cell_type": "code",
   "execution_count": 13,
   "id": "bec25207",
   "metadata": {},
   "outputs": [],
   "source": [
    "carseats_train, carseats_test = train_test_split(carseats.copy(),\n",
    "                                                    train_size=.73,\n",
    "                                                    random_state=123,\n",
    "                                                    shuffle=True)"
   ]
  },
  {
   "cell_type": "markdown",
   "id": "b404632a",
   "metadata": {},
   "source": [
    "#### 5. Cross-validation\n",
    "\n",
    "Print out the training and holdout indices for a 7-fold cross-validation of `carseats_train`."
   ]
  },
  {
   "cell_type": "markdown",
   "id": "20a965db",
   "metadata": {},
   "source": [
    "##### Sample Solution"
   ]
  },
  {
   "cell_type": "code",
   "execution_count": 14,
   "id": "f72a9339",
   "metadata": {},
   "outputs": [],
   "source": [
    "from sklearn.model_selection import KFold"
   ]
  },
  {
   "cell_type": "code",
   "execution_count": 15,
   "id": "9e3b93f5",
   "metadata": {},
   "outputs": [
    {
     "name": "stdout",
     "output_type": "stream",
     "text": [
      "CV Split: 0\n",
      "==================\n",
      "Train: [  0   1   2   3   4   5   6   7   8   9  10  11  12  13  14  15  17  18\n",
      "  19  20  21  22  23  24  25  28  29  30  31  32  33  34  35  36  37  39\n",
      "  40  41  42  43  44  45  46  47  48  49  50  51  53  54  55  56  57  58\n",
      "  59  60  61  62  63  67  68  69  70  71  72  73  74  75  76  77  78  79\n",
      "  80  81  83  84  85  86  87  89  90  91  92  93  94  95  96  97  99 102\n",
      " 104 105 107 108 109 110 111 112 113 114 115 117 118 119 120 121 122 123\n",
      " 124 125 126 127 129 130 133 134 135 137 138 139 140 141 142 143 144 145\n",
      " 146 147 148 149 150 151 152 153 154 155 156 157 158 159 160 161 163 165\n",
      " 166 167 169 170 171 172 173 175 177 178 179 180 181 182 183 184 186 187\n",
      " 188 189 190 192 193 194 195 196 197 198 199 200 201 202 203 204 206 207\n",
      " 208 210 211 212 213 214 215 216 217 218 219 221 222 223 224 225 226 227\n",
      " 228 229 230 231 232 233 234 236 237 238 239 240 241 242 243 244 245 247\n",
      " 248 249 250 251 252 253 254 255 256 257 258 260 261 262 264 266 267 268\n",
      " 269 270 271 273 274 275 276 277 279 280 281 282 283 285 287 289]\n",
      "Test: [ 16  26  27  38  52  64  65  66  82  88  98 100 101 103 106 116 128 131\n",
      " 132 136 162 164 168 174 176 185 191 205 209 220 235 246 259 263 265 272\n",
      " 278 284 286 288 290 291]\n",
      "\n",
      "CV Split: 1\n",
      "==================\n",
      "Train: [  0   1   2   4   5   6   7   8   9  10  11  12  13  14  15  16  17  18\n",
      "  21  22  23  24  25  26  27  28  29  30  31  32  34  35  36  37  38  39\n",
      "  40  41  42  44  45  46  47  48  49  50  51  52  53  54  56  57  58  59\n",
      "  60  61  62  63  64  65  66  67  68  69  70  71  72  74  75  76  77  78\n",
      "  79  80  81  82  85  86  87  88  89  90  91  92  93  94  95  96  97  98\n",
      "  99 100 101 102 103 104 106 108 109 110 112 113 115 116 117 119 123 125\n",
      " 126 128 130 131 132 133 134 135 136 137 138 140 141 142 143 144 146 147\n",
      " 148 149 150 152 154 155 156 157 158 159 160 161 162 163 164 165 166 168\n",
      " 169 171 172 173 174 175 176 177 179 180 181 182 183 184 185 186 187 188\n",
      " 189 190 191 193 195 196 198 199 200 202 203 205 206 207 208 209 210 211\n",
      " 213 214 215 216 217 218 220 221 222 223 224 225 227 228 229 230 231 232\n",
      " 234 235 236 237 239 240 241 243 244 245 246 247 248 249 251 252 253 254\n",
      " 255 257 258 259 260 261 262 263 264 265 266 267 268 269 270 271 272 273\n",
      " 274 275 276 278 279 281 282 283 284 285 286 287 288 289 290 291]\n",
      "Test: [  3  19  20  33  43  55  73  83  84 105 107 111 114 118 120 121 122 124\n",
      " 127 129 139 145 151 153 167 170 178 192 194 197 201 204 212 219 226 233\n",
      " 238 242 250 256 277 280]\n",
      "\n",
      "CV Split: 2\n",
      "==================\n",
      "Train: [  0   2   3   4   6   7   8   9  10  11  13  14  15  16  17  18  19  20\n",
      "  21  22  23  24  25  26  27  28  30  31  32  33  35  36  37  38  41  42\n",
      "  43  45  46  47  48  49  51  52  54  55  56  57  58  59  60  61  62  63\n",
      "  64  65  66  67  71  72  73  74  75  76  77  78  79  80  81  82  83  84\n",
      "  85  86  87  88  89  90  91  92  93  94  96  98 100 101 102 103 104 105\n",
      " 106 107 109 110 111 112 113 114 115 116 117 118 119 120 121 122 124 125\n",
      " 126 127 128 129 130 131 132 133 134 135 136 137 138 139 140 141 142 143\n",
      " 145 146 148 150 151 152 153 154 155 156 159 161 162 163 164 166 167 168\n",
      " 169 170 171 173 174 175 176 177 178 179 180 181 182 184 185 186 187 188\n",
      " 189 191 192 193 194 196 197 198 200 201 202 203 204 205 206 207 208 209\n",
      " 210 211 212 213 215 217 218 219 220 221 223 226 227 228 229 230 231 232\n",
      " 233 234 235 237 238 239 240 241 242 244 245 246 247 248 249 250 251 252\n",
      " 253 255 256 257 258 259 260 261 262 263 265 266 267 268 269 270 271 272\n",
      " 273 277 278 279 280 281 282 283 284 285 286 287 288 289 290 291]\n",
      "Test: [  1   5  12  29  34  39  40  44  50  53  68  69  70  95  97  99 108 123\n",
      " 144 147 149 157 158 160 165 172 183 190 195 199 214 216 222 224 225 236\n",
      " 243 254 264 274 275 276]\n",
      "\n",
      "CV Split: 3\n",
      "==================\n",
      "Train: [  0   1   3   4   5   6   7   8   9  10  11  12  13  14  15  16  17  19\n",
      "  20  21  22  23  24  25  26  27  28  29  30  31  32  33  34  35  36  37\n",
      "  38  39  40  42  43  44  45  47  48  50  52  53  55  56  58  61  63  64\n",
      "  65  66  67  68  69  70  71  72  73  75  76  77  78  79  80  81  82  83\n",
      "  84  86  87  88  90  92  95  97  98  99 100 101 102 103 104 105 106 107\n",
      " 108 109 111 113 114 115 116 117 118 119 120 121 122 123 124 125 127 128\n",
      " 129 130 131 132 133 134 135 136 137 139 140 143 144 145 147 148 149 150\n",
      " 151 152 153 154 155 156 157 158 159 160 161 162 164 165 166 167 168 169\n",
      " 170 171 172 173 174 176 178 179 180 183 184 185 186 188 189 190 191 192\n",
      " 193 194 195 196 197 199 200 201 202 203 204 205 206 207 209 210 212 213\n",
      " 214 216 217 218 219 220 222 223 224 225 226 227 228 229 230 231 233 234\n",
      " 235 236 237 238 240 241 242 243 244 245 246 247 248 249 250 251 252 253\n",
      " 254 256 257 258 259 260 261 262 263 264 265 266 267 268 269 270 272 274\n",
      " 275 276 277 278 279 280 281 282 283 284 286 287 288 289 290 291]\n",
      "Test: [  2  18  41  46  49  51  54  57  59  60  62  74  85  89  91  93  94  96\n",
      " 110 112 126 138 141 142 146 163 175 177 181 182 187 198 208 211 215 221\n",
      " 232 239 255 271 273 285]\n",
      "\n",
      "CV Split: 4\n",
      "==================\n",
      "Train: [  0   1   2   3   4   5   6  10  12  14  15  16  17  18  19  20  21  22\n",
      "  23  25  26  27  28  29  33  34  35  36  37  38  39  40  41  43  44  45\n",
      "  46  47  49  50  51  52  53  54  55  56  57  58  59  60  61  62  63  64\n",
      "  65  66  67  68  69  70  72  73  74  75  77  79  80  81  82  83  84  85\n",
      "  86  87  88  89  91  92  93  94  95  96  97  98  99 100 101 103 104 105\n",
      " 106 107 108 109 110 111 112 113 114 116 117 118 119 120 121 122 123 124\n",
      " 125 126 127 128 129 131 132 134 136 137 138 139 141 142 144 145 146 147\n",
      " 148 149 151 152 153 154 155 156 157 158 160 161 162 163 164 165 167 168\n",
      " 169 170 171 172 174 175 176 177 178 180 181 182 183 184 185 186 187 188\n",
      " 190 191 192 194 195 196 197 198 199 200 201 202 203 204 205 206 207 208\n",
      " 209 211 212 214 215 216 217 218 219 220 221 222 223 224 225 226 227 228\n",
      " 229 230 232 233 234 235 236 237 238 239 240 241 242 243 244 245 246 248\n",
      " 249 250 251 253 254 255 256 257 258 259 260 262 263 264 265 268 271 272\n",
      " 273 274 275 276 277 278 280 282 284 285 286 287 288 289 290 291]\n",
      "Test: [  7   8   9  11  13  24  30  31  32  42  48  71  76  78  90 102 115 130\n",
      " 133 135 140 143 150 159 166 173 179 189 193 210 213 231 247 252 261 266\n",
      " 267 269 270 279 281 283]\n",
      "\n",
      "CV Split: 5\n",
      "==================\n",
      "Train: [  1   2   3   5   7   8   9  10  11  12  13  16  18  19  20  21  22  23\n",
      "  24  26  27  29  30  31  32  33  34  36  38  39  40  41  42  43  44  45\n",
      "  46  48  49  50  51  52  53  54  55  56  57  59  60  62  64  65  66  67\n",
      "  68  69  70  71  73  74  76  77  78  80  82  83  84  85  87  88  89  90\n",
      "  91  92  93  94  95  96  97  98  99 100 101 102 103 104 105 106 107 108\n",
      " 109 110 111 112 114 115 116 117 118 120 121 122 123 124 126 127 128 129\n",
      " 130 131 132 133 134 135 136 138 139 140 141 142 143 144 145 146 147 148\n",
      " 149 150 151 152 153 154 155 156 157 158 159 160 161 162 163 164 165 166\n",
      " 167 168 169 170 171 172 173 174 175 176 177 178 179 181 182 183 185 186\n",
      " 187 189 190 191 192 193 194 195 197 198 199 201 203 204 205 206 207 208\n",
      " 209 210 211 212 213 214 215 216 217 219 220 221 222 224 225 226 227 228\n",
      " 229 230 231 232 233 235 236 237 238 239 240 242 243 245 246 247 248 250\n",
      " 252 253 254 255 256 259 261 263 264 265 266 267 268 269 270 271 272 273\n",
      " 274 275 276 277 278 279 280 281 282 283 284 285 286 288 289 290 291]\n",
      "Test: [  0   4   6  14  15  17  25  28  35  37  47  58  61  63  72  75  79  81\n",
      "  86 113 119 125 137 180 184 188 196 200 202 218 223 234 241 244 249 251\n",
      " 257 258 260 262 287]\n",
      "\n",
      "CV Split: 6\n",
      "==================\n",
      "Train: [  0   1   2   3   4   5   6   7   8   9  11  12  13  14  15  16  17  18\n",
      "  19  20  24  25  26  27  28  29  30  31  32  33  34  35  37  38  39  40\n",
      "  41  42  43  44  46  47  48  49  50  51  52  53  54  55  57  58  59  60\n",
      "  61  62  63  64  65  66  68  69  70  71  72  73  74  75  76  78  79  81\n",
      "  82  83  84  85  86  88  89  90  91  93  94  95  96  97  98  99 100 101\n",
      " 102 103 105 106 107 108 110 111 112 113 114 115 116 118 119 120 121 122\n",
      " 123 124 125 126 127 128 129 130 131 132 133 135 136 137 138 139 140 141\n",
      " 142 143 144 145 146 147 149 150 151 153 157 158 159 160 162 163 164 165\n",
      " 166 167 168 170 172 173 174 175 176 177 178 179 180 181 182 183 184 185\n",
      " 187 188 189 190 191 192 193 194 195 196 197 198 199 200 201 202 204 205\n",
      " 208 209 210 211 212 213 214 215 216 218 219 220 221 222 223 224 225 226\n",
      " 231 232 233 234 235 236 238 239 241 242 243 244 246 247 249 250 251 252\n",
      " 254 255 256 257 258 259 260 261 262 263 264 265 266 267 269 270 271 272\n",
      " 273 274 275 276 277 278 279 280 281 283 284 285 286 287 288 290 291]\n",
      "Test: [ 10  21  22  23  36  45  56  67  77  80  87  92 104 109 117 134 148 152\n",
      " 154 155 156 161 169 171 186 203 206 207 217 227 228 229 230 237 240 245\n",
      " 248 253 268 282 289]\n",
      "\n"
     ]
    }
   ],
   "source": [
    "kfold = KFold(7,\n",
    "                shuffle=True,\n",
    "                random_state=5309)\n",
    "\n",
    "i = 0\n",
    "for train_index, test_index in kfold.split(carseats_train):\n",
    "    print(\"CV Split:\", i)\n",
    "    print(\"==================\")\n",
    "    print(\"Train:\", train_index)\n",
    "    print(\"Test:\", test_index)\n",
    "    print()\n",
    "    i = i + 1"
   ]
  },
  {
   "cell_type": "markdown",
   "id": "95bdea3c",
   "metadata": {},
   "source": [
    "--------------------------\n",
    "\n",
    "This notebook was written for the Erd&#337;s Institute C&#337;de Data Science Boot Camp by Matthew Osborne, Ph. D., 2023.\n",
    "\n",
    "Any potential redistributors must seek and receive permission from Matthew Tyler Osborne, Ph.D. prior to redistribution. Redistribution of the material contained in this repository is conditional on acknowledgement of Matthew Tyler Osborne, Ph.D.'s original authorship and sponsorship of the Erdős Institute as subject to the license (see License.md)"
   ]
  }
 ],
 "metadata": {
  "kernelspec": {
   "display_name": "Python 3 (ipykernel)",
   "language": "python",
   "name": "python3"
  },
  "language_info": {
   "codemirror_mode": {
    "name": "ipython",
    "version": 3
   },
   "file_extension": ".py",
   "mimetype": "text/x-python",
   "name": "python",
   "nbconvert_exporter": "python",
   "pygments_lexer": "ipython3",
   "version": "3.10.9"
  }
 },
 "nbformat": 4,
 "nbformat_minor": 5
}
