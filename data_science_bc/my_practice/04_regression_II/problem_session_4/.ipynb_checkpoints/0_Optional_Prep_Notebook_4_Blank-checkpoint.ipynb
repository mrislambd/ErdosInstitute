{
 "cells": [
  {
   "cell_type": "markdown",
   "id": "75cfed8b",
   "metadata": {},
   "source": [
    "# Prep Notebook 4\n",
    "## More Regression Work\n",
    "\n",
    "This notebook has a few exercises that can serve as a primer for what to expect in the `Problem Session 4` notebook."
   ]
  },
  {
   "cell_type": "markdown",
   "id": "9dfe702f",
   "metadata": {},
   "source": [
    "#### 1. Reading a .csv file\n",
    "\n",
    "Read in the `carseats.csv` file using `pandas`. Store it in a variable named `carseats`."
   ]
  },
  {
   "cell_type": "code",
   "execution_count": null,
   "id": "21a6d2ab",
   "metadata": {},
   "outputs": [],
   "source": [
    "## code here\n"
   ]
  },
  {
   "cell_type": "code",
   "execution_count": null,
   "id": "d8f1852e",
   "metadata": {},
   "outputs": [],
   "source": [
    "## code here\n"
   ]
  },
  {
   "cell_type": "code",
   "execution_count": null,
   "id": "0dc2e180",
   "metadata": {},
   "outputs": [],
   "source": [
    "## code here\n"
   ]
  },
  {
   "cell_type": "markdown",
   "id": "fa5e294a",
   "metadata": {},
   "source": [
    "#### 2. Descriptive statistics\n",
    "\n",
    "##### a.\n",
    "\n",
    "Find the mean and median of `Sales`."
   ]
  },
  {
   "cell_type": "code",
   "execution_count": null,
   "id": "9bbb4658",
   "metadata": {},
   "outputs": [],
   "source": [
    "## code here\n"
   ]
  },
  {
   "cell_type": "code",
   "execution_count": null,
   "id": "eaccd473",
   "metadata": {},
   "outputs": [],
   "source": [
    "## code here\n"
   ]
  },
  {
   "cell_type": "markdown",
   "id": "56a93d3f",
   "metadata": {},
   "source": [
    "##### b.\n",
    "\n",
    "Use `groupby`, <a href=\"https://pandas.pydata.org/docs/reference/api/pandas.DataFrame.groupby.html\">https://pandas.pydata.org/docs/reference/api/pandas.DataFrame.groupby.html</a>, to find the mean and median value of `Sales` for each possible value of `ShelveLoc`."
   ]
  },
  {
   "cell_type": "code",
   "execution_count": null,
   "id": "fd94fbb8",
   "metadata": {},
   "outputs": [],
   "source": [
    "## code here\n"
   ]
  },
  {
   "cell_type": "code",
   "execution_count": null,
   "id": "b5240a6b",
   "metadata": {},
   "outputs": [],
   "source": [
    "## code here\n"
   ]
  },
  {
   "cell_type": "code",
   "execution_count": null,
   "id": "67872e9f",
   "metadata": {},
   "outputs": [],
   "source": [
    "## code here\n"
   ]
  },
  {
   "cell_type": "markdown",
   "id": "05bc4941",
   "metadata": {},
   "source": [
    "#### 3. Box-and-whisker plots\n",
    "\n",
    "A box-and-whisker plot is one way in which you can display some aspects of the empirical distribution for a given variable. In the diagram below you can see the features of a box-and-whisker plot.\n",
    "\n",
    "<img src=\"boxplot.png\" width=\"27%\"></img>\n",
    "\n",
    "The \"box\" of the plot displays the <i>interquartile range</i> (IQR) by placing the 25th percentile at the base and the 75th percentile at the top. The median line is drawn inside the box. The \"whiskers\" of the plot extend from the box and typically extend to 1.5 times the IQR above the 75th percentile and below the 25th percentile. <i>Note: that this is not always standard and each piece of software handles the whiskers differently.</i>\n",
    "\n",
    "##### a. \n",
    "\n",
    "Use `seaborn`'s `boxplot` function to visualize the empirical distribution of `Sales`.\n",
    "\n",
    "<a href=\"https://seaborn.pydata.org/generated/seaborn.boxplot.html\">https://seaborn.pydata.org/generated/seaborn.boxplot.html</a>."
   ]
  },
  {
   "cell_type": "code",
   "execution_count": null,
   "id": "7e134836",
   "metadata": {},
   "outputs": [],
   "source": [
    "## code here\n"
   ]
  },
  {
   "cell_type": "code",
   "execution_count": null,
   "id": "7502d75c",
   "metadata": {},
   "outputs": [],
   "source": [
    "## code here\n"
   ]
  },
  {
   "cell_type": "markdown",
   "id": "5fe415e2",
   "metadata": {},
   "source": [
    "##### b.\n",
    "\n",
    "Now use `boxplot` to plot the box-and-whisker plot of `Sales` by value of `ShelveLoc`."
   ]
  },
  {
   "cell_type": "code",
   "execution_count": null,
   "id": "ff999936",
   "metadata": {},
   "outputs": [],
   "source": [
    "## code here\n"
   ]
  },
  {
   "cell_type": "code",
   "execution_count": null,
   "id": "6c3d42cd",
   "metadata": {},
   "outputs": [],
   "source": [
    "## code here\n"
   ]
  },
  {
   "cell_type": "markdown",
   "id": "e864d984",
   "metadata": {},
   "source": [
    "##### c.\n",
    "\n",
    "Figure out how to use the `order` argument to `boxplot` to arrange the `ShelveLoc` box-and-whisker plots in the order of increasing quality."
   ]
  },
  {
   "cell_type": "code",
   "execution_count": null,
   "id": "5da395e5",
   "metadata": {},
   "outputs": [],
   "source": [
    "## code here\n"
   ]
  },
  {
   "cell_type": "code",
   "execution_count": null,
   "id": "574ff3cf",
   "metadata": {},
   "outputs": [],
   "source": [
    "## code here\n"
   ]
  },
  {
   "cell_type": "markdown",
   "id": "5c6b4269",
   "metadata": {},
   "source": [
    "#### 4. Train test split\n",
    "\n",
    "Make a train test split of `carseats`. Set aside 73% of the data as a training set."
   ]
  },
  {
   "cell_type": "code",
   "execution_count": null,
   "id": "fdd0da0a",
   "metadata": {},
   "outputs": [],
   "source": [
    "## code here\n"
   ]
  },
  {
   "cell_type": "code",
   "execution_count": null,
   "id": "addd100e",
   "metadata": {},
   "outputs": [],
   "source": [
    "## code here\n"
   ]
  },
  {
   "cell_type": "code",
   "execution_count": null,
   "id": "7cd1b0c5",
   "metadata": {},
   "outputs": [],
   "source": [
    "## code here\n"
   ]
  },
  {
   "cell_type": "markdown",
   "id": "b404632a",
   "metadata": {},
   "source": [
    "#### 5. Cross-validation\n",
    "\n",
    "Print out the training and holdout indices for a 7-fold cross-validation of `carseats_train`."
   ]
  },
  {
   "cell_type": "code",
   "execution_count": null,
   "id": "96bd9258",
   "metadata": {},
   "outputs": [],
   "source": [
    "## code here\n"
   ]
  },
  {
   "cell_type": "code",
   "execution_count": null,
   "id": "50258e88",
   "metadata": {},
   "outputs": [],
   "source": [
    "## code here\n"
   ]
  },
  {
   "cell_type": "code",
   "execution_count": null,
   "id": "18d8e5e4",
   "metadata": {},
   "outputs": [],
   "source": [
    "## code here\n"
   ]
  },
  {
   "cell_type": "markdown",
   "id": "95bdea3c",
   "metadata": {},
   "source": [
    "--------------------------\n",
    "\n",
    "This notebook was written for the Erd&#337;s Institute C&#337;de Data Science Boot Camp by Matthew Osborne, Ph. D., 2023.\n",
    "\n",
    "Any potential redistributors must seek and receive permission from Matthew Tyler Osborne, Ph.D. prior to redistribution. Redistribution of the material contained in this repository is conditional on acknowledgement of Matthew Tyler Osborne, Ph.D.'s original authorship and sponsorship of the Erdős Institute as subject to the license (see License.md)"
   ]
  },
  {
   "cell_type": "code",
   "execution_count": null,
   "id": "799e5ffb",
   "metadata": {},
   "outputs": [],
   "source": []
  }
 ],
 "metadata": {
  "kernelspec": {
   "display_name": "Python 3 (ipykernel)",
   "language": "python",
   "name": "python3"
  },
  "language_info": {
   "codemirror_mode": {
    "name": "ipython",
    "version": 3
   },
   "file_extension": ".py",
   "mimetype": "text/x-python",
   "name": "python",
   "nbconvert_exporter": "python",
   "pygments_lexer": "ipython3",
   "version": "3.9.16"
  }
 },
 "nbformat": 4,
 "nbformat_minor": 5
}
