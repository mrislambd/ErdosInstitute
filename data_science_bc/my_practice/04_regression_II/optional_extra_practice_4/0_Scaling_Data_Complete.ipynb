{
 "cells": [
  {
   "cell_type": "markdown",
   "id": "66af3534",
   "metadata": {},
   "source": [
    "# Scaling Data\n",
    "\n",
    "The problems in this notebook give you an opportunity to practice and extend the content covered in Lecture 4: Scaling Data.  "
   ]
  },
  {
   "cell_type": "code",
   "execution_count": 1,
   "id": "ff4b46e7",
   "metadata": {},
   "outputs": [],
   "source": [
    "import pandas as pd\n",
    "import numpy as np"
   ]
  },
  {
   "cell_type": "markdown",
   "id": "645ba964",
   "metadata": {},
   "source": [
    "##### 1. Practice `StandardScaler`\n",
    "\n",
    "Load then standardize `X` below."
   ]
  },
  {
   "cell_type": "code",
   "execution_count": 2,
   "id": "040da9a7",
   "metadata": {},
   "outputs": [],
   "source": [
    "np.random.seed(2039104)\n",
    "X = np.zeros((100, 20))\n",
    "\n",
    "for i in range(20):\n",
    "    multiplier = np.random.randint(0,10000)\n",
    "    constant = np.random.randint(-100,100)\n",
    "    X[:,i] = [constant + multiplier*np.random.randn(100), \n",
    "                 constant + multiplier*np.random.random(size=100),\n",
    "                 constant + multiplier*np.random.binomial(100,.2, 100)][np.random.randint(0,2)]"
   ]
  },
  {
   "cell_type": "markdown",
   "id": "3a0de8a9",
   "metadata": {},
   "source": [
    "###### Sample Solution"
   ]
  },
  {
   "cell_type": "code",
   "execution_count": 3,
   "id": "d5010869",
   "metadata": {},
   "outputs": [],
   "source": [
    "from sklearn.preprocessing import StandardScaler"
   ]
  },
  {
   "cell_type": "code",
   "execution_count": 4,
   "id": "9f66fadc",
   "metadata": {},
   "outputs": [
    {
     "data": {
      "text/plain": [
       "array([[-1.31287285, -0.62045619, -0.08253664, ..., -0.55346917,\n",
       "         1.42541933,  1.38285467],\n",
       "       [ 0.5299962 ,  0.82724372,  0.37851001, ..., -1.10458435,\n",
       "        -0.55672276, -1.2736036 ],\n",
       "       [-1.49750194, -1.4823713 , -1.26496166, ..., -0.56892469,\n",
       "         1.25182088, -1.84046548],\n",
       "       ...,\n",
       "       [-0.23152719,  1.08378946,  0.00216953, ..., -0.21312883,\n",
       "        -0.83410476, -0.30476125],\n",
       "       [-1.83366698,  0.25898817, -1.13032703, ..., -0.24892691,\n",
       "        -0.96813907,  0.97987333],\n",
       "       [-0.09491744, -0.71413469,  0.94231653, ...,  1.18501598,\n",
       "        -0.68975108,  0.4172818 ]])"
      ]
     },
     "execution_count": 4,
     "metadata": {},
     "output_type": "execute_result"
    }
   ],
   "source": [
    "scale = StandardScaler()\n",
    "\n",
    "scale.fit(X)\n",
    "\n",
    "scale.transform(X)\n",
    "\n",
    "## or \n",
    "\n",
    "## scale.fit_transform(X)"
   ]
  },
  {
   "cell_type": "markdown",
   "id": "bcb5a1e8",
   "metadata": {},
   "source": [
    "##### 2. `.mean_` and `.scale_`\n",
    "\n",
    "You can return the fitted mean of the `StandardScaler` with `.mean_` and you can find the fitted standard deviation with `.scale_`.\n",
    "\n",
    "Produce arrays of the means and standard deviations of `X` from 1. (Using `StandardScaler` not `numpy`)."
   ]
  },
  {
   "cell_type": "markdown",
   "id": "03b55ee3",
   "metadata": {},
   "source": [
    "##### Sample Solution"
   ]
  },
  {
   "cell_type": "code",
   "execution_count": 5,
   "id": "00e02681",
   "metadata": {},
   "outputs": [
    {
     "data": {
      "text/plain": [
       "array([1604.5333672 ,  -29.89031983, -209.52108077,  102.1945372 ,\n",
       "       3404.48053919, -359.12458692, 4521.62784748, 1369.42555112,\n",
       "         62.67412926, 2037.73579597,   77.57989729,  -98.93071576,\n",
       "       -215.06259315,  576.1868183 , 4063.45307149, -166.53311016,\n",
       "        620.88692536, 2067.5198717 ,  113.75359513, 4617.85781283])"
      ]
     },
     "execution_count": 5,
     "metadata": {},
     "output_type": "execute_result"
    }
   ],
   "source": [
    "scale.mean_"
   ]
  },
  {
   "cell_type": "code",
   "execution_count": 6,
   "id": "4f3c29dd",
   "metadata": {},
   "outputs": [
    {
     "data": {
      "text/plain": [
       "array([ 795.75146947, 3066.45479241, 6544.56173816, 2446.57283404,\n",
       "       2070.81575044, 2276.87773688, 2670.80995419,  843.4217081 ,\n",
       "        296.74249285, 1040.26613746, 8305.96573279,  223.81273076,\n",
       "       3999.77862159, 4366.16287153, 2414.95721094, 1915.03189831,\n",
       "       7200.37690102, 1203.81693106, 5585.26203405, 2477.17707132])"
      ]
     },
     "execution_count": 6,
     "metadata": {},
     "output_type": "execute_result"
    }
   ],
   "source": [
    "scale.scale_"
   ]
  },
  {
   "cell_type": "markdown",
   "id": "9f9c6597",
   "metadata": {},
   "source": [
    "##### 3. Other scalers\n",
    "\n",
    "While we have used `StandardScaler` there are other scaler objects in `sklearn`. Here we will introduce some of the other scalers.\n",
    "\n",
    "- `MinMaxScaler`: This will scale your data so that the minimum value of the column is linearly scaled to `min` and the maximum value is linearly scaled to `max`, where `min` and `max` are inputs you control with `feature_range=(min, max)`. The default is such that your features get scaled to the interval $[0,1]$. <a href=\"https://scikit-learn.org/stable/modules/generated/sklearn.preprocessing.MinMaxScaler.html#sklearn.preprocessing.MinMaxScaler\">https://scikit-learn.org/stable/modules/generated/sklearn.preprocessing.MinMaxScaler.html#sklearn.preprocessing.MinMaxScaler</a>.\n",
    "- `MaxAbsScaler`: This will scale your data by dividing by the largest absolute value of the column, <a href=\"https://scikit-learn.org/stable/modules/generated/sklearn.preprocessing.MaxAbsScaler.html#sklearn.preprocessing.MaxAbsScaler\">https://scikit-learn.org/stable/modules/generated/sklearn.preprocessing.MaxAbsScaler.html#sklearn.preprocessing.MaxAbsScaler</a>.\n",
    "- `RobustScaler`: This works in much the same way as `StandardScaler`, but it instead of the mean it subtracts the median and instead of the standard deviation it divides by the interquartile range. It is called \"robust\" because these metrics are more robust to outliers, <a href=\"https://scikit-learn.org/stable/modules/generated/sklearn.preprocessing.RobustScaler.html#sklearn.preprocessing.RobustScaler\">https://scikit-learn.org/stable/modules/generated/sklearn.preprocessing.RobustScaler.html#sklearn.preprocessing.RobustScaler</a>.\n",
    "\n",
    "Choose one of these three scalers and scale the columns of `X` using it."
   ]
  },
  {
   "cell_type": "markdown",
   "id": "0461fe9d",
   "metadata": {},
   "source": [
    "##### Sample Solution"
   ]
  },
  {
   "cell_type": "code",
   "execution_count": 7,
   "id": "badf2cf7",
   "metadata": {},
   "outputs": [],
   "source": [
    "from sklearn.preprocessing import RobustScaler"
   ]
  },
  {
   "cell_type": "code",
   "execution_count": 8,
   "id": "eef5e83d",
   "metadata": {},
   "outputs": [
    {
     "data": {
      "text/plain": [
       "array([[-0.81321136, -0.54428819, -0.00716469, ..., -0.32576447,\n",
       "         0.99450684,  0.77473406],\n",
       "       [ 0.39804514,  0.56480561,  0.28437789, ..., -0.68067282,\n",
       "        -0.42200276, -0.68417765],\n",
       "       [-0.93456192, -1.20460785, -0.75487046, ..., -0.33571755,\n",
       "         0.87044718, -0.99549496],\n",
       "       ...,\n",
       "       [-0.10247884,  0.76134724,  0.04639921, ..., -0.10659135,\n",
       "        -0.62022985, -0.15209497],\n",
       "       [-1.15551201,  0.12946076, -0.66973433, ..., -0.12964468,\n",
       "        -0.71601556,  0.55341901],\n",
       "       [-0.0126898 , -0.61605599,  0.64090061, ...,  0.79378898,\n",
       "        -0.51706955,  0.24444695]])"
      ]
     },
     "execution_count": 8,
     "metadata": {},
     "output_type": "execute_result"
    }
   ],
   "source": [
    "rob_scale = RobustScaler()\n",
    "\n",
    "rob_scale.fit(X)\n",
    "\n",
    "rob_scale.transform(X)"
   ]
  },
  {
   "cell_type": "code",
   "execution_count": 9,
   "id": "daab6eac",
   "metadata": {},
   "outputs": [
    {
     "data": {
      "text/plain": [
       "array([1544.36618881,  246.10001921, -675.53552519,   49.83869535,\n",
       "       3288.33567726, -263.11295159, 4715.16884808, 1357.29414094,\n",
       "         53.46191309, 1977.00371776,  218.47358633,  -69.23271988,\n",
       "        -95.56543889,  441.27471563, 4268.16527924, -165.42861956,\n",
       "         90.44480783, 2010.2064817 ,  302.48922443, 4548.94462085])"
      ]
     },
     "execution_count": 9,
     "metadata": {},
     "output_type": "execute_result"
    }
   ],
   "source": [
    "rob_scale.center_"
   ]
  },
  {
   "cell_type": "code",
   "execution_count": 10,
   "id": "d246957a",
   "metadata": {},
   "outputs": [
    {
     "data": {
      "text/plain": [
       "array([1544.36618881,  246.10001921, -675.53552519,   49.83869535,\n",
       "       3288.33567726, -263.11295159, 4715.16884808, 1357.29414094,\n",
       "         53.46191309, 1977.00371776,  218.47358633,  -69.23271988,\n",
       "        -95.56543889,  441.27471563, 4268.16527924, -165.42861956,\n",
       "         90.44480783, 2010.2064817 ,  302.48922443, 4548.94462085])"
      ]
     },
     "execution_count": 10,
     "metadata": {},
     "output_type": "execute_result"
    }
   ],
   "source": [
    "np.median(X, axis=0)"
   ]
  },
  {
   "cell_type": "code",
   "execution_count": 11,
   "id": "12497769",
   "metadata": {},
   "outputs": [
    {
     "data": {
      "text/plain": [
       "array([ 1210.69794165,  4002.6427855 , 10349.59715776,  2952.5284225 ,\n",
       "        4077.71276635,  3674.96518222,  4629.63344543,  1612.71609897,\n",
       "         480.14368419,  1725.17698804,  9800.74692408,   367.26076577,\n",
       "        5716.32865074,  6530.54409496,  4405.6406462 ,  2338.06316231,\n",
       "        9808.34456949,  1869.33267891,  7815.53685834,  4510.5659522 ])"
      ]
     },
     "execution_count": 11,
     "metadata": {},
     "output_type": "execute_result"
    }
   ],
   "source": [
    "rob_scale.scale_"
   ]
  },
  {
   "cell_type": "markdown",
   "id": "40c06081",
   "metadata": {},
   "source": [
    "##### 4. Scaling mixed columns\n",
    "\n",
    "When your data includes both quantitative and categorical variables scaling gets slightly more tricky. Demonstrate this by running the `X` below through `StandardScaler`."
   ]
  },
  {
   "cell_type": "code",
   "execution_count": 12,
   "id": "900600a0",
   "metadata": {},
   "outputs": [],
   "source": [
    "X = np.zeros((100,4))\n",
    "\n",
    "X[:,0] = np.random.randn(100)*10 + 89\n",
    "X[:,1] = np.random.binomial(1, .4, 100)\n",
    "X[:,2] = np.random.binomial(1, .6, 100)\n",
    "X[:,3] = np.random.binomial(1, .8, 100)"
   ]
  },
  {
   "cell_type": "code",
   "execution_count": 13,
   "id": "0343a151",
   "metadata": {},
   "outputs": [
    {
     "data": {
      "text/plain": [
       "array([[ 87.36753592,   1.        ,   1.        ,   1.        ],\n",
       "       [ 78.25059788,   0.        ,   1.        ,   0.        ],\n",
       "       [103.21437303,   1.        ,   0.        ,   1.        ],\n",
       "       [ 97.51221196,   0.        ,   1.        ,   1.        ],\n",
       "       [ 82.70674837,   1.        ,   1.        ,   1.        ],\n",
       "       [ 80.58180051,   0.        ,   1.        ,   0.        ],\n",
       "       [ 86.76359405,   1.        ,   1.        ,   1.        ],\n",
       "       [101.82550414,   0.        ,   1.        ,   1.        ],\n",
       "       [ 86.56002991,   1.        ,   0.        ,   1.        ],\n",
       "       [ 96.15826684,   0.        ,   0.        ,   1.        ]])"
      ]
     },
     "execution_count": 13,
     "metadata": {},
     "output_type": "execute_result"
    }
   ],
   "source": [
    "## First 10 rows of X\n",
    "## note that columns 1, 2, 3 are binary categorical variables\n",
    "## while column 0 is quantitative\n",
    "X[:10,:]"
   ]
  },
  {
   "cell_type": "code",
   "execution_count": 14,
   "id": "fcc97afa",
   "metadata": {},
   "outputs": [
    {
     "data": {
      "text/plain": [
       "array([[-0.09173877,  1.22474487,  0.92295821,  0.5       ],\n",
       "       [-0.91058893, -0.81649658,  0.92295821, -2.        ],\n",
       "       [ 1.33156641,  1.22474487, -1.08347268,  0.5       ],\n",
       "       [ 0.81941908, -0.81649658,  0.92295821,  0.5       ],\n",
       "       [-0.51035373,  1.22474487,  0.92295821,  0.5       ],\n",
       "       [-0.7012088 , -0.81649658,  0.92295821, -2.        ],\n",
       "       [-0.14598262,  1.22474487,  0.92295821,  0.5       ],\n",
       "       [ 1.20682327, -0.81649658,  0.92295821,  0.5       ],\n",
       "       [-0.16426601,  1.22474487, -1.08347268,  0.5       ],\n",
       "       [ 0.69781266, -0.81649658, -1.08347268,  0.5       ]])"
      ]
     },
     "execution_count": 14,
     "metadata": {},
     "output_type": "execute_result"
    }
   ],
   "source": [
    "scale = StandardScaler()\n",
    "\n",
    "scale.fit(X)\n",
    "\n",
    "scale.transform(X)[:10, :]"
   ]
  },
  {
   "cell_type": "markdown",
   "id": "54d6113a",
   "metadata": {},
   "source": [
    "We should see that our three binary variables have been turned into nonsense columns. What we actually want is to scale column `0` but not columns `1,2,3`.\n",
    "\n",
    "You can do this, but it is slightly more complicated than what `sklearn`'s set scaler objects are capable of. You can see one approach to dealing with this kind of situation in the next optional extra practice notebook \"More Advanced Pipelines\"."
   ]
  },
  {
   "cell_type": "markdown",
   "id": "bfb00f0c",
   "metadata": {},
   "source": [
    "--------------------------\n",
    "\n",
    "This notebook was written for the Erd&#337;s Institute C&#337;de Data Science Boot Camp by Matthew Osborne, Ph. D., 2023.\n",
    "\n",
    "Any potential redistributors must seek and receive permission from Matthew Tyler Osborne, Ph.D. prior to redistribution. Redistribution of the material contained in this repository is conditional on acknowledgement of Matthew Tyler Osborne, Ph.D.'s original authorship and sponsorship of the Erdős Institute as subject to the license (see License.md)"
   ]
  }
 ],
 "metadata": {
  "kernelspec": {
   "display_name": "Python 3 (ipykernel)",
   "language": "python",
   "name": "python3"
  },
  "language_info": {
   "codemirror_mode": {
    "name": "ipython",
    "version": 3
   },
   "file_extension": ".py",
   "mimetype": "text/x-python",
   "name": "python",
   "nbconvert_exporter": "python",
   "pygments_lexer": "ipython3",
   "version": "3.10.9"
  }
 },
 "nbformat": 4,
 "nbformat_minor": 5
}
