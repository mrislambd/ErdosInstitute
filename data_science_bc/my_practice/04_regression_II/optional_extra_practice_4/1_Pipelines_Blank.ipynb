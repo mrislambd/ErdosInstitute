{
 "cells": [
  {
   "cell_type": "markdown",
   "id": "652e0827",
   "metadata": {},
   "source": [
    "# Pipelines\n",
    "\n",
    "The problems in this notebook correspond to the concepts covered in:\n",
    "- `Lectures/Cleaning/2. Basic Pipelins` and\n",
    "- `Lectures/Cleaning/5. More Advanced Pipelines`.\n",
    "\n",
    "Note you should wait to solve these problems until after we have covered the first few `Classification` lecture notebooks."
   ]
  },
  {
   "cell_type": "code",
   "execution_count": null,
   "id": "9ce6e2c5",
   "metadata": {},
   "outputs": [],
   "source": [
    "import pandas as pd\n",
    "import numpy as np"
   ]
  },
  {
   "cell_type": "markdown",
   "id": "18650f6e",
   "metadata": {},
   "source": [
    "##### 1. `iris` pipeline\n",
    "\n",
    "Load the usual iris data set from `sklearn`. Build a pipleline that scales these data then fits a $k$-nearest neighbors model to predict the iris type."
   ]
  },
  {
   "cell_type": "code",
   "execution_count": null,
   "id": "a84b23fc",
   "metadata": {},
   "outputs": [],
   "source": [
    "from sklearn.datasets import load_iris\n",
    "from sklearn.model_selection import train_test_split"
   ]
  },
  {
   "cell_type": "code",
   "execution_count": null,
   "id": "7df4ad1b",
   "metadata": {},
   "outputs": [],
   "source": [
    "data = load_iris()\n",
    "\n",
    "data.keys()\n",
    "\n",
    "X = data['data']\n",
    "y = data['target']"
   ]
  },
  {
   "cell_type": "code",
   "execution_count": null,
   "id": "4b533c14",
   "metadata": {},
   "outputs": [],
   "source": [
    "X_train, X_test, y_train, y_test = train_test_split(X, y,\n",
    "                                            test_size=.2,\n",
    "                                            shuffle=True,\n",
    "                                            random_state=40301)"
   ]
  },
  {
   "cell_type": "markdown",
   "id": "d995f833",
   "metadata": {},
   "source": [
    "##### Sample Solution"
   ]
  },
  {
   "cell_type": "code",
   "execution_count": null,
   "id": "b6214cde",
   "metadata": {},
   "outputs": [],
   "source": [
    "## code here\n",
    "\n",
    "\n"
   ]
  },
  {
   "cell_type": "code",
   "execution_count": null,
   "id": "e137b4c4",
   "metadata": {},
   "outputs": [],
   "source": [
    "## code here\n",
    "\n",
    "\n"
   ]
  },
  {
   "cell_type": "code",
   "execution_count": null,
   "id": "08f27736",
   "metadata": {},
   "outputs": [],
   "source": [
    "## code here\n",
    "\n",
    "\n"
   ]
  },
  {
   "cell_type": "code",
   "execution_count": null,
   "id": "6a82e457",
   "metadata": {},
   "outputs": [],
   "source": [
    "## code here\n",
    "\n",
    "\n"
   ]
  },
  {
   "cell_type": "code",
   "execution_count": null,
   "id": "96787b93",
   "metadata": {},
   "outputs": [],
   "source": [
    "## code here\n",
    "\n",
    "\n"
   ]
  },
  {
   "cell_type": "markdown",
   "id": "0c00174c",
   "metadata": {},
   "source": [
    "##### 2. `iris` with NAs pipeline - `SimpleImputer`\n",
    "\n",
    "Now load the adjusted iris data set which has some missing values.\n",
    "\n",
    "Build a pipeline that imputes the missing values with the `SimpleImputer` using the median, scales the data then fits $k$NN with $k=5$."
   ]
  },
  {
   "cell_type": "code",
   "execution_count": null,
   "id": "0b19a056",
   "metadata": {},
   "outputs": [],
   "source": [
    "iris = pd.read_csv(\"../../data/iris_w_nas.csv\")\n",
    "\n",
    "iris_train, iris_test = train_test_split(iris.copy(),\n",
    "                                            shuffle=True,\n",
    "                                            random_state=233,\n",
    "                                            stratify = iris['iris_class'])"
   ]
  },
  {
   "cell_type": "code",
   "execution_count": null,
   "id": "b1007dee",
   "metadata": {},
   "outputs": [],
   "source": [
    "## code here\n",
    "\n",
    "\n"
   ]
  },
  {
   "cell_type": "code",
   "execution_count": null,
   "id": "c0fd4652",
   "metadata": {},
   "outputs": [],
   "source": [
    "## code here\n",
    "\n",
    "\n"
   ]
  },
  {
   "cell_type": "code",
   "execution_count": null,
   "id": "e73d730c",
   "metadata": {},
   "outputs": [],
   "source": [
    "## code here\n",
    "\n",
    "\n"
   ]
  },
  {
   "cell_type": "code",
   "execution_count": null,
   "id": "c7def21d",
   "metadata": {},
   "outputs": [],
   "source": [
    "## code here\n",
    "\n",
    "\n"
   ]
  },
  {
   "cell_type": "markdown",
   "id": "48e7e365",
   "metadata": {},
   "source": [
    "##### 3. `iris` with NAs pipeline - `KNNImputer`\n",
    "\n",
    "Rebuild the pipeline in 2. but this time use `KNNImputer`, <a href=\"https://scikit-learn.org/stable/modules/generated/sklearn.impute.KNNImputer.html#sklearn.impute.KNNImputer\">https://scikit-learn.org/stable/modules/generated/sklearn.impute.KNNImputer.html#sklearn.impute.KNNImputer</a>, with $k=5$ instead of `SimpleImputer`."
   ]
  },
  {
   "cell_type": "code",
   "execution_count": null,
   "id": "28281625",
   "metadata": {},
   "outputs": [],
   "source": [
    "## code here\n",
    "\n",
    "\n"
   ]
  },
  {
   "cell_type": "code",
   "execution_count": null,
   "id": "1570c43e",
   "metadata": {},
   "outputs": [],
   "source": [
    "## code here\n",
    "\n",
    "\n"
   ]
  },
  {
   "cell_type": "code",
   "execution_count": null,
   "id": "cf3e6043",
   "metadata": {},
   "outputs": [],
   "source": [
    "## code here\n",
    "\n",
    "\n"
   ]
  },
  {
   "cell_type": "code",
   "execution_count": null,
   "id": "0f6c074e",
   "metadata": {},
   "outputs": [],
   "source": [
    "## code here\n",
    "\n",
    "\n"
   ]
  },
  {
   "cell_type": "markdown",
   "id": "ee47be8c",
   "metadata": {},
   "source": [
    "##### 4. `iris` with NAs pipeline - Custom Imputer \n",
    "\n",
    "<i>You may want to go through `Lectures/Cleaning/5. More Advanced Pipelines` prior to attempting this exercise.</i>\n",
    "\n",
    "Create a custom imputer object to impute the missing values of `petal_width` by regressing onto the other three features.\n",
    "\n",
    "Use that imputer as the first step in the pipeline you have built in problems 2. and 3. above."
   ]
  },
  {
   "cell_type": "code",
   "execution_count": null,
   "id": "4c4620a0",
   "metadata": {},
   "outputs": [],
   "source": [
    "## code here\n",
    "\n",
    "\n",
    "\n"
   ]
  },
  {
   "cell_type": "code",
   "execution_count": null,
   "id": "43791f0d",
   "metadata": {},
   "outputs": [],
   "source": [
    "## code here\n",
    "\n",
    "\n",
    "\n"
   ]
  },
  {
   "cell_type": "code",
   "execution_count": null,
   "id": "b7c3f839",
   "metadata": {},
   "outputs": [],
   "source": [
    "## code here\n",
    "\n",
    "\n",
    "\n"
   ]
  },
  {
   "cell_type": "code",
   "execution_count": null,
   "id": "74d97d1f",
   "metadata": {},
   "outputs": [],
   "source": [
    "## code here\n",
    "\n",
    "\n",
    "\n"
   ]
  },
  {
   "cell_type": "markdown",
   "id": "b1eb8584",
   "metadata": {},
   "source": [
    "--------------------------\n",
    "\n",
    "This notebook was written for the Erd&#337;s Institute C&#337;de Data Science Boot Camp by Matthew Osborne, Ph. D., 2023.\n",
    "\n",
    "Any potential redistributors must seek and receive permission from Matthew Tyler Osborne, Ph.D. prior to redistribution. Redistribution of the material contained in this repository is conditional on acknowledgement of Matthew Tyler Osborne, Ph.D.'s original authorship and sponsorship of the Erdős Institute as subject to the license (see License.md)"
   ]
  },
  {
   "cell_type": "code",
   "execution_count": null,
   "id": "44d99b75",
   "metadata": {},
   "outputs": [],
   "source": []
  }
 ],
 "metadata": {
  "kernelspec": {
   "display_name": "Python 3 (ipykernel)",
   "language": "python",
   "name": "python3"
  },
  "language_info": {
   "codemirror_mode": {
    "name": "ipython",
    "version": 3
   },
   "file_extension": ".py",
   "mimetype": "text/x-python",
   "name": "python",
   "nbconvert_exporter": "python",
   "pygments_lexer": "ipython3",
   "version": "3.9.16"
  }
 },
 "nbformat": 4,
 "nbformat_minor": 5
}
