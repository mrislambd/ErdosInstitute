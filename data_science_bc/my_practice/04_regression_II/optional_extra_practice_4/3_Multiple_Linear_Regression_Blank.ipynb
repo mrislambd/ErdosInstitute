{
 "cells": [
  {
   "cell_type": "markdown",
   "metadata": {},
   "source": [
    "# Multiple Linear Regression\n",
    "\n",
    "In this notebook we will cover some theoretical and applied questions about multiple linear regression.   "
   ]
  },
  {
   "cell_type": "markdown",
   "metadata": {},
   "source": [
    "## Theoretical Questions"
   ]
  },
  {
   "cell_type": "markdown",
   "metadata": {},
   "source": [
    "##### 1. Gradient Descent\n",
    "\n",
    "While we have the normal equation as the OLS estimate for $\\hat{\\beta}$ it is sometimes not ideal to to use that equation to find the estimate. This is because if there are too many features it can be computationally costly to perform the inverse operation.\n",
    "\n",
    "\n",
    "###### Gradient Descent Idea\n",
    "\n",
    "One alternative to the normal equation is to perform gradient descent.\n",
    "\n",
    "Let $\\ell(\\beta)$ denote a loss function. \n",
    "\n",
    "If we remember some Calculus III we can remember that for a particular value of $\\beta$, say $\\beta^*$, the direction of greatest descent for $\\ell$ at $\\beta^*$, i.e. how to get to the minimum of $\\ell$ most quickly from $\\beta^*$, is the opposite direction of the gradient, $-\\nabla \\ell(\\beta^*)$. You can thus approach the value of $\\beta$ that minimizes $\\ell$ by iteratively updating $\\beta$ by moving in $\\alpha$ sized steps in the direction of greatest descent.\n",
    "\n",
    "For linear regression our loss function, $\\ell$, is the mean square error, MSE.\n",
    "\n",
    "Write out an algorithm (in mathematical symbols not code) that leverages the gradient of the loss function to find the optimal $\\hat{\\beta}$ for multiple linear regression."
   ]
  },
  {
   "cell_type": "markdown",
   "metadata": {},
   "source": [
    "##### Write here\n",
    "\n",
    "\n",
    "\n"
   ]
  },
  {
   "cell_type": "markdown",
   "metadata": {},
   "source": [
    "## Applied Questions"
   ]
  },
  {
   "cell_type": "code",
   "execution_count": null,
   "metadata": {},
   "outputs": [],
   "source": [
    "import pandas as pd\n",
    "import numpy as np\n",
    "\n",
    "import matplotlib.pyplot as plt\n",
    "import seaborn as sns\n",
    "\n",
    "sns.set_style(\"darkgrid\")"
   ]
  },
  {
   "cell_type": "markdown",
   "metadata": {},
   "source": [
    "##### 1.  Advertising Model\n",
    "\n",
    "In this question you will build a predictive model on the `Advertising.csv` data set in the `data` Folder. Start by loading this data then performing a train test split."
   ]
  },
  {
   "cell_type": "code",
   "execution_count": null,
   "metadata": {},
   "outputs": [],
   "source": [
    "ads = pd.read_csv(\"../../data/Advertising.csv\")\n",
    "\n",
    "ads.columns"
   ]
  },
  {
   "cell_type": "code",
   "execution_count": null,
   "metadata": {},
   "outputs": [],
   "source": [
    "## code here\n",
    "\n",
    "\n"
   ]
  },
  {
   "cell_type": "code",
   "execution_count": null,
   "metadata": {},
   "outputs": [],
   "source": [
    "## code here\n",
    "\n",
    "\n"
   ]
  },
  {
   "cell_type": "markdown",
   "metadata": {},
   "source": [
    "This data set has three features, `TV`, `radio` and `newspaper` that are used to predict `sales`. Each observation in the data set represents an ammount of money spent on TV advertising, radio advertising or newspaper advertising, and then the amount made in sales for that ad buy. Our goal here is to make a multiple linear regression model to predict `sales` using the `TV`, `radio` and `newspaper` columns.\n",
    "\n",
    "First make scatter plots to explore possible relationships between `sales` and the three features. You may also consider calculating the correlation coefficients."
   ]
  },
  {
   "cell_type": "code",
   "execution_count": null,
   "metadata": {},
   "outputs": [],
   "source": [
    "## code here\n",
    "\n",
    "\n",
    "\n"
   ]
  },
  {
   "cell_type": "code",
   "execution_count": null,
   "metadata": {},
   "outputs": [],
   "source": [
    "## code here\n",
    "\n",
    "\n"
   ]
  },
  {
   "cell_type": "markdown",
   "metadata": {},
   "source": [
    "Start by trying to fit the following model:\n",
    "\n",
    "$$\n",
    "\\text{sales} = \\beta_0 + \\beta_1 \\text{TV} + \\beta_2 \\text{radio} + \\epsilon,\n",
    "$$\n",
    "\n",
    "Once you have fit the model on the training set, plot the errors on the training set, $\\hat{y} - y$, against the predicted values, $\\hat{y}$. i.e. $\\hat{\\text{sales}} - \\text{sales}$ against $\\hat{\\text{sales}}$."
   ]
  },
  {
   "cell_type": "code",
   "execution_count": null,
   "metadata": {},
   "outputs": [],
   "source": [
    "## code here\n",
    "\n"
   ]
  },
  {
   "cell_type": "code",
   "execution_count": null,
   "metadata": {},
   "outputs": [],
   "source": [
    "## code here\n",
    "\n"
   ]
  },
  {
   "cell_type": "code",
   "execution_count": null,
   "metadata": {},
   "outputs": [],
   "source": [
    "## code here\n",
    "\n"
   ]
  },
  {
   "cell_type": "code",
   "execution_count": null,
   "metadata": {},
   "outputs": [],
   "source": [
    "## code here\n",
    "\n"
   ]
  },
  {
   "cell_type": "code",
   "execution_count": null,
   "metadata": {},
   "outputs": [],
   "source": [
    "## code here\n",
    "\n"
   ]
  },
  {
   "cell_type": "markdown",
   "metadata": {},
   "source": [
    "If you made the residual plot correctly it may look weird! \n",
    "\n",
    "There are some reasons for this that we will slowly work through together. Let's start with looking at the `TV` variable.\n",
    "\n",
    "Take a closer look at the `sales` vs `TV` plot. Does it look like using `TV` as is would be appropriate for predicting `sales`, or should we try some kind of transformation? Try to think of a good nonlinear transformation of `TV` that may better fit these data."
   ]
  },
  {
   "cell_type": "code",
   "execution_count": null,
   "metadata": {},
   "outputs": [],
   "source": [
    "## code here\n",
    "\n"
   ]
  },
  {
   "cell_type": "code",
   "execution_count": null,
   "metadata": {},
   "outputs": [],
   "source": [
    "## code here\n",
    "\n"
   ]
  },
  {
   "cell_type": "code",
   "execution_count": null,
   "metadata": {},
   "outputs": [],
   "source": [
    "## code here\n",
    "\n"
   ]
  },
  {
   "cell_type": "markdown",
   "metadata": {},
   "source": [
    "Now refit the previous model, but replace `TV` with the nonlinear transformation you selected. For example, if you chose $\\sqrt{\\text{TV}}$ the new model would be:\n",
    "\n",
    "$$\n",
    "\\text{sales} = \\beta_0 + \\beta_1 \\sqrt{\\text{TV}} + \\beta_2 \\text{radio} + \\epsilon\n",
    "$$\n",
    "\n",
    "Take another look at your error vs predicted plot, did this help it look less funky?"
   ]
  },
  {
   "cell_type": "code",
   "execution_count": null,
   "metadata": {},
   "outputs": [],
   "source": [
    "## code here\n",
    "\n"
   ]
  },
  {
   "cell_type": "code",
   "execution_count": null,
   "metadata": {},
   "outputs": [],
   "source": [
    "## code here\n",
    "\n"
   ]
  },
  {
   "cell_type": "code",
   "execution_count": null,
   "metadata": {},
   "outputs": [],
   "source": [
    "## code here\n",
    "\n"
   ]
  },
  {
   "cell_type": "code",
   "execution_count": null,
   "metadata": {},
   "outputs": [],
   "source": [
    "## code here\n",
    "\n"
   ]
  },
  {
   "cell_type": "markdown",
   "metadata": {},
   "source": [
    "Depending on the nonlinear transformation you chose, this residual plot may look much weirder, but the residuals should be smaller.\n",
    "\n",
    "If you chose a good nonlinear transformation, then you should see a sort of criss-cross residual pattern, or perhaps almost a hill shape, something like this:\n",
    "\n",
    "<img src=\"potential_residuals.png\" width=\"40%\"></img>\n",
    "\n",
    "Patterns like this typically suggest to me that we should try adding an interaction term. Try multiplying `radio` with the nonlinear transformation of `TV` you chose. Then fit a new model including this interaction term, for example if you used $\\sqrt{\\text{TV}}$ the model would be:\n",
    "\n",
    "$$\n",
    "\\text{sales} = \\beta_0 + \\beta_1 \\sqrt{\\text{TV}} + \\beta_2 \\text{radio} + \\beta_3 \\text{radio} \\times \\sqrt{\\text{TV}} + \\epsilon.\n",
    "$$\n",
    "\n",
    "After you fit the model make the error vs predicted plot one final time."
   ]
  },
  {
   "cell_type": "code",
   "execution_count": null,
   "metadata": {},
   "outputs": [],
   "source": [
    "## code here\n",
    "\n"
   ]
  },
  {
   "cell_type": "code",
   "execution_count": null,
   "metadata": {},
   "outputs": [],
   "source": [
    "## code here\n",
    "\n"
   ]
  },
  {
   "cell_type": "code",
   "execution_count": null,
   "metadata": {},
   "outputs": [],
   "source": [
    "## code here\n",
    "\n"
   ]
  },
  {
   "cell_type": "code",
   "execution_count": null,
   "metadata": {},
   "outputs": [],
   "source": [
    "## code here\n",
    "\n"
   ]
  },
  {
   "cell_type": "code",
   "execution_count": null,
   "metadata": {},
   "outputs": [],
   "source": [
    "## code here\n",
    "\n"
   ]
  },
  {
   "cell_type": "markdown",
   "metadata": {},
   "source": [
    "This error plot should look more \"normal\", meaning that it falls in a relatively uniform band between the negative and positive version of a number (like $-1$ and $1$ for example). There may be some bowing or a couple outliers, but I believe the method needed to help with this remaining weirdness is outside of what we have learned so far."
   ]
  },
  {
   "cell_type": "markdown",
   "metadata": {},
   "source": [
    "We will end this problem with trying to build the \"best\" predictive model, meaning the model we believe will have the lowest MSE.\n",
    "\n",
    "Build a selection of models including:\n",
    "- the three you have looked at up to this point\n",
    "- a baseline model\n",
    "- $\\text{sales} = \\beta_0 + \\beta_1 \\text{TV} + \\beta_2 \\text{radio} + \\beta_3 \\text{newspaper} + \\epsilon$, and\n",
    "- $\\text{sales} = \\beta_0 + \\beta_1 \\sqrt{\\text{TV}} + \\beta_2 \\text{radio} + \\beta_3 \\sqrt{\\text{TV}} \\times\n",
    "\\text{radio} + \\beta_4 \\text{newspaper} + \\epsilon$.\n",
    "\n",
    "Use `sklearn`'s `KFold` object, <a href=\"https://scikit-learn.org/stable/modules/generated/sklearn.model_selection.KFold.html\">https://scikit-learn.org/stable/modules/generated/sklearn.model_selection.KFold.html</a>, to perform 5-fold cross-validation to select the model with the lowest average cross-validation MSE."
   ]
  },
  {
   "cell_type": "code",
   "execution_count": null,
   "metadata": {},
   "outputs": [],
   "source": [
    "## code here\n",
    "\n"
   ]
  },
  {
   "cell_type": "code",
   "execution_count": null,
   "metadata": {},
   "outputs": [],
   "source": [
    "## code here\n",
    "\n"
   ]
  },
  {
   "cell_type": "code",
   "execution_count": null,
   "metadata": {},
   "outputs": [],
   "source": [
    "## code here\n",
    "\n"
   ]
  },
  {
   "cell_type": "code",
   "execution_count": null,
   "metadata": {},
   "outputs": [],
   "source": [
    "## code here\n",
    "\n"
   ]
  },
  {
   "cell_type": "code",
   "execution_count": null,
   "metadata": {},
   "outputs": [],
   "source": [
    "## code here\n",
    "\n"
   ]
  },
  {
   "cell_type": "code",
   "execution_count": null,
   "metadata": {},
   "outputs": [],
   "source": [
    "## code here\n",
    "\n"
   ]
  },
  {
   "cell_type": "code",
   "execution_count": null,
   "metadata": {},
   "outputs": [],
   "source": [
    "## code here\n",
    "\n"
   ]
  },
  {
   "cell_type": "code",
   "execution_count": null,
   "metadata": {},
   "outputs": [],
   "source": [
    "## code here\n",
    "\n"
   ]
  },
  {
   "cell_type": "code",
   "execution_count": null,
   "metadata": {},
   "outputs": [],
   "source": [
    "## code here\n",
    "\n"
   ]
  },
  {
   "cell_type": "markdown",
   "metadata": {},
   "source": [
    "--------------------------\n",
    "\n",
    "This notebook was written for the Erd&#337;s Institute C&#337;de Data Science Boot Camp by Matthew Osborne, Ph. D., 2023.\n",
    "\n",
    "Any potential redistributors must seek and receive permission from Matthew Tyler Osborne, Ph.D. prior to redistribution. Redistribution of the material contained in this repository is conditional on acknowledgement of Matthew Tyler Osborne, Ph.D.'s original authorship and sponsorship of the Erdős Institute as subject to the license (see License.md)"
   ]
  },
  {
   "cell_type": "code",
   "execution_count": null,
   "metadata": {},
   "outputs": [],
   "source": []
  }
 ],
 "metadata": {
  "kernelspec": {
   "display_name": "Python 3 (ipykernel)",
   "language": "python",
   "name": "python3"
  },
  "language_info": {
   "codemirror_mode": {
    "name": "ipython",
    "version": 3
   },
   "file_extension": ".py",
   "mimetype": "text/x-python",
   "name": "python",
   "nbconvert_exporter": "python",
   "pygments_lexer": "ipython3",
   "version": "3.9.16"
  }
 },
 "nbformat": 4,
 "nbformat_minor": 2
}
