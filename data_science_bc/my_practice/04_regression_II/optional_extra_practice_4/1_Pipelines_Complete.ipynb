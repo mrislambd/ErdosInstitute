{
 "cells": [
  {
   "cell_type": "markdown",
   "id": "652e0827",
   "metadata": {},
   "source": [
    "# Pipelines\n",
    "\n",
    "The problems in this notebook correspond to the concepts covered in:\n",
    "- `Lectures/Cleaning/2. Basic Pipelins` and\n",
    "- `Lectures/Cleaning/5. More Advanced Pipelines`.\n",
    "\n",
    "Note you should wait to solve these problems until after we have covered the first few `Classification` lecture notebooks."
   ]
  },
  {
   "cell_type": "code",
   "execution_count": 1,
   "id": "9ce6e2c5",
   "metadata": {},
   "outputs": [],
   "source": [
    "import pandas as pd\n",
    "import numpy as np"
   ]
  },
  {
   "cell_type": "markdown",
   "id": "18650f6e",
   "metadata": {},
   "source": [
    "##### 1. `iris` pipeline\n",
    "\n",
    "Load the usual iris data set from `sklearn`. Build a pipleline that scales these data then fits a $k$-nearest neighbors model to predict the iris type."
   ]
  },
  {
   "cell_type": "code",
   "execution_count": 2,
   "id": "a84b23fc",
   "metadata": {},
   "outputs": [],
   "source": [
    "from sklearn.datasets import load_iris\n",
    "from sklearn.model_selection import train_test_split"
   ]
  },
  {
   "cell_type": "code",
   "execution_count": 3,
   "id": "7df4ad1b",
   "metadata": {},
   "outputs": [],
   "source": [
    "data = load_iris()\n",
    "\n",
    "data.keys()\n",
    "\n",
    "X = data['data']\n",
    "y = data['target']"
   ]
  },
  {
   "cell_type": "code",
   "execution_count": 4,
   "id": "4b533c14",
   "metadata": {},
   "outputs": [],
   "source": [
    "X_train, X_test, y_train, y_test = train_test_split(X, y,\n",
    "                                            test_size=.2,\n",
    "                                            shuffle=True,\n",
    "                                            random_state=40301)"
   ]
  },
  {
   "cell_type": "markdown",
   "id": "d995f833",
   "metadata": {},
   "source": [
    "##### Sample Solution"
   ]
  },
  {
   "cell_type": "code",
   "execution_count": 5,
   "id": "b6214cde",
   "metadata": {},
   "outputs": [],
   "source": [
    "from sklearn.preprocessing import StandardScaler\n",
    "from sklearn.pipeline import Pipeline\n",
    "from sklearn.neighbors import KNeighborsClassifier\n",
    "from sklearn.metrics import accuracy_score, confusion_matrix"
   ]
  },
  {
   "cell_type": "code",
   "execution_count": 6,
   "id": "8e82fb43",
   "metadata": {},
   "outputs": [
    {
     "data": {
      "text/html": [
       "<style>#sk-container-id-1 {color: black;background-color: white;}#sk-container-id-1 pre{padding: 0;}#sk-container-id-1 div.sk-toggleable {background-color: white;}#sk-container-id-1 label.sk-toggleable__label {cursor: pointer;display: block;width: 100%;margin-bottom: 0;padding: 0.3em;box-sizing: border-box;text-align: center;}#sk-container-id-1 label.sk-toggleable__label-arrow:before {content: \"▸\";float: left;margin-right: 0.25em;color: #696969;}#sk-container-id-1 label.sk-toggleable__label-arrow:hover:before {color: black;}#sk-container-id-1 div.sk-estimator:hover label.sk-toggleable__label-arrow:before {color: black;}#sk-container-id-1 div.sk-toggleable__content {max-height: 0;max-width: 0;overflow: hidden;text-align: left;background-color: #f0f8ff;}#sk-container-id-1 div.sk-toggleable__content pre {margin: 0.2em;color: black;border-radius: 0.25em;background-color: #f0f8ff;}#sk-container-id-1 input.sk-toggleable__control:checked~div.sk-toggleable__content {max-height: 200px;max-width: 100%;overflow: auto;}#sk-container-id-1 input.sk-toggleable__control:checked~label.sk-toggleable__label-arrow:before {content: \"▾\";}#sk-container-id-1 div.sk-estimator input.sk-toggleable__control:checked~label.sk-toggleable__label {background-color: #d4ebff;}#sk-container-id-1 div.sk-label input.sk-toggleable__control:checked~label.sk-toggleable__label {background-color: #d4ebff;}#sk-container-id-1 input.sk-hidden--visually {border: 0;clip: rect(1px 1px 1px 1px);clip: rect(1px, 1px, 1px, 1px);height: 1px;margin: -1px;overflow: hidden;padding: 0;position: absolute;width: 1px;}#sk-container-id-1 div.sk-estimator {font-family: monospace;background-color: #f0f8ff;border: 1px dotted black;border-radius: 0.25em;box-sizing: border-box;margin-bottom: 0.5em;}#sk-container-id-1 div.sk-estimator:hover {background-color: #d4ebff;}#sk-container-id-1 div.sk-parallel-item::after {content: \"\";width: 100%;border-bottom: 1px solid gray;flex-grow: 1;}#sk-container-id-1 div.sk-label:hover label.sk-toggleable__label {background-color: #d4ebff;}#sk-container-id-1 div.sk-serial::before {content: \"\";position: absolute;border-left: 1px solid gray;box-sizing: border-box;top: 0;bottom: 0;left: 50%;z-index: 0;}#sk-container-id-1 div.sk-serial {display: flex;flex-direction: column;align-items: center;background-color: white;padding-right: 0.2em;padding-left: 0.2em;position: relative;}#sk-container-id-1 div.sk-item {position: relative;z-index: 1;}#sk-container-id-1 div.sk-parallel {display: flex;align-items: stretch;justify-content: center;background-color: white;position: relative;}#sk-container-id-1 div.sk-item::before, #sk-container-id-1 div.sk-parallel-item::before {content: \"\";position: absolute;border-left: 1px solid gray;box-sizing: border-box;top: 0;bottom: 0;left: 50%;z-index: -1;}#sk-container-id-1 div.sk-parallel-item {display: flex;flex-direction: column;z-index: 1;position: relative;background-color: white;}#sk-container-id-1 div.sk-parallel-item:first-child::after {align-self: flex-end;width: 50%;}#sk-container-id-1 div.sk-parallel-item:last-child::after {align-self: flex-start;width: 50%;}#sk-container-id-1 div.sk-parallel-item:only-child::after {width: 0;}#sk-container-id-1 div.sk-dashed-wrapped {border: 1px dashed gray;margin: 0 0.4em 0.5em 0.4em;box-sizing: border-box;padding-bottom: 0.4em;background-color: white;}#sk-container-id-1 div.sk-label label {font-family: monospace;font-weight: bold;display: inline-block;line-height: 1.2em;}#sk-container-id-1 div.sk-label-container {text-align: center;}#sk-container-id-1 div.sk-container {/* jupyter's `normalize.less` sets `[hidden] { display: none; }` but bootstrap.min.css set `[hidden] { display: none !important; }` so we also need the `!important` here to be able to override the default hidden behavior on the sphinx rendered scikit-learn.org. See: https://github.com/scikit-learn/scikit-learn/issues/21755 */display: inline-block !important;position: relative;}#sk-container-id-1 div.sk-text-repr-fallback {display: none;}</style><div id=\"sk-container-id-1\" class=\"sk-top-container\"><div class=\"sk-text-repr-fallback\"><pre>Pipeline(steps=[(&#x27;scale&#x27;, StandardScaler()), (&#x27;knn&#x27;, KNeighborsClassifier())])</pre><b>In a Jupyter environment, please rerun this cell to show the HTML representation or trust the notebook. <br />On GitHub, the HTML representation is unable to render, please try loading this page with nbviewer.org.</b></div><div class=\"sk-container\" hidden><div class=\"sk-item sk-dashed-wrapped\"><div class=\"sk-label-container\"><div class=\"sk-label sk-toggleable\"><input class=\"sk-toggleable__control sk-hidden--visually\" id=\"sk-estimator-id-1\" type=\"checkbox\" ><label for=\"sk-estimator-id-1\" class=\"sk-toggleable__label sk-toggleable__label-arrow\">Pipeline</label><div class=\"sk-toggleable__content\"><pre>Pipeline(steps=[(&#x27;scale&#x27;, StandardScaler()), (&#x27;knn&#x27;, KNeighborsClassifier())])</pre></div></div></div><div class=\"sk-serial\"><div class=\"sk-item\"><div class=\"sk-estimator sk-toggleable\"><input class=\"sk-toggleable__control sk-hidden--visually\" id=\"sk-estimator-id-2\" type=\"checkbox\" ><label for=\"sk-estimator-id-2\" class=\"sk-toggleable__label sk-toggleable__label-arrow\">StandardScaler</label><div class=\"sk-toggleable__content\"><pre>StandardScaler()</pre></div></div></div><div class=\"sk-item\"><div class=\"sk-estimator sk-toggleable\"><input class=\"sk-toggleable__control sk-hidden--visually\" id=\"sk-estimator-id-3\" type=\"checkbox\" ><label for=\"sk-estimator-id-3\" class=\"sk-toggleable__label sk-toggleable__label-arrow\">KNeighborsClassifier</label><div class=\"sk-toggleable__content\"><pre>KNeighborsClassifier()</pre></div></div></div></div></div></div></div>"
      ],
      "text/plain": [
       "Pipeline(steps=[('scale', StandardScaler()), ('knn', KNeighborsClassifier())])"
      ]
     },
     "execution_count": 6,
     "metadata": {},
     "output_type": "execute_result"
    }
   ],
   "source": [
    "pipe = Pipeline([('scale', StandardScaler()),\n",
    "                    ('knn', KNeighborsClassifier(5))])\n",
    "\n",
    "\n",
    "pipe.fit(X_train, y_train)"
   ]
  },
  {
   "cell_type": "code",
   "execution_count": 7,
   "id": "d69e4e0e",
   "metadata": {},
   "outputs": [
    {
     "data": {
      "text/plain": [
       "0.9666666666666667"
      ]
     },
     "execution_count": 7,
     "metadata": {},
     "output_type": "execute_result"
    }
   ],
   "source": [
    "accuracy_score(y_train, pipe.predict(X_train))"
   ]
  },
  {
   "cell_type": "code",
   "execution_count": 8,
   "id": "40d60538",
   "metadata": {},
   "outputs": [
    {
     "data": {
      "text/plain": [
       "array([[40,  0,  0],\n",
       "       [ 0, 39,  2],\n",
       "       [ 0,  2, 37]])"
      ]
     },
     "execution_count": 8,
     "metadata": {},
     "output_type": "execute_result"
    }
   ],
   "source": [
    "confusion_matrix(y_train, pipe.predict(X_train))"
   ]
  },
  {
   "cell_type": "markdown",
   "id": "0c00174c",
   "metadata": {},
   "source": [
    "##### 2. `iris` with NAs pipeline - `SimpleImputer`\n",
    "\n",
    "Now load the adjusted iris data set which has some missing values.\n",
    "\n",
    "Build a pipeline that imputes the missing values with the `SimpleImputer` using the median, scales the data then fits $k$NN with $k=5$."
   ]
  },
  {
   "cell_type": "code",
   "execution_count": 9,
   "id": "0b19a056",
   "metadata": {},
   "outputs": [],
   "source": [
    "iris = pd.read_csv(\"../../data/iris_w_nas.csv\")\n",
    "\n",
    "iris_train, iris_test = train_test_split(iris.copy(),\n",
    "                                            shuffle=True,\n",
    "                                            random_state=233,\n",
    "                                            stratify = iris['iris_class'])"
   ]
  },
  {
   "cell_type": "markdown",
   "id": "4f5483e1",
   "metadata": {},
   "source": [
    "##### Sample Solution"
   ]
  },
  {
   "cell_type": "code",
   "execution_count": 10,
   "id": "b1007dee",
   "metadata": {},
   "outputs": [],
   "source": [
    "from sklearn.impute import SimpleImputer"
   ]
  },
  {
   "cell_type": "code",
   "execution_count": 11,
   "id": "798c8ace",
   "metadata": {},
   "outputs": [],
   "source": [
    "pipe = Pipeline([('impute', SimpleImputer(strategy='median')),\n",
    "                    ('scale', StandardScaler()),\n",
    "                    ('knn', KNeighborsClassifier(5))])"
   ]
  },
  {
   "cell_type": "code",
   "execution_count": 12,
   "id": "754d6ab5",
   "metadata": {},
   "outputs": [
    {
     "data": {
      "text/plain": [
       "array([0, 1, 1, 0, 0, 2, 2, 1, 2, 2, 2, 1, 2, 0, 1, 2, 1, 2, 1, 0, 1, 2,\n",
       "       2, 0, 2, 1, 2, 0, 0, 2, 2, 0, 2, 0, 2, 0, 0, 0, 1, 0, 0, 2, 2, 1,\n",
       "       1, 1, 1, 2, 1, 2, 1, 1, 0, 0, 0, 1, 2, 1, 2, 2, 1, 0, 1, 0, 1, 0,\n",
       "       0, 0, 0, 0, 1, 0, 1, 1, 0, 2, 1, 2, 2, 2, 2, 1, 1, 0, 0, 2, 2, 0,\n",
       "       2, 1, 1, 0, 1, 1, 1, 1, 0, 0, 0, 0, 1, 2, 1, 1, 2, 0, 1, 0, 1, 1,\n",
       "       2, 0])"
      ]
     },
     "execution_count": 12,
     "metadata": {},
     "output_type": "execute_result"
    }
   ],
   "source": [
    "pipe.fit(iris_train[['sepal_length',\n",
    "                        'sepal_width',\n",
    "                        'petal_length',\n",
    "                        'petal_width']],\n",
    "            iris_train.iris_class)\n",
    "\n",
    "pred = pipe.predict(iris_train[['sepal_length',\n",
    "                        'sepal_width',\n",
    "                        'petal_length',\n",
    "                        'petal_width']])\n",
    "\n",
    "\n",
    "pipe.predict(iris_train[['sepal_length',\n",
    "                        'sepal_width',\n",
    "                        'petal_length',\n",
    "                        'petal_width']])"
   ]
  },
  {
   "cell_type": "code",
   "execution_count": 13,
   "id": "494525c8",
   "metadata": {},
   "outputs": [
    {
     "data": {
      "text/plain": [
       "0.9375"
      ]
     },
     "execution_count": 13,
     "metadata": {},
     "output_type": "execute_result"
    }
   ],
   "source": [
    "accuracy_score(iris_train.iris_class, pred)"
   ]
  },
  {
   "cell_type": "code",
   "execution_count": 14,
   "id": "ba6f7b17",
   "metadata": {},
   "outputs": [
    {
     "data": {
      "text/plain": [
       "array([[38,  0,  0],\n",
       "       [ 0, 35,  2],\n",
       "       [ 0,  5, 32]])"
      ]
     },
     "execution_count": 14,
     "metadata": {},
     "output_type": "execute_result"
    }
   ],
   "source": [
    "confusion_matrix(iris_train.iris_class, pred)"
   ]
  },
  {
   "cell_type": "markdown",
   "id": "48e7e365",
   "metadata": {},
   "source": [
    "##### 3. `iris` with NAs pipeline - `KNNImputer`\n",
    "\n",
    "Rebuild the pipeline in 2. but this time use `KNNImputer`, <a href=\"https://scikit-learn.org/stable/modules/generated/sklearn.impute.KNNImputer.html#sklearn.impute.KNNImputer\">https://scikit-learn.org/stable/modules/generated/sklearn.impute.KNNImputer.html#sklearn.impute.KNNImputer</a>, with $k=5$ instead of `SimpleImputer`."
   ]
  },
  {
   "cell_type": "markdown",
   "id": "3cd2a7cd",
   "metadata": {},
   "source": [
    "##### Sample Solution"
   ]
  },
  {
   "cell_type": "code",
   "execution_count": 15,
   "id": "28281625",
   "metadata": {},
   "outputs": [],
   "source": [
    "from sklearn.impute import KNNImputer"
   ]
  },
  {
   "cell_type": "code",
   "execution_count": 16,
   "id": "0f10df45",
   "metadata": {},
   "outputs": [],
   "source": [
    "pipe = Pipeline([('impute', KNNImputer(n_neighbors=5)),\n",
    "                    ('scale', StandardScaler()),\n",
    "                    ('knn', KNeighborsClassifier(5))])"
   ]
  },
  {
   "cell_type": "code",
   "execution_count": 17,
   "id": "e0fe1f49",
   "metadata": {},
   "outputs": [
    {
     "data": {
      "text/plain": [
       "array([0, 1, 1, 0, 0, 2, 2, 1, 2, 2, 2, 1, 2, 0, 1, 2, 1, 2, 2, 0, 1, 2,\n",
       "       2, 0, 2, 1, 2, 0, 0, 2, 2, 0, 2, 0, 2, 0, 0, 0, 1, 0, 0, 2, 2, 1,\n",
       "       1, 1, 1, 2, 1, 2, 1, 1, 0, 0, 0, 1, 2, 1, 2, 2, 1, 0, 1, 0, 1, 0,\n",
       "       0, 0, 0, 0, 1, 0, 1, 1, 0, 2, 1, 2, 2, 2, 2, 1, 1, 0, 0, 2, 2, 0,\n",
       "       2, 1, 1, 0, 1, 2, 1, 1, 0, 0, 0, 0, 1, 2, 1, 1, 2, 0, 1, 0, 2, 1,\n",
       "       2, 0])"
      ]
     },
     "execution_count": 17,
     "metadata": {},
     "output_type": "execute_result"
    }
   ],
   "source": [
    "pipe.fit(iris_train[['sepal_length',\n",
    "                        'sepal_width',\n",
    "                        'petal_length',\n",
    "                        'petal_width']],\n",
    "            iris_train.iris_class)\n",
    "\n",
    "pred = pipe.predict(iris_train[['sepal_length',\n",
    "                        'sepal_width',\n",
    "                        'petal_length',\n",
    "                        'petal_width']])\n",
    "\n",
    "\n",
    "pipe.predict(iris_train[['sepal_length',\n",
    "                        'sepal_width',\n",
    "                        'petal_length',\n",
    "                        'petal_width']])"
   ]
  },
  {
   "cell_type": "code",
   "execution_count": 18,
   "id": "27de6633",
   "metadata": {},
   "outputs": [
    {
     "data": {
      "text/plain": [
       "0.9642857142857143"
      ]
     },
     "execution_count": 18,
     "metadata": {},
     "output_type": "execute_result"
    }
   ],
   "source": [
    "accuracy_score(iris_train.iris_class, pred)"
   ]
  },
  {
   "cell_type": "code",
   "execution_count": 19,
   "id": "f022410b",
   "metadata": {},
   "outputs": [
    {
     "data": {
      "text/plain": [
       "array([[38,  0,  0],\n",
       "       [ 0, 35,  2],\n",
       "       [ 0,  2, 35]])"
      ]
     },
     "execution_count": 19,
     "metadata": {},
     "output_type": "execute_result"
    }
   ],
   "source": [
    "confusion_matrix(iris_train.iris_class, pred)"
   ]
  },
  {
   "cell_type": "markdown",
   "id": "ee47be8c",
   "metadata": {},
   "source": [
    "##### 4. `iris` with NAs pipeline - Custom Imputer \n",
    "\n",
    "<i>You may want to go through `Lectures/Cleaning/5. More Advanced Pipelines` prior to attempting this exercise.</i>\n",
    "\n",
    "Create a custom imputer object to impute the missing values of `petal_width` by regressing onto the other three features.\n",
    "\n",
    "Use that imputer as the first step in the pipeline you have built in problems 2. and 3. above."
   ]
  },
  {
   "cell_type": "markdown",
   "id": "1fc69d17",
   "metadata": {},
   "source": [
    "##### Sample Solution"
   ]
  },
  {
   "cell_type": "code",
   "execution_count": 20,
   "id": "4c4620a0",
   "metadata": {},
   "outputs": [],
   "source": [
    "from sklearn.base import BaseEstimator, TransformerMixin\n",
    "from sklearn.linear_model import LinearRegression"
   ]
  },
  {
   "cell_type": "code",
   "execution_count": 21,
   "id": "eeea8507",
   "metadata": {},
   "outputs": [],
   "source": [
    "from sklearn.linear_model import LinearRegression\n",
    "\n",
    "class reg_impute(BaseEstimator, TransformerMixin):\n",
    "    # Class Constructor \n",
    "    # This allows you to initiate the class when you call\n",
    "    # reg_impute\n",
    "    def __init__(self):\n",
    "        # I want to initiate each object with\n",
    "        # an unfitted LinearRegression object\n",
    "        self.LinearRegression = LinearRegression()\n",
    "        \n",
    "        \n",
    "    \n",
    "    # fitting the LinearRegression\n",
    "    def fit(self, X, y = None ):\n",
    "        ## first get where there is complete data to fit the model\n",
    "        X_no_nas = X.loc[~X.petal_width.isna()].copy()\n",
    "        \n",
    "        ## Then fit the linear regression with that data\n",
    "        self.LinearRegression.fit(X_no_nas[['sepal_length',\n",
    "                                        'sepal_width',\n",
    "                                        'petal_length']],\n",
    "                                     X_no_nas['petal_width'])\n",
    "        return self\n",
    "    \n",
    "    # transform should return the data with imputed values\n",
    "    def transform(self, X, y = None):\n",
    "        ## first I copy X\n",
    "        copy_X = X.copy()\n",
    "        \n",
    "        ## This replaces the missing values of `petal_width`\n",
    "        ## with regressed values\n",
    "        copy_X.loc[copy_X.petal_width.isna(),\n",
    "                      'petal_width'] = self.LinearRegression.predict(copy_X.loc[copy_X.petal_width.isna(),\n",
    "                                                                                            ['sepal_length',\n",
    "                                                                                                'sepal_width',\n",
    "                                                                                                'petal_length']])\n",
    "        return copy_X"
   ]
  },
  {
   "cell_type": "code",
   "execution_count": 22,
   "id": "2221e416",
   "metadata": {},
   "outputs": [],
   "source": [
    "pipe = Pipeline([('impute', reg_impute()),\n",
    "                    ('scale', StandardScaler()),\n",
    "                    ('knn', KNeighborsClassifier(5))])"
   ]
  },
  {
   "cell_type": "code",
   "execution_count": 23,
   "id": "92ac8271",
   "metadata": {},
   "outputs": [
    {
     "data": {
      "text/plain": [
       "array([0, 1, 1, 0, 0, 1, 2, 1, 2, 2, 2, 1, 2, 0, 1, 2, 1, 2, 2, 0, 1, 2,\n",
       "       2, 0, 2, 1, 2, 0, 0, 2, 2, 0, 2, 0, 2, 0, 0, 0, 1, 0, 0, 2, 2, 1,\n",
       "       1, 1, 1, 2, 1, 2, 1, 1, 0, 0, 0, 1, 2, 1, 2, 2, 1, 0, 1, 0, 1, 0,\n",
       "       0, 0, 0, 0, 1, 0, 1, 1, 0, 2, 1, 2, 2, 2, 2, 1, 1, 0, 0, 2, 2, 0,\n",
       "       2, 1, 1, 0, 1, 2, 1, 1, 0, 0, 0, 0, 1, 2, 1, 1, 2, 0, 1, 0, 2, 1,\n",
       "       2, 0])"
      ]
     },
     "execution_count": 23,
     "metadata": {},
     "output_type": "execute_result"
    }
   ],
   "source": [
    "pipe.fit(iris_train[['sepal_length',\n",
    "                        'sepal_width',\n",
    "                        'petal_length',\n",
    "                        'petal_width']],\n",
    "            iris_train.iris_class)\n",
    "\n",
    "pred = pipe.predict(iris_train[['sepal_length',\n",
    "                        'sepal_width',\n",
    "                        'petal_length',\n",
    "                        'petal_width']])\n",
    "\n",
    "\n",
    "pipe.predict(iris_train[['sepal_length',\n",
    "                        'sepal_width',\n",
    "                        'petal_length',\n",
    "                        'petal_width']])"
   ]
  },
  {
   "cell_type": "code",
   "execution_count": 24,
   "id": "f1ae1735",
   "metadata": {},
   "outputs": [
    {
     "data": {
      "text/plain": [
       "0.9732142857142857"
      ]
     },
     "execution_count": 24,
     "metadata": {},
     "output_type": "execute_result"
    }
   ],
   "source": [
    "accuracy_score(iris_train.iris_class, pred)"
   ]
  },
  {
   "cell_type": "code",
   "execution_count": 25,
   "id": "35986d2b",
   "metadata": {},
   "outputs": [
    {
     "data": {
      "text/plain": [
       "array([[38,  0,  0],\n",
       "       [ 0, 36,  1],\n",
       "       [ 0,  2, 35]])"
      ]
     },
     "execution_count": 25,
     "metadata": {},
     "output_type": "execute_result"
    }
   ],
   "source": [
    "confusion_matrix(iris_train.iris_class, pred)"
   ]
  },
  {
   "cell_type": "markdown",
   "id": "b1eb8584",
   "metadata": {},
   "source": [
    "--------------------------\n",
    "\n",
    "This notebook was written for the Erd&#337;s Institute C&#337;de Data Science Boot Camp by Matthew Osborne, Ph. D., 2023.\n",
    "\n",
    "Any potential redistributors must seek and receive permission from Matthew Tyler Osborne, Ph.D. prior to redistribution. Redistribution of the material contained in this repository is conditional on acknowledgement of Matthew Tyler Osborne, Ph.D.'s original authorship and sponsorship of the Erdős Institute as subject to the license (see License.md)"
   ]
  },
  {
   "cell_type": "code",
   "execution_count": null,
   "id": "44d99b75",
   "metadata": {},
   "outputs": [],
   "source": []
  }
 ],
 "metadata": {
  "kernelspec": {
   "display_name": "Python 3 (ipykernel)",
   "language": "python",
   "name": "python3"
  },
  "language_info": {
   "codemirror_mode": {
    "name": "ipython",
    "version": 3
   },
   "file_extension": ".py",
   "mimetype": "text/x-python",
   "name": "python",
   "nbconvert_exporter": "python",
   "pygments_lexer": "ipython3",
   "version": "3.9.16"
  }
 },
 "nbformat": 4,
 "nbformat_minor": 5
}
