{
 "cells": [
  {
   "cell_type": "markdown",
   "id": "b59137f5",
   "metadata": {},
   "source": [
    "# Problem Session 11\n",
    "## A Concrete Strength Regression problem using Ensembles"
   ]
  },
  {
   "cell_type": "code",
   "execution_count": 1,
   "id": "92da2294",
   "metadata": {},
   "outputs": [],
   "source": [
    "## For data handling\n",
    "import pandas as pd\n",
    "import numpy as np\n",
    "\n",
    "## For plotting\n",
    "import matplotlib.pyplot as plt\n",
    "import seaborn as sns\n",
    "\n",
    "## This sets the plot style\n",
    "## to have a grid on a dark background\n",
    "sns.set_style(\"whitegrid\")"
   ]
  },
  {
   "cell_type": "markdown",
   "id": "8e825338",
   "metadata": {},
   "source": [
    "##### EDA and preprocessing\n",
    "\n",
    "We will work with the following dataset:\n",
    "\n",
    "Yeh,I-Cheng. (2007). Concrete Compressive Strength. UCI Machine Learning Repository. https://doi.org/10.24432/C5PK67.\n",
    "\n",
    "1. Print the ReadMe file and read the variable descriptions.  The file is `Concrete_readme.txt` in this directory.\n",
    "2. Load the data as a pandas DataFrame. The data is located in `../../data/concrete.csv`.\n",
    "    * Note:  the last column `Concrete compressive strength(MPa, megapascals)` is our target variable and the rest are features.\n",
    "3. Make a train/validation/test split.\n",
    "4. Use `sns.pairplot` to visualize the relationship between each feature and the target.\n",
    "    * Discussion question:  which of the following should you use for this visualization and why?\n",
    "        * The training set\n",
    "        * The combined training and validation set\n",
    "        * The full data set\n",
    "        * Only the validation set"
   ]
  },
  {
   "cell_type": "code",
   "execution_count": null,
   "id": "a15757c5",
   "metadata": {},
   "outputs": [],
   "source": []
  },
  {
   "cell_type": "markdown",
   "id": "2d489d83",
   "metadata": {},
   "source": [
    "##### Model Selection\n",
    "\n",
    "Train each of the following models on the training set using their default parameters. Which has the smallest \"out of the box\" mean squared error?\n",
    "\n",
    "* Linear Regression\n",
    "* kNN\n",
    "* Support Vector Machine Regressor\n",
    "* Random Forest Regressor\n",
    "* AdaBoost Regressor\n",
    "* Gradient Boosting Regressor\n",
    "* XGBoost Regressor"
   ]
  },
  {
   "cell_type": "code",
   "execution_count": null,
   "id": "1157e370",
   "metadata": {},
   "outputs": [],
   "source": []
  },
  {
   "cell_type": "markdown",
   "id": "5d437f2f",
   "metadata": {},
   "source": [
    "##### Hyperparameter tuning and test set evaluation\n",
    "\n",
    "Select the model which had the lowest MSE \"right out of the box\".  Do cross validation hyperparameter tuning on the combined training and validation set.  Note that if you make your grid of hyperparameters too large it might take a very long time to run.\n",
    "\n",
    "Once you obtain the hyperparameters with the best cross validation performance, train the model with those hyperparameters on the combined training and validation set.\n",
    "\n",
    "Evaluate performance on the test set.  Is it comparable to your training set performance?"
   ]
  },
  {
   "cell_type": "code",
   "execution_count": null,
   "id": "1ad81e3c",
   "metadata": {},
   "outputs": [],
   "source": []
  },
  {
   "cell_type": "markdown",
   "id": "02c4da73",
   "metadata": {},
   "source": [
    "Discussion Prompt:  A construction company is building a bridge and contracted out the specs to an engineer.  The engineer told them they needed to ensure that the concrete compressive strength is at least $50 \\textrm{ MPa}$ given the design constraints.  According to your model, the particular mix they are using is predicted to be $60 \\textrm{ MPa}$.\n",
    "\n",
    "Discuss this situation from a technical, ethical, and legal perspective.  Who else would you want to loop into this conversation?  \n",
    "\n",
    "Do a little further model assessment to see what the risk is.  For example, are there any instances where the model predicted strength in excess of $55 \\textrm{ MPa}$ but the actual strength was less than $50 \\textrm{ MPa}$?  What else could you do to assess the risk here?"
   ]
  },
  {
   "cell_type": "code",
   "execution_count": null,
   "id": "f53cf8ce",
   "metadata": {},
   "outputs": [],
   "source": []
  }
 ],
 "metadata": {
  "kernelspec": {
   "display_name": "Python 3 (ipykernel)",
   "language": "python",
   "name": "python3"
  },
  "language_info": {
   "codemirror_mode": {
    "name": "ipython",
    "version": 3
   },
   "file_extension": ".py",
   "mimetype": "text/x-python",
   "name": "python",
   "nbconvert_exporter": "python",
   "pygments_lexer": "ipython3",
   "version": "3.11.7"
  }
 },
 "nbformat": 4,
 "nbformat_minor": 5
}
