{
 "cells": [
  {
   "cell_type": "markdown",
   "id": "d0ad11a2",
   "metadata": {},
   "source": [
    "# Problem Session 3\n",
    "\n",
    "In this problem session we practice our skills with :\n",
    "\n",
    "* Exploratory Data Analysis\n",
    "* Simple linear regression\n",
    "* Multiple linear regression\n",
    "* kFold cross validation\n"
   ]
  },
  {
   "cell_type": "code",
   "execution_count": null,
   "id": "e1ca66c4",
   "metadata": {},
   "outputs": [],
   "source": [
    "## We first load in packages we will need\n",
    "import pandas as pd\n",
    "import numpy as np\n",
    "import matplotlib.pyplot as plt\n",
    "import seaborn as sns\n",
    "sns.set_style(\"whitegrid\")"
   ]
  },
  {
   "cell_type": "markdown",
   "id": "f8fa5526",
   "metadata": {},
   "source": [
    "#### 1. Introducing the data\n",
    "\n",
    "In this notebook you will work with a data set on vehicle prices found on Kaggle.com, <a href=\"https://www.kaggle.com/datasets/nehalbirla/vehicle-dataset-from-cardekho\">https://www.kaggle.com/datasets/nehalbirla/vehicle-dataset-from-cardekho</a>.\n",
    "\n",
    "These data provide the selling price of vehicles as well as various features that may or may not be related to those selling prices.\n",
    "\n",
    "##### a. \n",
    "\n",
    "First load the data for this problem. It is stored in the file `car_sales.csv` in the `Data` folder of the repository. After loading the data look at the first five rows of the dataset. Then run `cars.info()`, are there any missing values?"
   ]
  },
  {
   "cell_type": "code",
   "execution_count": null,
   "id": "04dcc27d",
   "metadata": {},
   "outputs": [],
   "source": [
    "## code here\n",
    "\n"
   ]
  },
  {
   "cell_type": "code",
   "execution_count": null,
   "id": "d0be995b",
   "metadata": {},
   "outputs": [],
   "source": [
    "## code here\n",
    "\n"
   ]
  },
  {
   "cell_type": "code",
   "execution_count": null,
   "id": "6a857ab3",
   "metadata": {},
   "outputs": [],
   "source": [
    "## code here\n",
    "\n"
   ]
  },
  {
   "cell_type": "markdown",
   "id": "ca8c3d9b",
   "metadata": {},
   "source": [
    "##### b.\n",
    "\n",
    "Take a second to read through the descriptions for each of the columns of the data set.\n",
    "\n",
    "- `name`: the name of the vehicle that was sold\n",
    "- `year`: the year that the vehicle was made\n",
    "- `selling_price`: the price of the vehicle when it was sold, what we want to predict\n",
    "- `km_driven`: the number of kilometers the vehicle had driven by the time it was sold\n",
    "- `fuel`: what kind of fuel the vehicle takes\n",
    "- `seller_type`: the kind of entity selling the vehicle\n",
    "- `transmission`: the kind of transmission in the vehicle\n",
    "- `owner`: how many owners has this vehicle had\n",
    "- `mileage`: how many kilometers per hour the vehicle is expected to get\n",
    "- `engine`: size of the engine in cubic centimeters\n",
    "- `max_power`: the maximum horsepower of the vehicle\n",
    "- `torque`: the torque of the vehicle\n",
    "- `seats`: the number of seats in the vehicle"
   ]
  },
  {
   "cell_type": "markdown",
   "id": "391d489a",
   "metadata": {},
   "source": [
    "##### c.\n",
    "\n",
    "Come up with two use cases for this data set. Try to make one fit more with an explanatory modeling perspective and the other with a predictive modeling perspective."
   ]
  },
  {
   "cell_type": "markdown",
   "id": "a47502dc",
   "metadata": {},
   "source": [
    "##### Write here\n",
    "\n"
   ]
  },
  {
   "cell_type": "markdown",
   "id": "c9202e81",
   "metadata": {},
   "source": [
    "##### d. \n",
    "\n",
    "There are future lecture notebooks that cover ways to <i>impute</i> missing values, but for this notebook you will simply remove the missing values. \n",
    "\n",
    "Use `dropna`, <a href=\"https://pandas.pydata.org/docs/reference/api/pandas.DataFrame.dropna.html\">https://pandas.pydata.org/docs/reference/api/pandas.DataFrame.dropna.html</a> to get a version of the data set that has had the missing values removed."
   ]
  },
  {
   "cell_type": "code",
   "execution_count": null,
   "id": "7d8f0fcd",
   "metadata": {},
   "outputs": [],
   "source": [
    "## code here\n",
    "\n"
   ]
  },
  {
   "cell_type": "code",
   "execution_count": null,
   "id": "59a614b9",
   "metadata": {},
   "outputs": [],
   "source": [
    "## code here\n",
    "\n"
   ]
  },
  {
   "cell_type": "markdown",
   "id": "45414a96",
   "metadata": {},
   "source": [
    "##### e.\n",
    "\n",
    "Looking at the first five rows you can notice that the columns `mileage`, `engine` and `max_power` represent numeric variables, but currently contain text. Before doing any modeling you will have to clean the data a little bit.\n",
    "\n",
    "Using `.apply`, <a href=\"https://pandas.pydata.org/docs/reference/api/pandas.DataFrame.apply.html\">https://pandas.pydata.org/docs/reference/api/pandas.DataFrame.apply.html</a>, and the function `clean_column` below clean up the `mileage`, `engine` and `max_power` columns. The end results should be purely numeric versions of those columns.\n",
    "\n",
    "We should also transform `year` slightly. These data were uploaded in 2020, meaning we can use 2020 as a reference year to calculate the age of the car at the moment it was sold. Create a new column called `age` that calculates the age of the car using 2020 as the reference year."
   ]
  },
  {
   "cell_type": "code",
   "execution_count": null,
   "id": "e4f8c228",
   "metadata": {},
   "outputs": [],
   "source": [
    "def clean_column(text):\n",
    "    return float(text.split()[0])"
   ]
  },
  {
   "cell_type": "code",
   "execution_count": null,
   "id": "91b9cf13",
   "metadata": {},
   "outputs": [],
   "source": [
    "## code here\n",
    "\n"
   ]
  },
  {
   "cell_type": "code",
   "execution_count": null,
   "id": "6e28f719",
   "metadata": {},
   "outputs": [],
   "source": [
    "## code here\n",
    "\n"
   ]
  },
  {
   "cell_type": "markdown",
   "id": "551611c8",
   "metadata": {},
   "source": [
    "### Predictive Model\n",
    "\n",
    "In the next couple of problem session notebooks you will build a series of models to predict the sale price of a given vehicle. In this notebook we will work on models that take in a single feature and use multiple features in a later notebook."
   ]
  },
  {
   "cell_type": "markdown",
   "id": "a8513e81",
   "metadata": {},
   "source": [
    "#### 2. Train test split\n",
    "\n",
    "The first step in predictive modeling is performing a train test split. Perform a train test split on these data, setting aside $20\\%$ of the data as a test set. Choose a `random_state` so your results are reproducible.\n",
    "\n",
    "As a refresher you can use `sklearn`'s `train_test_split` function, <a href=\"https://scikit-learn.org/stable/modules/generated/sklearn.model_selection.train_test_split.html\">https://scikit-learn.org/stable/modules/generated/sklearn.model_selection.train_test_split.html</a>."
   ]
  },
  {
   "cell_type": "code",
   "execution_count": null,
   "id": "354cc22d",
   "metadata": {},
   "outputs": [],
   "source": [
    "## Import train_test_split here\n"
   ]
  },
  {
   "cell_type": "code",
   "execution_count": null,
   "id": "9b3860a5",
   "metadata": {},
   "outputs": [],
   "source": [
    "## Make your split here\n",
    "## call the training set cars_train\n",
    "## call the test set cars_test\n",
    "\n"
   ]
  },
  {
   "cell_type": "markdown",
   "id": "519644af",
   "metadata": {},
   "source": [
    "#### 3. Exploratory data analysis (EDA)\n",
    "\n",
    "After the train test split we can work on some exploratory data analysis. Here is where we start to look at the data and see if we can generate any modeling ideas or hypotheses. You will make a series of plots and learn a modeling trick that should improve any models we make."
   ]
  },
  {
   "cell_type": "markdown",
   "id": "51da9e28",
   "metadata": {},
   "source": [
    "##### a.\n",
    "\n",
    "Fill in the code below to make histograms of `selling_price` and `km_driven` using the training data."
   ]
  },
  {
   "cell_type": "code",
   "execution_count": null,
   "id": "2ce283c2",
   "metadata": {},
   "outputs": [],
   "source": [
    "plt.figure(figsize=(7,5))\n",
    "\n",
    "## Input the desired data\n",
    "plt.hist(, bins=30)\n",
    "\n",
    "plt.xticks(fontsize=10)\n",
    "plt.yticks(fontsize=10)\n",
    "\n",
    "plt.ylabel(\"Count\", fontsize=12)\n",
    "plt.xlabel(\"Selling Price\", fontsize=12)\n",
    "\n",
    "plt.title(\"Histogram of Selling Price\", fontsize=14)\n",
    "\n",
    "plt.show()"
   ]
  },
  {
   "cell_type": "code",
   "execution_count": null,
   "id": "343968b2",
   "metadata": {},
   "outputs": [],
   "source": [
    "plt.figure(figsize=(7,5))\n",
    "\n",
    "## Input the desired data\n",
    "plt.hist(, bins=30)\n",
    "\n",
    "plt.xticks(fontsize=10)\n",
    "plt.yticks(fontsize=10)\n",
    "\n",
    "\n",
    "plt.ylabel(\"Count\", fontsize=12)\n",
    "plt.xlabel(\"Kilometers Driven\", fontsize=12)\n",
    "\n",
    "plt.title(\"Histogram of Kilometers Driven\", fontsize=14)\n",
    "\n",
    "plt.show()"
   ]
  },
  {
   "cell_type": "markdown",
   "id": "ad6e0472",
   "metadata": {},
   "source": [
    "##### b. \n",
    "\n",
    "Now use `seaborn`'s `pairplot`, <a href=\"https://seaborn.pydata.org/generated/seaborn.pairplot.html\">https://seaborn.pydata.org/generated/seaborn.pairplot.html</a> to plot `selling_price` against `km_driven`, `mileage` and `age`. Shell code is provided for you below."
   ]
  },
  {
   "cell_type": "code",
   "execution_count": null,
   "id": "49a83fa5",
   "metadata": {},
   "outputs": [],
   "source": [
    "sns.pairplot(, ## put the data frame here\n",
    "                y_vars = , ## put a list of the desired vertical variables here\n",
    "                x_vars = , ## put a list of the desired horizontal variables here\n",
    "                height = 5)\n",
    "\n",
    "plt.show()"
   ]
  },
  {
   "cell_type": "markdown",
   "id": "4074cc98",
   "metadata": {},
   "source": [
    "##### c.\n",
    "\n",
    "Do any of the previous relationships look linear? "
   ]
  },
  {
   "cell_type": "markdown",
   "id": "af9ee553",
   "metadata": {},
   "source": [
    "##### Write here\n"
   ]
  },
  {
   "cell_type": "markdown",
   "id": "8a0533be",
   "metadata": {},
   "source": [
    "##### d.\n",
    "\n",
    "Now you will learn a common trick in regression. Even if there is no direct linear relationship, we may still obtain a linear relationship between *transformed* versions of our variables.  When your distribution is highly skewed it can be useful to perform a $\\log$ transformation on the data.\n",
    "\n",
    "Make new columns in your training set that take the base 10 $\\log$ of `selling_price` and `km_driven`, then remake the `pairplot` replacing `selling_price` and `km_driven` with these newly transformed columns.\n",
    "\n",
    "<i>Hint: <a href=\"https://numpy.org/doc/stable/reference/generated/numpy.log10.html\">https://numpy.org/doc/stable/reference/generated/numpy.log10.html</a></i>"
   ]
  },
  {
   "cell_type": "code",
   "execution_count": null,
   "id": "19ecce7d",
   "metadata": {},
   "outputs": [],
   "source": [
    "## Make the new columns here\n",
    "\n"
   ]
  },
  {
   "cell_type": "code",
   "execution_count": null,
   "id": "14c3a42d",
   "metadata": {},
   "outputs": [],
   "source": [
    "## Fill in the shell code\n",
    "sns.pairplot(cars_train,\n",
    "                y_vars = ,\n",
    "                x_vars = ,\n",
    "                height = 5)\n",
    "\n",
    "\n",
    "plt.show()"
   ]
  },
  {
   "cell_type": "markdown",
   "id": "a5d8ab7d",
   "metadata": {},
   "source": [
    "##### e.\n",
    "\n",
    "Another part of EDA is calculating descriptive statistics.\n",
    "\n",
    "One statistic of interest to us in this situation is the <i>Pearson correlation coefficient</i>. For two variables $x$ and $y$ with $n$ observations each, the Pearson correlation is given by:\n",
    "\n",
    "$$\n",
    "r = \\frac{\\sum_{i=1}^n \\left( x_i - \\overline{x} \\right) \\left( y_i - \\overline{y}  \\right)}{\\sqrt{\\sum_{i=1}^n \\left(x_i - \\overline{x}\\right)^2 \\sum_{i=1}^n \\left(y_i - \\overline{y} \\right)^2}} = \\frac{\\text{cov}\\left(x, y\\right)}{\\sigma_x \\sigma_y},\n",
    "$$\n",
    "\n",
    "where $x_i$ is the $i^\\text{th}$ observation, $\\overline{x} = \\sum_{i=1}^n x_i/n$, $\\text{cov}\\left( x, y \\right)$ is the covariance between $x$ and $y$, and $\\sigma_x$ denotes the standard deviation of $x$.\n",
    "\n",
    "$r \\in [-1,1]$ gives a sense of the strength of the linear relationship between $x$ and $y$. The closer $|r|$ is to $1$, the stronger the linear relationship between $x$ and $y$, the sign of $r$ determines the direction of the relationship, with $r < 0$ meaning a line with a negative slope and $r > 0$ a line with a positive slope.\n",
    "\n",
    "Calculate the correlation between `log_sell` and the columns you have previously plotted.\n",
    "\n",
    "<i>Hint: Either <a href=\"https://pandas.pydata.org/docs/reference/api/pandas.DataFrame.corr.html\">https://pandas.pydata.org/docs/reference/api/pandas.DataFrame.corr.html</a> or <a href=\"https://numpy.org/doc/stable/reference/generated/numpy.corrcoef.html\">https://numpy.org/doc/stable/reference/generated/numpy.corrcoef.html</a> should work.</i>."
   ]
  },
  {
   "cell_type": "code",
   "execution_count": null,
   "id": "0e15cd18",
   "metadata": {},
   "outputs": [],
   "source": [
    "## code here\n",
    "\n",
    "\n"
   ]
  },
  {
   "cell_type": "markdown",
   "id": "8c90bd15",
   "metadata": {},
   "source": [
    "##### f.\n",
    "\n",
    "Based on your EDA, which feature do you think would best predict `log_sell` in a simple linear regression model?"
   ]
  },
  {
   "cell_type": "markdown",
   "id": "4f4ebdc6",
   "metadata": {},
   "source": [
    "##### Write here\n",
    "\n"
   ]
  },
  {
   "cell_type": "markdown",
   "id": "e915b5cc",
   "metadata": {},
   "source": [
    "#### 4. Modeling\n",
    "\n",
    "Now you will build some preliminary models for this data set.\n",
    "\n",
    "##### a.\n",
    "\n",
    "When doing predictive modeling it is good practice to have a <i>baseline model</i> which is a simple \"model\" solely for comparison purposes. These are not, typically, complex or good models, but they are important reference points to give us a sense of how well our models are actually performing.\n",
    "\n",
    "A standard regression model baseline is to just predict the average value of $y$ for any value of $X$. In this setting that model looks like this:\n",
    "\n",
    "$$\n",
    "\\text{Baseline Model: } \\ \\ \\ \\ \\log\\left(\\text{Selling Price}\\right) = E(\\log\\left(\\text{Selling Price}\\right)) + \\epsilon,\n",
    "$$\n",
    "\n",
    "where $\\epsilon$ is some random noise.\n",
    "\n",
    "Write some code to estimate $E(\\log\\left(\\text{Selling Price}\\right))$ using the training set."
   ]
  },
  {
   "cell_type": "code",
   "execution_count": null,
   "id": "ebf710f5",
   "metadata": {},
   "outputs": [],
   "source": [
    "## code here\n",
    "\n"
   ]
  },
  {
   "cell_type": "markdown",
   "id": "a4df5526",
   "metadata": {},
   "source": [
    "##### b.\n",
    "\n",
    "Below you will use cross-validation to compare these 3 simple linear regression models, 1 multiple linear regression model,  and the baseline model from above:\n",
    "\n",
    "$$\n",
    "\\text{Model 0 (Baseline)}: \\ \\log\\left(\\text{Selling Price}\\right) = E(\\log\\left(\\text{Selling Price}\\right)) + \\epsilon,\n",
    "$$\n",
    "\n",
    "$$\n",
    "\\text{Model 1}: \\ \\log\\left(\\text{Selling Price}\\right) = \\beta_0 + \\beta_1 \\log\\left( \\text{Kilometers Driven} \\right) + \\epsilon\n",
    "$$\n",
    "\n",
    "$$\n",
    "\\text{Model 2}: \\ \\log\\left(\\text{Selling Price}\\right) = \\beta_0 + \\beta_1 \\text{Mileage} + \\epsilon\n",
    "$$\n",
    "\n",
    "$$\n",
    "\\text{Model 3}: \\ \\log\\left(\\text{Selling Price}\\right) = \\beta_0 + \\beta_1 \\text{Age} + \\epsilon\n",
    "$$\n",
    "\n",
    "$$\n",
    "\\text{Model 4}: \\ \\log\\left(\\text{Selling Price}\\right) = \\beta_0 + \\beta_1 \\text{Mileage}  + \\beta_2 \\text{Age} + \\epsilon\n",
    "$$\n",
    "\n",
    "In this problem practice fitting just one of these three models using the training set and `sklearn`'s `LinearRegression` model, <a href=\"https://scikit-learn.org/stable/modules/generated/sklearn.linear_model.LinearRegression.html\">https://scikit-learn.org/stable/modules/generated/sklearn.linear_model.LinearRegression.html</a>."
   ]
  },
  {
   "cell_type": "code",
   "execution_count": null,
   "id": "55655cfb",
   "metadata": {},
   "outputs": [],
   "source": [
    "## Import LinearRegression here\n"
   ]
  },
  {
   "cell_type": "code",
   "execution_count": null,
   "id": "919619ee",
   "metadata": {},
   "outputs": [],
   "source": [
    "## Make your model object\n",
    "\n",
    "\n",
    "## Fit the model using the training set\n",
    "\n"
   ]
  },
  {
   "cell_type": "code",
   "execution_count": null,
   "id": "d287da8c",
   "metadata": {},
   "outputs": [],
   "source": [
    "## Practice looking at the intercept estimate\n"
   ]
  },
  {
   "cell_type": "code",
   "execution_count": null,
   "id": "6bb4cae6",
   "metadata": {},
   "outputs": [],
   "source": [
    "## Practice looking at the coefficient estimate\n"
   ]
  },
  {
   "cell_type": "markdown",
   "id": "02be357e",
   "metadata": {},
   "source": [
    "##### c.\n",
    "\n",
    "In this problem you will try to implement $5$-fold cross-validation (CV) to compare these three models and the baseline model to see which one has the lowest average cross-validation mean squared error (MSE).\n",
    "\n",
    "Because this may be your first time implementing CV, some of the code will be filled in for you."
   ]
  },
  {
   "cell_type": "code",
   "execution_count": null,
   "id": "13b641ed",
   "metadata": {},
   "outputs": [],
   "source": [
    "## import KFold here\n",
    "\n",
    "\n",
    "## import mean_squared_error\n"
   ]
  },
  {
   "cell_type": "code",
   "execution_count": null,
   "id": "066cdd31",
   "metadata": {},
   "outputs": [],
   "source": [
    "## Make a KFold object\n",
    "## remember to set a random_state and set shuffle = True\n",
    "kfold = KFold()\n",
    "\n",
    "\n",
    "\n",
    "\n",
    "## This array will hold the mse for each model and split\n",
    "mses = np.zeros((5, 5))\n",
    "\n",
    "## sets a split counter\n",
    "i = 0\n",
    "\n",
    "## loop through the kfold here\n",
    "for train_index, test_index in :\n",
    "    ## get the cv training set\n",
    "    cars_tt = \n",
    "    \n",
    "    ## get the cv holdout set\n",
    "    cars_ho = \n",
    "    \n",
    "    ## \"Fit\" and get ho mse for the baseline model\n",
    "    baseline_pred = \n",
    "    \n",
    "    mses[0, i] = \n",
    "    \n",
    "    ## Fit and get the mses for the remaining models\n",
    "    \n",
    "    \n",
    "    \n",
    "    ## Increasing the counter\n",
    "    i = i + 1"
   ]
  },
  {
   "cell_type": "code",
   "execution_count": null,
   "id": "0dad1ee3",
   "metadata": {},
   "outputs": [],
   "source": [
    "## Find the avg cv mse for each model here\n"
   ]
  },
  {
   "cell_type": "markdown",
   "id": "97a6cddc",
   "metadata": {},
   "source": [
    "##### d.\n",
    "\n",
    "Which model had the lowest average cross validation mean squared error?"
   ]
  },
  {
   "cell_type": "markdown",
   "id": "930fb405",
   "metadata": {},
   "source": [
    "##### Write here\n",
    "\n"
   ]
  },
  {
   "cell_type": "markdown",
   "id": "da2a4961",
   "metadata": {},
   "source": [
    "That's it for this notebook. In the next couple of regression based notebooks we will build additional models for this data set."
   ]
  },
  {
   "cell_type": "markdown",
   "id": "7bd4d8e5",
   "metadata": {},
   "source": [
    "--------------------------\n",
    "\n",
    "This notebook was written for the Erd&#337;s Institute C&#337;de Data Science Boot Camp by Matthew Osborne, Ph. D., 2023.\n",
    "\n",
    "Any potential redistributors must seek and receive permission from Matthew Tyler Osborne, Ph.D. prior to redistribution. Redistribution of the material contained in this repository is conditional on acknowledgement of Matthew Tyler Osborne, Ph.D.'s original authorship and sponsorship of the Erdős Institute as subject to the license (see License.md)"
   ]
  }
 ],
 "metadata": {
  "kernelspec": {
   "display_name": "Python 3 (ipykernel)",
   "language": "python",
   "name": "python3"
  },
  "language_info": {
   "codemirror_mode": {
    "name": "ipython",
    "version": 3
   },
   "file_extension": ".py",
   "mimetype": "text/x-python",
   "name": "python",
   "nbconvert_exporter": "python",
   "pygments_lexer": "ipython3",
   "version": "3.9.16"
  }
 },
 "nbformat": 4,
 "nbformat_minor": 5
}
