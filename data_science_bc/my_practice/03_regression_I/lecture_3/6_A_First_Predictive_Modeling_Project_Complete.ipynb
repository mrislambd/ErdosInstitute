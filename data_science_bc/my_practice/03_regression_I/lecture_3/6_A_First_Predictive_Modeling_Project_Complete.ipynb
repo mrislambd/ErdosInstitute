{
 "cells": [
  {
   "cell_type": "markdown",
   "id": "93054cbb",
   "metadata": {},
   "source": [
    "# A First Predictive Modeling Project\n",
    "\n",
    "In this notebook we will use the simple linear regression model to demonstrate the process of predictive model selection in a vaguely realistic scenario. \n",
    "\n",
    "## What we will accomplish\n",
    "\n",
    "In particular we will:\n",
    "- Review some of the common steps in a predictive modeling project,\n",
    "- Work with a baseball data set,\n",
    "- Introduce the concept of a baseline model and\n",
    "- Practice implementing cross-validation."
   ]
  },
  {
   "cell_type": "code",
   "execution_count": 1,
   "id": "d95baec9",
   "metadata": {
    "metadata": {}
   },
   "outputs": [],
   "source": [
    "import pandas as pd\n",
    "import numpy as np\n",
    "import matplotlib.pyplot as plt\n",
    "from seaborn import set_style\n",
    "\n",
    "set_style(\"whitegrid\")"
   ]
  },
  {
   "cell_type": "markdown",
   "id": "abdda2f1",
   "metadata": {},
   "source": [
    "Common steps in a predictive modeling project include:\n",
    "\n",
    "1. Data Gathering, defining stakeholders and KPIs\n",
    "2. Data Cleaning and Preprocessing\n",
    "3. Exploratory Data Analysis\n",
    "4. Compare different models on the training set\n",
    "5. Final sanity check on test set"
   ]
  },
  {
   "cell_type": "markdown",
   "id": "353dc9f6",
   "metadata": {},
   "source": [
    "## Example: A baseball regression problem\n",
    "\n",
    "#### Step 1. Data Gathering, defining stakeholders and KPIs\n",
    "\n",
    "Let's imagine we work for a major league baseball team in the off-season. During the off-season teams are looking to see what players they can bring in to improve upon their number of wins in the coming season.\n",
    "\n",
    "A reasonable question is whether stocking up on good defensive players (limiting the number of runs your team allows) or stocking up on good offensive players (increasing the number of runs your teams scores) is better at predicting the number of wins you will have in a given season. We could use existing projections for each player to estimate our number of runs scores and runs allowed after acquiring said player to predict our expected wins.\n",
    "\n",
    "In this problem we will do just that. First let's load the data."
   ]
  },
  {
   "cell_type": "code",
   "execution_count": 2,
   "id": "cfd28035",
   "metadata": {
    "metadata": {}
   },
   "outputs": [],
   "source": [
    "## Note this works on Mac and Linux,\n",
    "## you may need to change the slash directions if\n",
    "## you are running a Windows machine\n",
    "baseball = pd.read_csv(\"../../data/baseball.csv\")"
   ]
  },
  {
   "cell_type": "code",
   "execution_count": 3,
   "id": "607a9097",
   "metadata": {
    "metadata": {}
   },
   "outputs": [
    {
     "data": {
      "text/html": [
       "<div>\n",
       "<style scoped>\n",
       "    .dataframe tbody tr th:only-of-type {\n",
       "        vertical-align: middle;\n",
       "    }\n",
       "\n",
       "    .dataframe tbody tr th {\n",
       "        vertical-align: top;\n",
       "    }\n",
       "\n",
       "    .dataframe thead th {\n",
       "        text-align: right;\n",
       "    }\n",
       "</style>\n",
       "<table border=\"1\" class=\"dataframe\">\n",
       "  <thead>\n",
       "    <tr style=\"text-align: right;\">\n",
       "      <th></th>\n",
       "      <th>teamID</th>\n",
       "      <th>yearID</th>\n",
       "      <th>lgID</th>\n",
       "      <th>G</th>\n",
       "      <th>W</th>\n",
       "      <th>L</th>\n",
       "      <th>R</th>\n",
       "      <th>RA</th>\n",
       "    </tr>\n",
       "  </thead>\n",
       "  <tbody>\n",
       "    <tr>\n",
       "      <th>351</th>\n",
       "      <td>PIT</td>\n",
       "      <td>2012</td>\n",
       "      <td>NL</td>\n",
       "      <td>162</td>\n",
       "      <td>79</td>\n",
       "      <td>83</td>\n",
       "      <td>651</td>\n",
       "      <td>674</td>\n",
       "    </tr>\n",
       "    <tr>\n",
       "      <th>189</th>\n",
       "      <td>DET</td>\n",
       "      <td>2007</td>\n",
       "      <td>AL</td>\n",
       "      <td>162</td>\n",
       "      <td>88</td>\n",
       "      <td>74</td>\n",
       "      <td>887</td>\n",
       "      <td>797</td>\n",
       "    </tr>\n",
       "    <tr>\n",
       "      <th>319</th>\n",
       "      <td>OAK</td>\n",
       "      <td>2011</td>\n",
       "      <td>AL</td>\n",
       "      <td>162</td>\n",
       "      <td>74</td>\n",
       "      <td>88</td>\n",
       "      <td>645</td>\n",
       "      <td>679</td>\n",
       "    </tr>\n",
       "    <tr>\n",
       "      <th>31</th>\n",
       "      <td>ARI</td>\n",
       "      <td>2002</td>\n",
       "      <td>NL</td>\n",
       "      <td>162</td>\n",
       "      <td>98</td>\n",
       "      <td>64</td>\n",
       "      <td>819</td>\n",
       "      <td>674</td>\n",
       "    </tr>\n",
       "    <tr>\n",
       "      <th>318</th>\n",
       "      <td>NYN</td>\n",
       "      <td>2011</td>\n",
       "      <td>NL</td>\n",
       "      <td>162</td>\n",
       "      <td>77</td>\n",
       "      <td>85</td>\n",
       "      <td>718</td>\n",
       "      <td>742</td>\n",
       "    </tr>\n",
       "  </tbody>\n",
       "</table>\n",
       "</div>"
      ],
      "text/plain": [
       "    teamID  yearID lgID    G   W   L    R   RA\n",
       "351    PIT    2012   NL  162  79  83  651  674\n",
       "189    DET    2007   AL  162  88  74  887  797\n",
       "319    OAK    2011   AL  162  74  88  645  679\n",
       "31     ARI    2002   NL  162  98  64  819  674\n",
       "318    NYN    2011   NL  162  77  85  718  742"
      ]
     },
     "execution_count": 3,
     "metadata": {},
     "output_type": "execute_result"
    }
   ],
   "source": [
    "baseball.sample(5, random_state=234)"
   ]
  },
  {
   "cell_type": "markdown",
   "id": "14fcced1",
   "metadata": {},
   "source": [
    "This data set contains the wins (`W`), losses (`L`), runs scored (`R`) and runs allowed (`RA`) for each team (`teamID`) over the 2001-2018 seasons (`yearID`)."
   ]
  },
  {
   "cell_type": "markdown",
   "id": "8d38b9d9",
   "metadata": {},
   "source": [
    "#### Step 2:  Data Cleaning and Preprocessing\n",
    "\n",
    "Check to make sure we don't have any missing values, etc"
   ]
  },
  {
   "cell_type": "code",
   "execution_count": 4,
   "id": "5b3f66f4",
   "metadata": {
    "metadata": {}
   },
   "outputs": [
    {
     "name": "stdout",
     "output_type": "stream",
     "text": [
      "<class 'pandas.core.frame.DataFrame'>\n",
      "RangeIndex: 540 entries, 0 to 539\n",
      "Data columns (total 8 columns):\n",
      " #   Column  Non-Null Count  Dtype \n",
      "---  ------  --------------  ----- \n",
      " 0   teamID  540 non-null    object\n",
      " 1   yearID  540 non-null    int64 \n",
      " 2   lgID    540 non-null    object\n",
      " 3   G       540 non-null    int64 \n",
      " 4   W       540 non-null    int64 \n",
      " 5   L       540 non-null    int64 \n",
      " 6   R       540 non-null    int64 \n",
      " 7   RA      540 non-null    int64 \n",
      "dtypes: int64(6), object(2)\n",
      "memory usage: 33.9+ KB\n"
     ]
    }
   ],
   "source": [
    "baseball.info()"
   ]
  },
  {
   "cell_type": "markdown",
   "id": "ffa9ed98",
   "metadata": {},
   "source": [
    "This dataset is extremely clean!  Almost all real data science projects do not start with clean data.  Expect data cleaning and preprocessing to take up a significant portion of your time on a real project."
   ]
  },
  {
   "cell_type": "markdown",
   "id": "199c1682",
   "metadata": {},
   "source": [
    "Let's recall what we learned in `Data Splits for Predictive Modeling`, and make a train test split with $80\\%$ of the data in the training set and $20\\%$ of the data in the test set."
   ]
  },
  {
   "cell_type": "code",
   "execution_count": 5,
   "id": "4a88af3b",
   "metadata": {
    "metadata": {}
   },
   "outputs": [],
   "source": [
    "## import train_test_split\n",
    "from sklearn.model_selection import train_test_split"
   ]
  },
  {
   "cell_type": "code",
   "execution_count": 6,
   "id": "f237aa62",
   "metadata": {
    "metadata": {}
   },
   "outputs": [],
   "source": [
    "## make the train test split here\n",
    "## Note a slight difference, we have to use .copy()\n",
    "## for pandas dataframes\n",
    "bb_train, bb_test = train_test_split(baseball.copy(),\n",
    "                                        random_state = 614,\n",
    "                                        shuffle = True,\n",
    "                                        test_size=.2)"
   ]
  },
  {
   "cell_type": "markdown",
   "id": "cd38b19e",
   "metadata": {},
   "source": [
    "#### Step 3. Exploratory data analysis\n",
    "\n",
    "Prior to picking potential models we will do a quick data exploration by plotting `W` against `R` and `RA` respectively. Note that we chose these plots because these are the only variables that a team may be able to change by signing players to contracts."
   ]
  },
  {
   "cell_type": "code",
   "execution_count": 7,
   "id": "e4fad84c",
   "metadata": {
    "metadata": {}
   },
   "outputs": [
    {
     "data": {
      "image/png": "[encoded data removed]",
      "text/plain": [
       "<Figure size 1200x500 with 2 Axes>"
      ]
     },
     "metadata": {},
     "output_type": "display_data"
    }
   ],
   "source": [
    "fig,ax = plt.subplots(1, 2, figsize=(12,5), sharey=True)\n",
    "\n",
    "ax[0].scatter(bb_train.R, \n",
    "              bb_train.W)\n",
    "ax[0].set_ylabel(\"Wins\", fontsize=12)\n",
    "ax[0].set_xlabel(\"Runs Scored\", fontsize=12)\n",
    "\n",
    "\n",
    "ax[1].scatter(bb_train.RA,\n",
    "              bb_train.W)\n",
    "ax[1].set_xlabel(\"Runs Allowed\", fontsize=12)\n",
    "\n",
    "plt.tight_layout()\n",
    "\n",
    "plt.show()"
   ]
  },
  {
   "cell_type": "markdown",
   "id": "8b5c882f",
   "metadata": {},
   "source": [
    "Both of these look to be linear relationships, which is an important check for our choice in simple linear regression. If it did not look as though there was a linear relationship, we would not use simple linear regression. \n",
    "\n",
    "In real modeling projects there is more data exploration, but for this notebook we will continue on."
   ]
  },
  {
   "cell_type": "markdown",
   "id": "97c610be",
   "metadata": {},
   "source": [
    "#### Step 4. Comparing different models on the training set\n",
    "\n",
    "We will try the following models\n",
    "\n",
    "$$\n",
    "\\text{Model 1: } \\ \\ \\texttt{W} = \\beta_0 + \\beta_1 \\texttt{R} + \\epsilon,\n",
    "$$\n",
    "\n",
    "$$\n",
    "\\text{Model 2: } \\ \\ \\texttt{W} = \\beta_0 + \\beta_1 \\texttt{RA} + \\epsilon.\n",
    "$$\n",
    "\n",
    "$$\n",
    "\\text{Model 3: } \\ \\ \\texttt{W} = \\beta_0 + \\beta_1 \\texttt{R} + \\beta_2 \\texttt{RA} + \\epsilon.\n",
    "$$\n",
    "\n",
    "$$\n",
    "\\text{Model 4: kNN using R and RA as features with k=10} \n",
    "$$\n",
    "\n",
    "Note 1:  We would usually perform some form of hyperparameter tuning to decide on the value of $k$ in kNN but we are simplifying things for illustrative purposes.\n",
    "\n",
    "Note 2: kNN might be good at prediction, but a downside is that we will loose interpret-ability and the ability to extrapolate to more unusual input values.\n",
    "\n",
    "##### Identifying a baseline model\n",
    "\n",
    "In predictive modeling problems it is also smart to have a <i>baseline model</i>. A baseline model is a simple model that exists for comparison purposes. These are important because they allow us to put our model results into context. For example, we may end up with an MSE of $100$. Is that good? Is that bad? In the abstract it is impossible to tell. It is only when we have a reasonable baseline model that we are able to put into context how good our performance is. Again for example, if our baseline model's MSE was $1000$ our model with MSE$=100$ has done quite well, but if our baseline model's MSE was $10$ our model has underperformed the baseline.\n",
    "\n",
    "Moreover, merely outperforming the baseline is not always an indication of the best model. We also need to consider things like training time, model complexity and interpretability. While those will not be considerations in this notebook, they will become more important as we progress through these notebooks and in your own data science projects.\n",
    "\n",
    "For this problem a standard first baseline is to predict the average value of the output, $\\overline{\\texttt{W}}$, for any value of the input. This brings us to three models:\n",
    "\n",
    "$$\n",
    "\\text{Model 0: } \\ \\ \\texttt{W} = E\\left(\\texttt{W}\\right) + \\epsilon.\n",
    "$$\n",
    "\n",
    "Now that we have our models, let's implement cross-validation. The code below will have missing pieces, I encourage you to try and fill them out on your own."
   ]
  },
  {
   "cell_type": "code",
   "execution_count": 8,
   "id": "93997193",
   "metadata": {
    "metadata": {}
   },
   "outputs": [],
   "source": [
    "## Import KFold\n",
    "from sklearn.model_selection import KFold"
   ]
  },
  {
   "cell_type": "code",
   "execution_count": 9,
   "id": "ef6138f2",
   "metadata": {
    "metadata": {}
   },
   "outputs": [],
   "source": [
    "## Make a KFold object with k=5\n",
    "kfold = KFold(5, shuffle = True, random_state = 440)"
   ]
  },
  {
   "cell_type": "markdown",
   "id": "0fd2f8eb",
   "metadata": {},
   "source": [
    "We will look for the model with the lowest mean square error. We could calculate this by hand, but we will use `sklearn`'s `mean_squared_error` instead, <a href=\"https://scikit-learn.org/stable/modules/generated/sklearn.metrics.mean_squared_error.html\">https://scikit-learn.org/stable/modules/generated/sklearn.metrics.mean_squared_error.html</a>"
   ]
  },
  {
   "cell_type": "code",
   "execution_count": 10,
   "id": "ef0bb632",
   "metadata": {
    "metadata": {}
   },
   "outputs": [],
   "source": [
    "## importing mean_squared_error\n",
    "from sklearn.metrics import mean_squared_error"
   ]
  },
  {
   "cell_type": "code",
   "execution_count": 11,
   "id": "4a033c12",
   "metadata": {
    "metadata": {}
   },
   "outputs": [],
   "source": [
    "## import LinearRegression\n",
    "from sklearn.linear_model import LinearRegression\n",
    "from sklearn.neighbors import KNeighborsRegressor"
   ]
  },
  {
   "cell_type": "code",
   "execution_count": 12,
   "id": "8956b4f8",
   "metadata": {
    "metadata": {}
   },
   "outputs": [
    {
     "data": {
      "text/html": [
       "<div>\n",
       "<style scoped>\n",
       "    .dataframe tbody tr th:only-of-type {\n",
       "        vertical-align: middle;\n",
       "    }\n",
       "\n",
       "    .dataframe tbody tr th {\n",
       "        vertical-align: top;\n",
       "    }\n",
       "\n",
       "    .dataframe thead th {\n",
       "        text-align: right;\n",
       "    }\n",
       "</style>\n",
       "<table border=\"1\" class=\"dataframe\">\n",
       "  <thead>\n",
       "    <tr style=\"text-align: right;\">\n",
       "      <th></th>\n",
       "      <th>R</th>\n",
       "      <th>RA</th>\n",
       "    </tr>\n",
       "  </thead>\n",
       "  <tbody>\n",
       "    <tr>\n",
       "      <th>111</th>\n",
       "      <td>840</td>\n",
       "      <td>781</td>\n",
       "    </tr>\n",
       "    <tr>\n",
       "      <th>151</th>\n",
       "      <td>849</td>\n",
       "      <td>805</td>\n",
       "    </tr>\n",
       "    <tr>\n",
       "      <th>163</th>\n",
       "      <td>766</td>\n",
       "      <td>732</td>\n",
       "    </tr>\n",
       "    <tr>\n",
       "      <th>140</th>\n",
       "      <td>807</td>\n",
       "      <td>726</td>\n",
       "    </tr>\n",
       "    <tr>\n",
       "      <th>439</th>\n",
       "      <td>694</td>\n",
       "      <td>729</td>\n",
       "    </tr>\n",
       "    <tr>\n",
       "      <th>...</th>\n",
       "      <td>...</td>\n",
       "      <td>...</td>\n",
       "    </tr>\n",
       "    <tr>\n",
       "      <th>487</th>\n",
       "      <td>818</td>\n",
       "      <td>564</td>\n",
       "    </tr>\n",
       "    <tr>\n",
       "      <th>430</th>\n",
       "      <td>729</td>\n",
       "      <td>618</td>\n",
       "    </tr>\n",
       "    <tr>\n",
       "      <th>399</th>\n",
       "      <td>757</td>\n",
       "      <td>705</td>\n",
       "    </tr>\n",
       "    <tr>\n",
       "      <th>397</th>\n",
       "      <td>669</td>\n",
       "      <td>653</td>\n",
       "    </tr>\n",
       "    <tr>\n",
       "      <th>109</th>\n",
       "      <td>684</td>\n",
       "      <td>731</td>\n",
       "    </tr>\n",
       "  </tbody>\n",
       "</table>\n",
       "<p>432 rows × 2 columns</p>\n",
       "</div>"
      ],
      "text/plain": [
       "       R   RA\n",
       "111  840  781\n",
       "151  849  805\n",
       "163  766  732\n",
       "140  807  726\n",
       "439  694  729\n",
       "..   ...  ...\n",
       "487  818  564\n",
       "430  729  618\n",
       "399  757  705\n",
       "397  669  653\n",
       "109  684  731\n",
       "\n",
       "[432 rows x 2 columns]"
      ]
     },
     "execution_count": 12,
     "metadata": {},
     "output_type": "execute_result"
    }
   ],
   "source": [
    "bb_train[['R','RA']]"
   ]
  },
  {
   "cell_type": "markdown",
   "id": "f08739c7",
   "metadata": {},
   "source": [
    "Now we are ready to perform cross-valdiation. Again there will be some empty spots that you can fill in on your own if you would like."
   ]
  },
  {
   "cell_type": "code",
   "execution_count": 14,
   "id": "28460545",
   "metadata": {
    "metadata": {}
   },
   "outputs": [],
   "source": [
    "## make an array of zeros that will hold our mses\n",
    "mses = np.zeros((5, 5))\n",
    "\n",
    "## This keeps track of what split we are on\n",
    "i = 0\n",
    "## fill in what is missing in the for loop declaration\n",
    "for i,(train_index, test_index) in enumerate(kfold.split(bb_train)):\n",
    "    ## now we get the training splits and the holdout split\n",
    "    ### Training\n",
    "    bb_tt = bb_train.iloc[train_index]\n",
    "    \n",
    "    ### Holdout set\n",
    "    bb_ho = bb_train.iloc[test_index]\n",
    "    \n",
    "    \n",
    "    ### This is Model 0 ###\n",
    "    ## take the mean W from the training set\n",
    "    ## we need predictions for the entire holdout set\n",
    "    pred0 = bb_tt.W.mean() * np.ones(len(bb_ho))\n",
    "    \n",
    "\n",
    "    model1 = LinearRegression()\n",
    "    model2 = LinearRegression()\n",
    "    model3 = LinearRegression()\n",
    "    model4 = KNeighborsRegressor(n_neighbors = 10)\n",
    "\n",
    "    ## fit models on the training data, bb_tt\n",
    "    ## don't forget you may need to reshape the data for simple linear regressions\n",
    "    model1.fit(bb_tt.R.values.reshape(-1,1), bb_tt.W.values)\n",
    "    model2.fit(bb_tt.RA.values.reshape(-1,1), bb_tt.W.values)\n",
    "\n",
    "    # No need to reshape inputs for model3 or model4\n",
    "    model3.fit(bb_tt[['R','RA']], bb_tt.W.values)\n",
    "    model4.fit(bb_tt[['R','RA']], bb_tt.W.values)\n",
    "\n",
    "    \n",
    "    ## get the prediction on holdout set\n",
    "    pred1 = model1.predict(bb_ho.R.values.reshape(-1,1))\n",
    "    pred2 = model2.predict(bb_ho.RA.values.reshape(-1,1))\n",
    "    pred3 = model3.predict(bb_ho[['R','RA']])\n",
    "    pred4 = model4.predict(bb_ho[['R','RA']])\n",
    "\n",
    "    \n",
    "    ### Recording the MSES ###\n",
    "    ## mean_squared_error takes in the true values, then the predicted values\n",
    "    mses[0,i] = mean_squared_error(bb_ho.W.values, pred0)\n",
    "    mses[1,i] = mean_squared_error(bb_ho.W.values, pred1)\n",
    "    mses[2,i] = mean_squared_error(bb_ho.W.values, pred2)\n",
    "    mses[3,i] = mean_squared_error(bb_ho.W.values, pred3)\n",
    "    mses[4,i] = mean_squared_error(bb_ho.W.values, pred4)"
   ]
  },
  {
   "cell_type": "code",
   "execution_count": 21,
   "id": "ad359908",
   "metadata": {
    "metadata": {}
   },
   "outputs": [
    {
     "data": {
      "image/png": "[encoded data removed]",
      "text/plain": [
       "<Figure size 800x500 with 1 Axes>"
      ]
     },
     "metadata": {},
     "output_type": "display_data"
    }
   ],
   "source": [
    "## This figure will compare the performance\n",
    "plt.figure(figsize=(8,5))\n",
    "\n",
    "plt.scatter(np.zeros(5), \n",
    "            mses[0,:], \n",
    "            s=60, \n",
    "            c='white',\n",
    "            edgecolor='black',\n",
    "            label=\"Single Split\")\n",
    "plt.scatter(np.ones(5), \n",
    "            mses[1,:], \n",
    "            s=60, \n",
    "            c='white',\n",
    "            edgecolor='black')\n",
    "plt.scatter(2*np.ones(5), \n",
    "            mses[2,:], \n",
    "            s=60, \n",
    "            c='white',\n",
    "            edgecolor='black')\n",
    "\n",
    "plt.scatter(3*np.ones(5), \n",
    "            mses[3,:], \n",
    "            s=60, \n",
    "            c='white',\n",
    "            edgecolor='black')\n",
    "\n",
    "plt.scatter(4*np.ones(5), \n",
    "            mses[3,:], \n",
    "            s=60, \n",
    "            c='white',\n",
    "            edgecolor='black')\n",
    "\n",
    "plt.scatter([0,1,2,3,4], \n",
    "            np.mean(mses, axis=1), \n",
    "            s=60, \n",
    "            c='r',\n",
    "            marker='X',\n",
    "            label=\"Mean\")\n",
    "\n",
    "plt.legend(fontsize=12)\n",
    "\n",
    "plt.xticks([0,1,2,3, 4],[\"Baseline\", \"Model 1\", \"Model 2\", \"Model 3\", \"Model 4\"], fontsize=10)\n",
    "plt.yticks(fontsize=10)\n",
    "\n",
    "plt.ylabel(\"MSE\", fontsize=12)\n",
    "\n",
    "plt.show()"
   ]
  },
  {
   "cell_type": "code",
   "execution_count": 22,
   "id": "f16902f1",
   "metadata": {
    "metadata": {}
   },
   "outputs": [
    {
     "data": {
      "text/plain": [
       "array([134.72066834,  92.17918775,  76.19033069,  16.81447445,\n",
       "        20.19290323])"
      ]
     },
     "execution_count": 22,
     "metadata": {},
     "output_type": "execute_result"
    }
   ],
   "source": [
    "np.mean(mses, axis=1)"
   ]
  },
  {
   "cell_type": "markdown",
   "id": "fea3d782",
   "metadata": {},
   "source": [
    "From this it appears that Model 3 is our best choice as it has the lowest average cross-validation MSE."
   ]
  },
  {
   "cell_type": "markdown",
   "id": "ae3759a8",
   "metadata": {},
   "source": [
    "#### Step 5. Final sanity check on test set\n",
    "\n",
    "Remember that you **only test your final model on the test set**.  Don't try your other models on the test set.\n",
    "\n",
    "Once you are done tinkering and have settled on a final model (or a final set of a few models) you can perform your final check with the test set. The purposes of this check are twofold:\n",
    "1. We will be able to see if we had any coding errors in our work up to this point, performance that greatly departs from what we would expect may indicate a coding error in our earlier work and\n",
    "2. It allows us to assess overfitting (more on this soon). When our test performance is significantly worse than our training performance it suggests that our model has overfit on the training data and will not generalize well.\n",
    "\n",
    "If you notice weird behavior on the test set it may be worth reviewing your previous work and checking out different models."
   ]
  },
  {
   "cell_type": "code",
   "execution_count": 23,
   "id": "48030df1",
   "metadata": {
    "metadata": {}
   },
   "outputs": [],
   "source": [
    "## Make a final model object\n",
    "model = LinearRegression()"
   ]
  },
  {
   "cell_type": "code",
   "execution_count": 24,
   "id": "602f7c3d",
   "metadata": {
    "metadata": {}
   },
   "outputs": [
    {
     "data": {
      "text/html": [
       "<style>#sk-container-id-2 {\n",
       "  /* Definition of color scheme common for light and dark mode */\n",
       "  --sklearn-color-text: black;\n",
       "  --sklearn-color-line: gray;\n",
       "  /* Definition of color scheme for unfitted estimators */\n",
       "  --sklearn-color-unfitted-level-0: #fff5e6;\n",
       "  --sklearn-color-unfitted-level-1: #f6e4d2;\n",
       "  --sklearn-color-unfitted-level-2: #ffe0b3;\n",
       "  --sklearn-color-unfitted-level-3: chocolate;\n",
       "  /* Definition of color scheme for fitted estimators */\n",
       "  --sklearn-color-fitted-level-0: #f0f8ff;\n",
       "  --sklearn-color-fitted-level-1: #d4ebff;\n",
       "  --sklearn-color-fitted-level-2: #b3dbfd;\n",
       "  --sklearn-color-fitted-level-3: cornflowerblue;\n",
       "\n",
       "  /* Specific color for light theme */\n",
       "  --sklearn-color-text-on-default-background: var(--sg-text-color, var(--theme-code-foreground, var(--jp-content-font-color1, black)));\n",
       "  --sklearn-color-background: var(--sg-background-color, var(--theme-background, var(--jp-layout-color0, white)));\n",
       "  --sklearn-color-border-box: var(--sg-text-color, var(--theme-code-foreground, var(--jp-content-font-color1, black)));\n",
       "  --sklearn-color-icon: #696969;\n",
       "\n",
       "  @media (prefers-color-scheme: dark) {\n",
       "    /* Redefinition of color scheme for dark theme */\n",
       "    --sklearn-color-text-on-default-background: var(--sg-text-color, var(--theme-code-foreground, var(--jp-content-font-color1, white)));\n",
       "    --sklearn-color-background: var(--sg-background-color, var(--theme-background, var(--jp-layout-color0, #111)));\n",
       "    --sklearn-color-border-box: var(--sg-text-color, var(--theme-code-foreground, var(--jp-content-font-color1, white)));\n",
       "    --sklearn-color-icon: #878787;\n",
       "  }\n",
       "}\n",
       "\n",
       "#sk-container-id-2 {\n",
       "  color: var(--sklearn-color-text);\n",
       "}\n",
       "\n",
       "#sk-container-id-2 pre {\n",
       "  padding: 0;\n",
       "}\n",
       "\n",
       "#sk-container-id-2 input.sk-hidden--visually {\n",
       "  border: 0;\n",
       "  clip: rect(1px 1px 1px 1px);\n",
       "  clip: rect(1px, 1px, 1px, 1px);\n",
       "  height: 1px;\n",
       "  margin: -1px;\n",
       "  overflow: hidden;\n",
       "  padding: 0;\n",
       "  position: absolute;\n",
       "  width: 1px;\n",
       "}\n",
       "\n",
       "#sk-container-id-2 div.sk-dashed-wrapped {\n",
       "  border: 1px dashed var(--sklearn-color-line);\n",
       "  margin: 0 0.4em 0.5em 0.4em;\n",
       "  box-sizing: border-box;\n",
       "  padding-bottom: 0.4em;\n",
       "  background-color: var(--sklearn-color-background);\n",
       "}\n",
       "\n",
       "#sk-container-id-2 div.sk-container {\n",
       "  /* jupyter's `normalize.less` sets `[hidden] { display: none; }`\n",
       "     but bootstrap.min.css set `[hidden] { display: none !important; }`\n",
       "     so we also need the `!important` here to be able to override the\n",
       "     default hidden behavior on the sphinx rendered scikit-learn.org.\n",
       "     See: https://github.com/scikit-learn/scikit-learn/issues/21755 */\n",
       "  display: inline-block !important;\n",
       "  position: relative;\n",
       "}\n",
       "\n",
       "#sk-container-id-2 div.sk-text-repr-fallback {\n",
       "  display: none;\n",
       "}\n",
       "\n",
       "div.sk-parallel-item,\n",
       "div.sk-serial,\n",
       "div.sk-item {\n",
       "  /* draw centered vertical line to link estimators */\n",
       "  background-image: linear-gradient(var(--sklearn-color-text-on-default-background), var(--sklearn-color-text-on-default-background));\n",
       "  background-size: 2px 100%;\n",
       "  background-repeat: no-repeat;\n",
       "  background-position: center center;\n",
       "}\n",
       "\n",
       "/* Parallel-specific style estimator block */\n",
       "\n",
       "#sk-container-id-2 div.sk-parallel-item::after {\n",
       "  content: \"\";\n",
       "  width: 100%;\n",
       "  border-bottom: 2px solid var(--sklearn-color-text-on-default-background);\n",
       "  flex-grow: 1;\n",
       "}\n",
       "\n",
       "#sk-container-id-2 div.sk-parallel {\n",
       "  display: flex;\n",
       "  align-items: stretch;\n",
       "  justify-content: center;\n",
       "  background-color: var(--sklearn-color-background);\n",
       "  position: relative;\n",
       "}\n",
       "\n",
       "#sk-container-id-2 div.sk-parallel-item {\n",
       "  display: flex;\n",
       "  flex-direction: column;\n",
       "}\n",
       "\n",
       "#sk-container-id-2 div.sk-parallel-item:first-child::after {\n",
       "  align-self: flex-end;\n",
       "  width: 50%;\n",
       "}\n",
       "\n",
       "#sk-container-id-2 div.sk-parallel-item:last-child::after {\n",
       "  align-self: flex-start;\n",
       "  width: 50%;\n",
       "}\n",
       "\n",
       "#sk-container-id-2 div.sk-parallel-item:only-child::after {\n",
       "  width: 0;\n",
       "}\n",
       "\n",
       "/* Serial-specific style estimator block */\n",
       "\n",
       "#sk-container-id-2 div.sk-serial {\n",
       "  display: flex;\n",
       "  flex-direction: column;\n",
       "  align-items: center;\n",
       "  background-color: var(--sklearn-color-background);\n",
       "  padding-right: 1em;\n",
       "  padding-left: 1em;\n",
       "}\n",
       "\n",
       "\n",
       "/* Toggleable style: style used for estimator/Pipeline/ColumnTransformer box that is\n",
       "clickable and can be expanded/collapsed.\n",
       "- Pipeline and ColumnTransformer use this feature and define the default style\n",
       "- Estimators will overwrite some part of the style using the `sk-estimator` class\n",
       "*/\n",
       "\n",
       "/* Pipeline and ColumnTransformer style (default) */\n",
       "\n",
       "#sk-container-id-2 div.sk-toggleable {\n",
       "  /* Default theme specific background. It is overwritten whether we have a\n",
       "  specific estimator or a Pipeline/ColumnTransformer */\n",
       "  background-color: var(--sklearn-color-background);\n",
       "}\n",
       "\n",
       "/* Toggleable label */\n",
       "#sk-container-id-2 label.sk-toggleable__label {\n",
       "  cursor: pointer;\n",
       "  display: block;\n",
       "  width: 100%;\n",
       "  margin-bottom: 0;\n",
       "  padding: 0.5em;\n",
       "  box-sizing: border-box;\n",
       "  text-align: center;\n",
       "}\n",
       "\n",
       "#sk-container-id-2 label.sk-toggleable__label-arrow:before {\n",
       "  /* Arrow on the left of the label */\n",
       "  content: \"▸\";\n",
       "  float: left;\n",
       "  margin-right: 0.25em;\n",
       "  color: var(--sklearn-color-icon);\n",
       "}\n",
       "\n",
       "#sk-container-id-2 label.sk-toggleable__label-arrow:hover:before {\n",
       "  color: var(--sklearn-color-text);\n",
       "}\n",
       "\n",
       "/* Toggleable content - dropdown */\n",
       "\n",
       "#sk-container-id-2 div.sk-toggleable__content {\n",
       "  max-height: 0;\n",
       "  max-width: 0;\n",
       "  overflow: hidden;\n",
       "  text-align: left;\n",
       "  /* unfitted */\n",
       "  background-color: var(--sklearn-color-unfitted-level-0);\n",
       "}\n",
       "\n",
       "#sk-container-id-2 div.sk-toggleable__content.fitted {\n",
       "  /* fitted */\n",
       "  background-color: var(--sklearn-color-fitted-level-0);\n",
       "}\n",
       "\n",
       "#sk-container-id-2 div.sk-toggleable__content pre {\n",
       "  margin: 0.2em;\n",
       "  border-radius: 0.25em;\n",
       "  color: var(--sklearn-color-text);\n",
       "  /* unfitted */\n",
       "  background-color: var(--sklearn-color-unfitted-level-0);\n",
       "}\n",
       "\n",
       "#sk-container-id-2 div.sk-toggleable__content.fitted pre {\n",
       "  /* unfitted */\n",
       "  background-color: var(--sklearn-color-fitted-level-0);\n",
       "}\n",
       "\n",
       "#sk-container-id-2 input.sk-toggleable__control:checked~div.sk-toggleable__content {\n",
       "  /* Expand drop-down */\n",
       "  max-height: 200px;\n",
       "  max-width: 100%;\n",
       "  overflow: auto;\n",
       "}\n",
       "\n",
       "#sk-container-id-2 input.sk-toggleable__control:checked~label.sk-toggleable__label-arrow:before {\n",
       "  content: \"▾\";\n",
       "}\n",
       "\n",
       "/* Pipeline/ColumnTransformer-specific style */\n",
       "\n",
       "#sk-container-id-2 div.sk-label input.sk-toggleable__control:checked~label.sk-toggleable__label {\n",
       "  color: var(--sklearn-color-text);\n",
       "  background-color: var(--sklearn-color-unfitted-level-2);\n",
       "}\n",
       "\n",
       "#sk-container-id-2 div.sk-label.fitted input.sk-toggleable__control:checked~label.sk-toggleable__label {\n",
       "  background-color: var(--sklearn-color-fitted-level-2);\n",
       "}\n",
       "\n",
       "/* Estimator-specific style */\n",
       "\n",
       "/* Colorize estimator box */\n",
       "#sk-container-id-2 div.sk-estimator input.sk-toggleable__control:checked~label.sk-toggleable__label {\n",
       "  /* unfitted */\n",
       "  background-color: var(--sklearn-color-unfitted-level-2);\n",
       "}\n",
       "\n",
       "#sk-container-id-2 div.sk-estimator.fitted input.sk-toggleable__control:checked~label.sk-toggleable__label {\n",
       "  /* fitted */\n",
       "  background-color: var(--sklearn-color-fitted-level-2);\n",
       "}\n",
       "\n",
       "#sk-container-id-2 div.sk-label label.sk-toggleable__label,\n",
       "#sk-container-id-2 div.sk-label label {\n",
       "  /* The background is the default theme color */\n",
       "  color: var(--sklearn-color-text-on-default-background);\n",
       "}\n",
       "\n",
       "/* On hover, darken the color of the background */\n",
       "#sk-container-id-2 div.sk-label:hover label.sk-toggleable__label {\n",
       "  color: var(--sklearn-color-text);\n",
       "  background-color: var(--sklearn-color-unfitted-level-2);\n",
       "}\n",
       "\n",
       "/* Label box, darken color on hover, fitted */\n",
       "#sk-container-id-2 div.sk-label.fitted:hover label.sk-toggleable__label.fitted {\n",
       "  color: var(--sklearn-color-text);\n",
       "  background-color: var(--sklearn-color-fitted-level-2);\n",
       "}\n",
       "\n",
       "/* Estimator label */\n",
       "\n",
       "#sk-container-id-2 div.sk-label label {\n",
       "  font-family: monospace;\n",
       "  font-weight: bold;\n",
       "  display: inline-block;\n",
       "  line-height: 1.2em;\n",
       "}\n",
       "\n",
       "#sk-container-id-2 div.sk-label-container {\n",
       "  text-align: center;\n",
       "}\n",
       "\n",
       "/* Estimator-specific */\n",
       "#sk-container-id-2 div.sk-estimator {\n",
       "  font-family: monospace;\n",
       "  border: 1px dotted var(--sklearn-color-border-box);\n",
       "  border-radius: 0.25em;\n",
       "  box-sizing: border-box;\n",
       "  margin-bottom: 0.5em;\n",
       "  /* unfitted */\n",
       "  background-color: var(--sklearn-color-unfitted-level-0);\n",
       "}\n",
       "\n",
       "#sk-container-id-2 div.sk-estimator.fitted {\n",
       "  /* fitted */\n",
       "  background-color: var(--sklearn-color-fitted-level-0);\n",
       "}\n",
       "\n",
       "/* on hover */\n",
       "#sk-container-id-2 div.sk-estimator:hover {\n",
       "  /* unfitted */\n",
       "  background-color: var(--sklearn-color-unfitted-level-2);\n",
       "}\n",
       "\n",
       "#sk-container-id-2 div.sk-estimator.fitted:hover {\n",
       "  /* fitted */\n",
       "  background-color: var(--sklearn-color-fitted-level-2);\n",
       "}\n",
       "\n",
       "/* Specification for estimator info (e.g. \"i\" and \"?\") */\n",
       "\n",
       "/* Common style for \"i\" and \"?\" */\n",
       "\n",
       ".sk-estimator-doc-link,\n",
       "a:link.sk-estimator-doc-link,\n",
       "a:visited.sk-estimator-doc-link {\n",
       "  float: right;\n",
       "  font-size: smaller;\n",
       "  line-height: 1em;\n",
       "  font-family: monospace;\n",
       "  background-color: var(--sklearn-color-background);\n",
       "  border-radius: 1em;\n",
       "  height: 1em;\n",
       "  width: 1em;\n",
       "  text-decoration: none !important;\n",
       "  margin-left: 1ex;\n",
       "  /* unfitted */\n",
       "  border: var(--sklearn-color-unfitted-level-1) 1pt solid;\n",
       "  color: var(--sklearn-color-unfitted-level-1);\n",
       "}\n",
       "\n",
       ".sk-estimator-doc-link.fitted,\n",
       "a:link.sk-estimator-doc-link.fitted,\n",
       "a:visited.sk-estimator-doc-link.fitted {\n",
       "  /* fitted */\n",
       "  border: var(--sklearn-color-fitted-level-1) 1pt solid;\n",
       "  color: var(--sklearn-color-fitted-level-1);\n",
       "}\n",
       "\n",
       "/* On hover */\n",
       "div.sk-estimator:hover .sk-estimator-doc-link:hover,\n",
       ".sk-estimator-doc-link:hover,\n",
       "div.sk-label-container:hover .sk-estimator-doc-link:hover,\n",
       ".sk-estimator-doc-link:hover {\n",
       "  /* unfitted */\n",
       "  background-color: var(--sklearn-color-unfitted-level-3);\n",
       "  color: var(--sklearn-color-background);\n",
       "  text-decoration: none;\n",
       "}\n",
       "\n",
       "div.sk-estimator.fitted:hover .sk-estimator-doc-link.fitted:hover,\n",
       ".sk-estimator-doc-link.fitted:hover,\n",
       "div.sk-label-container:hover .sk-estimator-doc-link.fitted:hover,\n",
       ".sk-estimator-doc-link.fitted:hover {\n",
       "  /* fitted */\n",
       "  background-color: var(--sklearn-color-fitted-level-3);\n",
       "  color: var(--sklearn-color-background);\n",
       "  text-decoration: none;\n",
       "}\n",
       "\n",
       "/* Span, style for the box shown on hovering the info icon */\n",
       ".sk-estimator-doc-link span {\n",
       "  display: none;\n",
       "  z-index: 9999;\n",
       "  position: relative;\n",
       "  font-weight: normal;\n",
       "  right: .2ex;\n",
       "  padding: .5ex;\n",
       "  margin: .5ex;\n",
       "  width: min-content;\n",
       "  min-width: 20ex;\n",
       "  max-width: 50ex;\n",
       "  color: var(--sklearn-color-text);\n",
       "  box-shadow: 2pt 2pt 4pt #999;\n",
       "  /* unfitted */\n",
       "  background: var(--sklearn-color-unfitted-level-0);\n",
       "  border: .5pt solid var(--sklearn-color-unfitted-level-3);\n",
       "}\n",
       "\n",
       ".sk-estimator-doc-link.fitted span {\n",
       "  /* fitted */\n",
       "  background: var(--sklearn-color-fitted-level-0);\n",
       "  border: var(--sklearn-color-fitted-level-3);\n",
       "}\n",
       "\n",
       ".sk-estimator-doc-link:hover span {\n",
       "  display: block;\n",
       "}\n",
       "\n",
       "/* \"?\"-specific style due to the `<a>` HTML tag */\n",
       "\n",
       "#sk-container-id-2 a.estimator_doc_link {\n",
       "  float: right;\n",
       "  font-size: 1rem;\n",
       "  line-height: 1em;\n",
       "  font-family: monospace;\n",
       "  background-color: var(--sklearn-color-background);\n",
       "  border-radius: 1rem;\n",
       "  height: 1rem;\n",
       "  width: 1rem;\n",
       "  text-decoration: none;\n",
       "  /* unfitted */\n",
       "  color: var(--sklearn-color-unfitted-level-1);\n",
       "  border: var(--sklearn-color-unfitted-level-1) 1pt solid;\n",
       "}\n",
       "\n",
       "#sk-container-id-2 a.estimator_doc_link.fitted {\n",
       "  /* fitted */\n",
       "  border: var(--sklearn-color-fitted-level-1) 1pt solid;\n",
       "  color: var(--sklearn-color-fitted-level-1);\n",
       "}\n",
       "\n",
       "/* On hover */\n",
       "#sk-container-id-2 a.estimator_doc_link:hover {\n",
       "  /* unfitted */\n",
       "  background-color: var(--sklearn-color-unfitted-level-3);\n",
       "  color: var(--sklearn-color-background);\n",
       "  text-decoration: none;\n",
       "}\n",
       "\n",
       "#sk-container-id-2 a.estimator_doc_link.fitted:hover {\n",
       "  /* fitted */\n",
       "  background-color: var(--sklearn-color-fitted-level-3);\n",
       "}\n",
       "</style><div id=\"sk-container-id-2\" class=\"sk-top-container\"><div class=\"sk-text-repr-fallback\"><pre>LinearRegression()</pre><b>In a Jupyter environment, please rerun this cell to show the HTML representation or trust the notebook. <br />On GitHub, the HTML representation is unable to render, please try loading this page with nbviewer.org.</b></div><div class=\"sk-container\" hidden><div class=\"sk-item\"><div class=\"sk-estimator fitted sk-toggleable\"><input class=\"sk-toggleable__control sk-hidden--visually\" id=\"sk-estimator-id-2\" type=\"checkbox\" checked><label for=\"sk-estimator-id-2\" class=\"sk-toggleable__label fitted sk-toggleable__label-arrow fitted\">&nbsp;&nbsp;LinearRegression<a class=\"sk-estimator-doc-link fitted\" rel=\"noreferrer\" target=\"_blank\" href=\"https://scikit-learn.org/1.4/modules/generated/sklearn.linear_model.LinearRegression.html\">?<span>Documentation for LinearRegression</span></a><span class=\"sk-estimator-doc-link fitted\">i<span>Fitted</span></span></label><div class=\"sk-toggleable__content fitted\"><pre>LinearRegression()</pre></div> </div></div></div></div>"
      ],
      "text/plain": [
       "LinearRegression()"
      ]
     },
     "execution_count": 24,
     "metadata": {},
     "output_type": "execute_result"
    }
   ],
   "source": [
    "## fit that on the entire training set\n",
    "model.fit(bb_train[['R','RA']], bb_train.W.values)"
   ]
  },
  {
   "cell_type": "code",
   "execution_count": 25,
   "id": "e785c463",
   "metadata": {
    "metadata": {}
   },
   "outputs": [
    {
     "name": "stdout",
     "output_type": "stream",
     "text": [
      "Training set RMSE: 4.07\n",
      "Test set RMSE: 4.09\n"
     ]
    }
   ],
   "source": [
    "## print the training set performance\n",
    "print(\"Training set RMSE:\", \n",
    "      np.round(np.sqrt(mean_squared_error(bb_train.W.values, model.predict(bb_train[['R','RA']]))),2))\n",
    "\n",
    "\n",
    "## print the test set performance\n",
    "print(\"Test set RMSE:\", \n",
    "      np.round(np.sqrt(mean_squared_error(bb_test.W.values, model.predict(bb_test[['R','RA']]))),2))"
   ]
  },
  {
   "cell_type": "markdown",
   "id": "edf98ff3",
   "metadata": {},
   "source": [
    "These are comparable performances, so I think we are in the clear for over-fitting and coding errors."
   ]
  },
  {
   "cell_type": "code",
   "execution_count": 26,
   "id": "9bcd20cb",
   "metadata": {
    "metadata": {}
   },
   "outputs": [
    {
     "name": "stdout",
     "output_type": "stream",
     "text": [
      "Each additional run scored increases our predicted number of wins by 0.09759777857549456\n",
      "Each additional run allowed decreases our predicted number of wins by 0.10268800304130332\n"
     ]
    }
   ],
   "source": [
    "# Interpretation of the model\n",
    "print(f\"Each additional run scored increases our predicted number of wins by {model.coef_[0]}\")\n",
    "print(f\"Each additional run allowed decreases our predicted number of wins by {-model.coef_[1]}\")"
   ]
  },
  {
   "cell_type": "markdown",
   "id": "86714c2f",
   "metadata": {},
   "source": [
    "These are really close so we cannot clearly say whether we should focus more on offense or defense."
   ]
  },
  {
   "cell_type": "markdown",
   "id": "91144169",
   "metadata": {},
   "source": [
    "--------------------------\n",
    "\n",
    "This notebook was written for the Erd&#337;s Institute C&#337;de Data Science Boot Camp by Matthew Osborne, Ph. D., 2023.  Modified by Steven Gubkin 2024.\n",
    "\n",
    "Any potential redistributors must seek and receive permission from Matthew Tyler Osborne, Ph.D. prior to redistribution. Redistribution of the material contained in this repository is conditional on acknowledgement of Matthew Tyler Osborne, Ph.D.'s original authorship and sponsorship of the Erdős Institute as subject to the license (see License.md)"
   ]
  }
 ],
 "metadata": {
  "kernelspec": {
   "display_name": "Python 3 (ipykernel)",
   "language": "python",
   "name": "python3"
  },
  "language_info": {
   "codemirror_mode": {
    "name": "ipython",
    "version": 3
   },
   "file_extension": ".py",
   "mimetype": "text/x-python",
   "name": "python",
   "nbconvert_exporter": "python",
   "pygments_lexer": "ipython3",
   "version": "3.11.9"
  }
 },
 "nbformat": 4,
 "nbformat_minor": 5
}
