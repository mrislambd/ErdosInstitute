{
 "cells": [
  {
   "cell_type": "markdown",
   "metadata": {},
   "source": [
    "# Data Splits for Predictive Modeling\n",
    "\n",
    "The problems in this notebook extend the concepts covered in lecture 3: Data Splits for Predictive Modeling."
   ]
  },
  {
   "cell_type": "markdown",
   "metadata": {},
   "source": [
    "##### 1. Introduction to stratified splits \n",
    "\n",
    "##### a.\n",
    "\n",
    "The variable `y` below could come from a binary classification problem. Using `sklearn`'s `train_test_split` method make an  $70\\%-30\\%$ train test split for the given `y` variable. Look at `y_train` and `y_test` after your split."
   ]
  },
  {
   "cell_type": "code",
   "execution_count": 1,
   "metadata": {},
   "outputs": [],
   "source": [
    "import numpy as np"
   ]
  },
  {
   "cell_type": "code",
   "execution_count": 2,
   "metadata": {},
   "outputs": [],
   "source": [
    "y = [0,0,0,0,0,0,1,1,0,0,0,0,0,0,0,0,0,0,0,0]"
   ]
  },
  {
   "cell_type": "markdown",
   "metadata": {},
   "source": [
    "#### ANSWER"
   ]
  },
  {
   "cell_type": "code",
   "execution_count": 3,
   "metadata": {},
   "outputs": [],
   "source": [
    "from sklearn.model_selection import train_test_split"
   ]
  },
  {
   "cell_type": "code",
   "execution_count": 4,
   "metadata": {},
   "outputs": [],
   "source": [
    "y_train, y_test = train_test_split(y,\n",
    "                                      shuffle=True,\n",
    "                                      random_state=892,\n",
    "                                      test_size=.2)"
   ]
  },
  {
   "cell_type": "code",
   "execution_count": 5,
   "metadata": {},
   "outputs": [
    {
     "name": "stdout",
     "output_type": "stream",
     "text": [
      "y_train [0, 0, 0, 0, 1, 0, 1, 0, 0, 0, 0, 0, 0, 0, 0, 0]\n",
      "y_test [0, 0, 0, 0]\n"
     ]
    }
   ],
   "source": [
    "print(\"y_train\", y_train)\n",
    "print(\"y_test\", y_test)"
   ]
  },
  {
   "cell_type": "markdown",
   "metadata": {},
   "source": [
    "Now write a loop that will make this train test split and print out the training and test sets. Loop through at least 30 times. Did you notice anything that could cause issues for the training of a classification algorithm using these data?\n",
    "\n",
    "<i>Note: do not include a `random_state` for `train_test_split` in your loop, we want the possibility of a different split each time through the loop.</i>"
   ]
  },
  {
   "cell_type": "code",
   "execution_count": 6,
   "metadata": {},
   "outputs": [
    {
     "name": "stdout",
     "output_type": "stream",
     "text": [
      "0th time through\n",
      "y_train [1, 0, 0, 0, 0, 0, 0, 0, 0, 0, 0, 0, 0, 0]\n",
      "y_test [1, 0, 0, 0, 0, 0]\n",
      "\n",
      "1th time through\n",
      "y_train [0, 1, 0, 0, 0, 0, 0, 0, 0, 0, 0, 0, 0, 0]\n",
      "y_test [1, 0, 0, 0, 0, 0]\n",
      "\n",
      "2th time through\n",
      "y_train [0, 0, 0, 0, 1, 0, 0, 0, 0, 1, 0, 0, 0, 0]\n",
      "y_test [0, 0, 0, 0, 0, 0]\n",
      "\n",
      "3th time through\n",
      "y_train [1, 0, 0, 0, 0, 0, 0, 1, 0, 0, 0, 0, 0, 0]\n",
      "y_test [0, 0, 0, 0, 0, 0]\n",
      "\n",
      "4th time through\n",
      "y_train [1, 0, 0, 0, 0, 0, 0, 0, 0, 0, 0, 0, 0, 0]\n",
      "y_test [0, 1, 0, 0, 0, 0]\n",
      "\n",
      "5th time through\n",
      "y_train [0, 1, 0, 0, 0, 0, 0, 0, 0, 0, 0, 0, 0, 0]\n",
      "y_test [0, 0, 0, 0, 1, 0]\n",
      "\n",
      "6th time through\n",
      "y_train [1, 0, 0, 0, 0, 0, 1, 0, 0, 0, 0, 0, 0, 0]\n",
      "y_test [0, 0, 0, 0, 0, 0]\n",
      "\n",
      "7th time through\n",
      "y_train [0, 0, 0, 0, 0, 0, 0, 0, 0, 0, 0, 0, 1, 0]\n",
      "y_test [0, 0, 0, 0, 0, 1]\n",
      "\n",
      "8th time through\n",
      "y_train [0, 0, 0, 0, 0, 0, 0, 0, 0, 0, 1, 0, 0, 1]\n",
      "y_test [0, 0, 0, 0, 0, 0]\n",
      "\n",
      "9th time through\n",
      "y_train [0, 0, 0, 0, 1, 0, 0, 0, 0, 0, 1, 0, 0, 0]\n",
      "y_test [0, 0, 0, 0, 0, 0]\n",
      "\n",
      "10th time through\n",
      "y_train [0, 0, 0, 0, 0, 0, 0, 0, 0, 0, 0, 0, 0, 0]\n",
      "y_test [1, 0, 0, 1, 0, 0]\n",
      "\n",
      "11th time through\n",
      "y_train [0, 0, 0, 0, 1, 0, 0, 0, 0, 0, 0, 0, 0, 1]\n",
      "y_test [0, 0, 0, 0, 0, 0]\n",
      "\n",
      "12th time through\n",
      "y_train [0, 0, 0, 0, 0, 0, 0, 1, 1, 0, 0, 0, 0, 0]\n",
      "y_test [0, 0, 0, 0, 0, 0]\n",
      "\n",
      "13th time through\n",
      "y_train [0, 0, 0, 0, 0, 0, 0, 1, 0, 0, 0, 0, 0, 1]\n",
      "y_test [0, 0, 0, 0, 0, 0]\n",
      "\n",
      "14th time through\n",
      "y_train [0, 0, 0, 0, 0, 0, 0, 0, 0, 0, 0, 0, 0, 0]\n",
      "y_test [1, 0, 0, 1, 0, 0]\n",
      "\n",
      "15th time through\n",
      "y_train [0, 0, 0, 0, 0, 0, 0, 0, 0, 0, 0, 0, 0, 0]\n",
      "y_test [0, 1, 0, 0, 1, 0]\n",
      "\n",
      "16th time through\n",
      "y_train [0, 0, 0, 0, 0, 0, 1, 0, 0, 1, 0, 0, 0, 0]\n",
      "y_test [0, 0, 0, 0, 0, 0]\n",
      "\n",
      "17th time through\n",
      "y_train [0, 0, 0, 0, 0, 0, 0, 0, 0, 0, 0, 0, 0, 1]\n",
      "y_test [0, 0, 0, 0, 0, 1]\n",
      "\n",
      "18th time through\n",
      "y_train [0, 0, 0, 0, 1, 0, 0, 0, 0, 0, 0, 0, 0, 0]\n",
      "y_test [0, 0, 0, 1, 0, 0]\n",
      "\n",
      "19th time through\n",
      "y_train [0, 0, 0, 0, 0, 0, 0, 0, 0, 0, 1, 0, 0, 0]\n",
      "y_test [0, 1, 0, 0, 0, 0]\n",
      "\n",
      "20th time through\n",
      "y_train [0, 0, 0, 0, 0, 0, 1, 0, 0, 0, 0, 0, 0, 0]\n",
      "y_test [0, 0, 0, 1, 0, 0]\n",
      "\n",
      "21th time through\n",
      "y_train [0, 0, 0, 0, 0, 0, 0, 0, 0, 0, 1, 1, 0, 0]\n",
      "y_test [0, 0, 0, 0, 0, 0]\n",
      "\n",
      "22th time through\n",
      "y_train [0, 0, 0, 0, 0, 0, 0, 0, 1, 0, 0, 1, 0, 0]\n",
      "y_test [0, 0, 0, 0, 0, 0]\n",
      "\n",
      "23th time through\n",
      "y_train [0, 0, 0, 1, 0, 0, 0, 0, 0, 1, 0, 0, 0, 0]\n",
      "y_test [0, 0, 0, 0, 0, 0]\n",
      "\n",
      "24th time through\n",
      "y_train [0, 0, 0, 0, 0, 0, 0, 0, 0, 0, 0, 1, 0, 0]\n",
      "y_test [1, 0, 0, 0, 0, 0]\n",
      "\n",
      "25th time through\n",
      "y_train [0, 0, 0, 0, 0, 1, 0, 0, 0, 0, 0, 0, 0, 0]\n",
      "y_test [1, 0, 0, 0, 0, 0]\n",
      "\n",
      "26th time through\n",
      "y_train [0, 0, 0, 0, 0, 0, 0, 0, 0, 0, 0, 0, 1, 1]\n",
      "y_test [0, 0, 0, 0, 0, 0]\n",
      "\n",
      "27th time through\n",
      "y_train [0, 0, 0, 0, 0, 0, 0, 0, 0, 0, 0, 0, 1, 0]\n",
      "y_test [0, 0, 0, 0, 0, 1]\n",
      "\n",
      "28th time through\n",
      "y_train [0, 0, 0, 1, 0, 0, 0, 0, 0, 0, 0, 0, 0, 0]\n",
      "y_test [0, 0, 0, 0, 1, 0]\n",
      "\n",
      "29th time through\n",
      "y_train [0, 0, 0, 0, 0, 0, 0, 0, 0, 0, 0, 1, 0, 0]\n",
      "y_test [0, 0, 1, 0, 0, 0]\n",
      "\n",
      "30th time through\n",
      "y_train [0, 0, 0, 0, 0, 0, 0, 0, 0, 0, 0, 0, 0, 1]\n",
      "y_test [1, 0, 0, 0, 0, 0]\n",
      "\n",
      "31th time through\n",
      "y_train [0, 0, 0, 0, 0, 0, 0, 0, 0, 0, 0, 0, 1, 0]\n",
      "y_test [0, 0, 1, 0, 0, 0]\n",
      "\n",
      "32th time through\n",
      "y_train [0, 0, 0, 0, 0, 0, 0, 0, 0, 0, 0, 0, 0, 0]\n",
      "y_test [0, 0, 0, 0, 1, 1]\n",
      "\n",
      "33th time through\n",
      "y_train [1, 0, 0, 0, 0, 0, 0, 0, 0, 0, 0, 0, 0, 1]\n",
      "y_test [0, 0, 0, 0, 0, 0]\n",
      "\n",
      "34th time through\n",
      "y_train [0, 0, 1, 0, 0, 1, 0, 0, 0, 0, 0, 0, 0, 0]\n",
      "y_test [0, 0, 0, 0, 0, 0]\n",
      "\n",
      "35th time through\n",
      "y_train [0, 0, 0, 0, 0, 0, 0, 0, 1, 0, 0, 0, 0, 0]\n",
      "y_test [0, 0, 0, 0, 1, 0]\n",
      "\n",
      "36th time through\n",
      "y_train [0, 0, 1, 0, 1, 0, 0, 0, 0, 0, 0, 0, 0, 0]\n",
      "y_test [0, 0, 0, 0, 0, 0]\n",
      "\n",
      "37th time through\n",
      "y_train [0, 0, 0, 0, 1, 0, 0, 0, 0, 0, 0, 0, 0, 0]\n",
      "y_test [0, 0, 0, 0, 1, 0]\n",
      "\n",
      "38th time through\n",
      "y_train [0, 0, 0, 0, 0, 0, 1, 0, 0, 0, 0, 0, 0, 0]\n",
      "y_test [0, 1, 0, 0, 0, 0]\n",
      "\n",
      "39th time through\n",
      "y_train [0, 0, 0, 0, 0, 0, 1, 0, 0, 0, 1, 0, 0, 0]\n",
      "y_test [0, 0, 0, 0, 0, 0]\n",
      "\n"
     ]
    }
   ],
   "source": [
    "## running this in a loop 40 times\n",
    "\n",
    "for i in range(40):\n",
    "    y_train, y_test = train_test_split(y,\n",
    "                                      shuffle=True,\n",
    "                                      test_size=.3)\n",
    "    print(str(i)+\"th\",\"time through\")\n",
    "    print(\"y_train\", y_train)\n",
    "    print(\"y_test\", y_test)\n",
    "    print()"
   ]
  },
  {
   "cell_type": "markdown",
   "metadata": {},
   "source": [
    "We can notice that sometimes the test set has no `1` observations in it, sometimes it only has `1`s. In cases like this it would be impossible to train a classification algorithm to predict `1`."
   ]
  },
  {
   "cell_type": "markdown",
   "metadata": {},
   "source": [
    "##### b. \n",
    "\n",
    "Look up the `train_test_split` documentation and check out the `stratify` argument. What does this argument do, can we use this to help with the issue identified in 1.?"
   ]
  },
  {
   "cell_type": "markdown",
   "metadata": {},
   "source": [
    "##### ANSWER\n",
    "\n",
    "The `stratify` argument separates the data set we're interested in splitting and separates it according to the values of a categorical variable. It then performs the train-test split on each resulting subset. When it is done making the split it recombines the data into a single train and a single test set. This ensures that at least some observations of each category are in the train set and the test set. Yes this can help us with the issue we had in 1."
   ]
  },
  {
   "cell_type": "markdown",
   "metadata": {},
   "source": [
    "##### c.\n",
    "\n",
    "Implement `train_test_split` using `stratify=y` and see what results. Run it many times without a random seed, are there any issues?"
   ]
  },
  {
   "cell_type": "code",
   "execution_count": 7,
   "metadata": {},
   "outputs": [
    {
     "name": "stdout",
     "output_type": "stream",
     "text": [
      "0th time through\n",
      "y_train [0, 0, 0, 0, 0, 1, 0, 0, 0, 0, 0, 0, 0, 0]\n",
      "y_test [0, 0, 0, 1, 0, 0]\n",
      "\n",
      "1th time through\n",
      "y_train [0, 0, 0, 0, 1, 0, 0, 0, 0, 0, 0, 0, 0, 0]\n",
      "y_test [0, 0, 0, 0, 1, 0]\n",
      "\n",
      "2th time through\n",
      "y_train [0, 0, 0, 0, 0, 0, 0, 0, 1, 0, 0, 0, 0, 0]\n",
      "y_test [1, 0, 0, 0, 0, 0]\n",
      "\n",
      "3th time through\n",
      "y_train [0, 0, 0, 0, 0, 0, 1, 0, 0, 0, 0, 0, 0, 0]\n",
      "y_test [0, 0, 1, 0, 0, 0]\n",
      "\n",
      "4th time through\n",
      "y_train [0, 1, 0, 0, 0, 0, 0, 0, 0, 0, 0, 0, 0, 0]\n",
      "y_test [0, 0, 0, 0, 1, 0]\n",
      "\n",
      "5th time through\n",
      "y_train [0, 0, 0, 0, 0, 0, 0, 0, 0, 0, 0, 1, 0, 0]\n",
      "y_test [0, 0, 0, 1, 0, 0]\n",
      "\n",
      "6th time through\n",
      "y_train [0, 0, 0, 0, 0, 0, 0, 0, 0, 1, 0, 0, 0, 0]\n",
      "y_test [0, 0, 0, 0, 0, 1]\n",
      "\n",
      "7th time through\n",
      "y_train [0, 0, 0, 0, 0, 0, 0, 0, 0, 1, 0, 0, 0, 0]\n",
      "y_test [0, 0, 0, 0, 0, 1]\n",
      "\n",
      "8th time through\n",
      "y_train [0, 0, 0, 0, 0, 0, 0, 0, 0, 1, 0, 0, 0, 0]\n",
      "y_test [0, 0, 0, 1, 0, 0]\n",
      "\n",
      "9th time through\n",
      "y_train [0, 0, 0, 0, 0, 0, 0, 0, 0, 0, 0, 0, 0, 1]\n",
      "y_test [0, 0, 0, 1, 0, 0]\n",
      "\n"
     ]
    }
   ],
   "source": [
    "## running this in a loop 10 times\n",
    "\n",
    "for i in range(10):\n",
    "    y_train, y_test = train_test_split(y,\n",
    "                                      shuffle=True,\n",
    "                                      test_size=.3,\n",
    "                                      stratify=y)\n",
    "    print(str(i)+\"th\",\"time through\")\n",
    "    print(\"y_train\", y_train)\n",
    "    print(\"y_test\", y_test)\n",
    "    print()"
   ]
  },
  {
   "cell_type": "markdown",
   "metadata": {},
   "source": [
    "--------------------------\n",
    "\n",
    "This notebook was written for the Erd&#337;s Institute C&#337;de Data Science Boot Camp by Matthew Osborne, Ph. D., 2023.\n",
    "\n",
    "Any potential redistributors must seek and receive permission from Matthew Tyler Osborne, Ph.D. prior to redistribution. Redistribution of the material contained in this repository is conditional on acknowledgement of Matthew Tyler Osborne, Ph.D.'s original authorship and sponsorship of the Erdős Institute as subject to the license (see License.md)"
   ]
  }
 ],
 "metadata": {
  "kernelspec": {
   "display_name": "Python 3 (ipykernel)",
   "language": "python",
   "name": "python3"
  },
  "language_info": {
   "codemirror_mode": {
    "name": "ipython",
    "version": 3
   },
   "file_extension": ".py",
   "mimetype": "text/x-python",
   "name": "python",
   "nbconvert_exporter": "python",
   "pygments_lexer": "ipython3",
   "version": "3.11.7"
  }
 },
 "nbformat": 4,
 "nbformat_minor": 4
}
